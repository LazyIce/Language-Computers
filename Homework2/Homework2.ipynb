{
 "cells": [
  {
   "cell_type": "markdown",
   "metadata": {},
   "source": [
    "### exercise2"
   ]
  },
  {
   "cell_type": "code",
   "execution_count": 1,
   "metadata": {},
   "outputs": [
    {
     "data": {
      "text/plain": [
       "'dish'"
      ]
     },
     "execution_count": 1,
     "metadata": {},
     "output_type": "execute_result"
    }
   ],
   "source": [
    "'dishes'[:-2]"
   ]
  },
  {
   "cell_type": "code",
   "execution_count": 2,
   "metadata": {},
   "outputs": [
    {
     "data": {
      "text/plain": [
       "'run'"
      ]
     },
     "execution_count": 2,
     "metadata": {},
     "output_type": "execute_result"
    }
   ],
   "source": [
    "'running'[:-4]"
   ]
  },
  {
   "cell_type": "code",
   "execution_count": 3,
   "metadata": {},
   "outputs": [
    {
     "data": {
      "text/plain": [
       "'nation'"
      ]
     },
     "execution_count": 3,
     "metadata": {},
     "output_type": "execute_result"
    }
   ],
   "source": [
    "'nationality'[:-5]"
   ]
  },
  {
   "cell_type": "code",
   "execution_count": 4,
   "metadata": {},
   "outputs": [
    {
     "data": {
      "text/plain": [
       "'do'"
      ]
     },
     "execution_count": 4,
     "metadata": {},
     "output_type": "execute_result"
    }
   ],
   "source": [
    "'undo'[2:]"
   ]
  },
  {
   "cell_type": "code",
   "execution_count": 5,
   "metadata": {},
   "outputs": [
    {
     "data": {
      "text/plain": [
       "'heat'"
      ]
     },
     "execution_count": 5,
     "metadata": {},
     "output_type": "execute_result"
    }
   ],
   "source": [
    "'preheat'[3:]"
   ]
  },
  {
   "cell_type": "markdown",
   "metadata": {},
   "source": [
    "### exercise4"
   ]
  },
  {
   "cell_type": "code",
   "execution_count": 6,
   "metadata": {},
   "outputs": [
    {
     "data": {
      "text/plain": [
       "'Pto'"
      ]
     },
     "execution_count": 6,
     "metadata": {},
     "output_type": "execute_result"
    }
   ],
   "source": [
    "monty = 'Monty Python'\n",
    "monty[6:11:2]"
   ]
  },
  {
   "cell_type": "code",
   "execution_count": 7,
   "metadata": {},
   "outputs": [
    {
     "data": {
      "text/plain": [
       "'otP'"
      ]
     },
     "execution_count": 7,
     "metadata": {},
     "output_type": "execute_result"
    }
   ],
   "source": [
    "monty[10:5:-2]"
   ]
  },
  {
   "cell_type": "code",
   "execution_count": 8,
   "metadata": {},
   "outputs": [
    {
     "data": {
      "text/plain": [
       "'onty Pytho'"
      ]
     },
     "execution_count": 8,
     "metadata": {},
     "output_type": "execute_result"
    }
   ],
   "source": [
    "monty[1:-1:1]"
   ]
  },
  {
   "cell_type": "code",
   "execution_count": 9,
   "metadata": {},
   "outputs": [
    {
     "data": {
      "text/plain": [
       "'nt n'"
      ]
     },
     "execution_count": 9,
     "metadata": {},
     "output_type": "execute_result"
    }
   ],
   "source": [
    "monty[-1:1:-3]"
   ]
  },
  {
   "cell_type": "code",
   "execution_count": 10,
   "metadata": {},
   "outputs": [
    {
     "data": {
      "text/plain": [
       "''"
      ]
     },
     "execution_count": 10,
     "metadata": {},
     "output_type": "execute_result"
    }
   ],
   "source": [
    "monty[5:5:2]"
   ]
  },
  {
   "cell_type": "markdown",
   "metadata": {},
   "source": [
    "### exercise6"
   ]
  },
  {
   "cell_type": "code",
   "execution_count": 11,
   "metadata": {},
   "outputs": [],
   "source": [
    "import nltk\n",
    "import re"
   ]
  },
  {
   "cell_type": "code",
   "execution_count": 12,
   "metadata": {},
   "outputs": [
    {
     "name": "stdout",
     "output_type": "stream",
     "text": [
      "{Hello} {world}\n"
     ]
    }
   ],
   "source": [
    "# a - one or more letters\n",
    "nltk.re_show(r'[a-zA-Z]+', 'Hello world')"
   ]
  },
  {
   "cell_type": "code",
   "execution_count": 13,
   "metadata": {},
   "outputs": [
    {
     "name": "stdout",
     "output_type": "stream",
     "text": [
      "{Hello} world\n"
     ]
    }
   ],
   "source": [
    "# b - one capital letter and zero or more lowercase letter\n",
    "nltk.re_show(r'[A-Z][a-z]*', 'Hello world')"
   ]
  },
  {
   "cell_type": "code",
   "execution_count": 14,
   "metadata": {},
   "outputs": [
    {
     "name": "stdout",
     "output_type": "stream",
     "text": [
      "{pet} likes {peet} and {pout}e\n"
     ]
    }
   ],
   "source": [
    "# c - the string that starts with p, then followed by no more than 2 lowercase vowels and ends with t\n",
    "nltk.re_show(r'p[aeiou]{,2}t', 'pet likes peet and poute')"
   ]
  },
  {
   "cell_type": "code",
   "execution_count": 15,
   "metadata": {},
   "outputs": [
    {
     "name": "stdout",
     "output_type": "stream",
     "text": [
      "{4.2} plus {2.8} equals {6}\n"
     ]
    }
   ],
   "source": [
    "# d - integer or decimal number\n",
    "nltk.re_show(r'\\d+(\\.\\d+)?', '4.2 plus 2.8 equals 6')"
   ]
  },
  {
   "cell_type": "code",
   "execution_count": 16,
   "metadata": {},
   "outputs": [
    {
     "name": "stdout",
     "output_type": "stream",
     "text": [
      "{}s{}w{}e{}e{}t{} {hon}e{}y{}\n"
     ]
    }
   ],
   "source": [
    "# e - zero or more sequence of (non-vowel, vowel, non-vowel)\n",
    "nltk.re_show(r'([^aeiou][aeiou][^aeiou])*', 'sweet honey')"
   ]
  },
  {
   "cell_type": "code",
   "execution_count": 17,
   "metadata": {},
   "outputs": [
    {
     "name": "stdout",
     "output_type": "stream",
     "text": [
      "{Language} {&} {Computers} {is} {interesting}\n"
     ]
    }
   ],
   "source": [
    "# f - one or more alphanumeric characters or one or more non-alphanumeric and non-whitespace charcters\n",
    "nltk.re_show(r'\\w+|[^\\w\\s]+', 'Language & Computers is interesting')"
   ]
  },
  {
   "cell_type": "markdown",
   "metadata": {},
   "source": [
    "### exercise8"
   ]
  },
  {
   "cell_type": "code",
   "execution_count": 25,
   "metadata": {},
   "outputs": [
    {
     "data": {
      "text/plain": [
       "'\\n\\n\\n\\n\\n\\n\\n\\n\\nGeorgia Tech\\n\\n\\n\\n\\n\\n\\n\\n\\n\\n\\n\\n\\n\\n\\n\\n<!--//--><![CDATA[//><!--\\nwindow.jQuery || document.write(\"<script src=\\'/sites/all/modules/jquery_update/replace/jquery/1.10/jquery.min.js\\'>\\\\x3C/script>\")\\n//--><!]]>\\n\\n\\n\\n\\n\\n<!--//--><![CDATA[//><!--\\n(function(i,s,o,g,r,a,m){i[\"GoogleAnalyticsObject\"]=r;i[r]=i[r]||function(){(i[r].q=i[r].q||[]).push(arguments)},i[r].l=1*new Date();a=s.createElement(o),m=s.getElementsByTagName(o)[0];a.async=1;a.src=g;m.parentNode.insertBefore(a,m)})(window,document,\"script\",\"https://www.google-analytics.com/analytics.js\",\"ga\");ga(\"create\", \"UA-3585337-1\", {\"cookieDomain\":\"auto\"});ga(\"set\", \"page\", location.pathname + location.search + location.hash);ga(\"send\", \"pageview\");\\n//--><!]]>\\n\\n\\n\\n\\n\\n<!--//--><![CDATA[//><!--\\njQuery.extend(Drupal.settings, {\"basePath\":\"\\\\/\",\"pathPrefix\":\"\",\"ajaxPageState\":{\"theme\":\"gt_tlw\",\"theme_token\":\"hUbGe1f2h6A5dAMhc0sPMwW7IyA7__kjqisPTZUS8w4\",\"js\":{\"\\\\/\\\\/ajax.googleapis.com\\\\/ajax\\\\/libs\\\\/jquery\\\\/1.10.2\\\\/jquery.min.js\":1,\"0\":1,\"misc\\\\/jquery.once.js\":1,\"misc\\\\/drupal.js\":1,\"sites\\\\/all\\\\/modules\\\\/google_cse\\\\/google_cse.js\":1,\"sites\\\\/all\\\\/modules\\\\/gt_ct_super_block\\\\/js\\\\/gt_ct_super_block.js\":1,\"sites\\\\/all\\\\/modules\\\\/google_analytics\\\\/googleanalytics.js\":1,\"1\":1,\"https:\\\\/\\\\/maxcdn.bootstrapcdn.com\\\\/bootstrap\\\\/4.3.0\\\\/js\\\\/bootstrap.min.js\":1,\"https:\\\\/\\\\/cdnjs.cloudflare.com\\\\/ajax\\\\/libs\\\\/popper.js\\\\/1.11.0\\\\/umd\\\\/popper.min.js\":1,\"sites\\\\/all\\\\/themes\\\\/gt\\\\/js\\\\/html5shiv.js\":1,\"sites\\\\/all\\\\/themes\\\\/gt\\\\/js\\\\/gt.js\":1,\"sites\\\\/all\\\\/themes\\\\/gt_tlw\\\\/js\\\\/gt_tlw.js\":1},\"css\":{\"modules\\\\/system\\\\/system.base.css\":1,\"modules\\\\/system\\\\/system.menus.css\":1,\"modules\\\\/system\\\\/system.messages.css\":1,\"modules\\\\/system\\\\/system.theme.css\":1,\"sites\\\\/all\\\\/modules\\\\/date\\\\/date_api\\\\/date.css\":1,\"sites\\\\/all\\\\/modules\\\\/date\\\\/date_popup\\\\/themes\\\\/datepicker.1.7.css\":1,\"sites\\\\/all\\\\/modules\\\\/date\\\\/date_repeat_field\\\\/date_repeat_field.css\":1,\"modules\\\\/field\\\\/theme\\\\/field.css\":1,\"sites\\\\/all\\\\/modules\\\\/google_cse\\\\/google_cse.css\":1,\"sites\\\\/all\\\\/modules\\\\/gtens\\\\/gtens.css\":1,\"sites\\\\/all\\\\/modules\\\\/gt_ct_super_block\\\\/styles\\\\/css\\\\/gt_ct_super_block.css\":1,\"sites\\\\/all\\\\/modules\\\\/gt_expanded\\\\/css\\\\/gt_expanded_menu.css\":1,\"sites\\\\/all\\\\/modules\\\\/gt_expanded\\\\/css\\\\/gt_expanded.css\":1,\"sites\\\\/all\\\\/modules\\\\/gt_expanded\\\\/css\\\\/gt_expanded_superblocks.css\":1,\"sites\\\\/all\\\\/modules\\\\/gt_expanded\\\\/css\\\\/gt_expanded_admin.css\":1,\"sites\\\\/all\\\\/modules\\\\/gt_graphics\\\\/css\\\\/gt_graphics.css\":1,\"modules\\\\/node\\\\/node.css\":1,\"modules\\\\/search\\\\/search.css\":1,\"modules\\\\/user\\\\/user.css\":1,\"sites\\\\/all\\\\/modules\\\\/views\\\\/css\\\\/views.css\":1,\"sites\\\\/all\\\\/modules\\\\/ckeditor\\\\/css\\\\/ckeditor.css\":1,\"sites\\\\/all\\\\/modules\\\\/ctools\\\\/css\\\\/ctools.css\":1,\"https:\\\\/\\\\/maxcdn.bootstrapcdn.com\\\\/font-awesome\\\\/4.7.0\\\\/css\\\\/font-awesome.min.css\":1,\"https:\\\\/\\\\/stackpath.bootstrapcdn.com\\\\/bootstrap\\\\/4.1.3\\\\/css\\\\/bootstrap.min.css\":1,\"https:\\\\/\\\\/fonts.googleapis.com\\\\/css?family=Roboto:300,300italic,400,400italic,500,500italic,700,700italic\":1,\"https:\\\\/\\\\/fonts.googleapis.com\\\\/css?family=Roboto+Slab:400,700\":1,\"https:\\\\/\\\\/fonts.googleapis.com\\\\/css?family=Roboto+Condensed:400,700\":1,\"https:\\\\/\\\\/fonts.googleapis.com\\\\/css?family=Abel\":1,\"sites\\\\/all\\\\/themes\\\\/gt\\\\/css\\\\/reset.css\":1,\"sites\\\\/all\\\\/themes\\\\/gt\\\\/css\\\\/default.css\":1,\"sites\\\\/all\\\\/themes\\\\/gt\\\\/css\\\\/fonts.css\":1,\"sites\\\\/all\\\\/themes\\\\/gt\\\\/css\\\\/typography.css\":1,\"sites\\\\/all\\\\/themes\\\\/gt_tlw\\\\/css\\\\/layout.css\":1,\"sites\\\\/all\\\\/themes\\\\/gt\\\\/css\\\\/blocks.css\":1,\"sites\\\\/all\\\\/themes\\\\/gt\\\\/css\\\\/content.css\":1,\"sites\\\\/all\\\\/themes\\\\/gt\\\\/css\\\\/editor.css\":1,\"sites\\\\/all\\\\/themes\\\\/gt\\\\/css\\\\/hg_reader.css\":1,\"sites\\\\/all\\\\/themes\\\\/gt\\\\/css\\\\/search.css\":1,\"sites\\\\/all\\\\/themes\\\\/gt\\\\/css\\\\/bootstrap.css\":1,\"sites\\\\/all\\\\/themes\\\\/gt\\\\/css\\\\/base.css\":1,\"sites\\\\/all\\\\/themes\\\\/gt_tlw\\\\/css\\\\/gt_tlw.css\":1,\"sites\\\\/all\\\\/themes\\\\/gt_tlw\\\\/css\\\\/gt_custom.css\":1,\"sites\\\\/all\\\\/themes\\\\/gt_tlw\\\\/css\\\\/gt_creating_the_next.css\":1,\"sites\\\\/all\\\\/themes\\\\/gt_tlw\\\\/css\\\\/gt_tlw_mm.css\":1,\"sites\\\\/all\\\\/themes\\\\/gt_tlw\\\\/css\\\\/tlw-emergency.css\":1,\"sites\\\\/all\\\\/themes\\\\/gt_tlw\\\\/css\\\\/tlw-id-specific.css\":1,\"sites\\\\/all\\\\/themes\\\\/gt_tlw\\\\/css\\\\/gt_video.css\":1,\"sites\\\\/all\\\\/themes\\\\/gt\\\\/css\\\\/print.css\":1}},\"googleCSE\":{\"cx\":\"009986248007870151065:-stxd8umba8\",\"language\":\"\",\"resultsWidth\":600,\"domain\":\"www.google.com\",\"showWaterMark\":true},\"googleanalytics\":{\"trackOutbound\":1,\"trackMailto\":1,\"trackDownload\":1,\"trackDownloadExtensions\":\"7z|aac|arc|arj|asf|asx|avi|bin|csv|doc(x|m)?|dot(x|m)?|exe|flv|gif|gz|gzip|hqx|jar|jpe?g|js|mp(2|3|4|e?g)|mov(ie)?|msi|msp|pdf|phps|png|ppt(x|m)?|pot(x|m)?|pps(x|m)?|ppam|sld(x|m)?|thmx|qtm?|ra(m|r)?|sea|sit|tar|tgz|torrent|txt|wav|wma|wmv|wpd|xls(x|m|b)?|xlt(x|m)|xlam|xml|z|zip\",\"trackUrlFragments\":1},\"urlIsAjaxTrusted\":{\"\\\\/search\\\\/google\":true}});\\n//--><!]]>\\n\\n\\n\\n\\nSkip to content\\n\\n\\n\\n\\n\\n\\n\\n\\n\\n\\n\\n\\n\\n\\n\\n\\n\\n\\n\\n\\n\\n\\n\\n\\n\\n\\n\\n\\n\\n\\n\\n\\n\\n\\n\\n\\n\\n\\n\\n\\n\\n\\n\\n\\n\\n\\nToggle navigation\\n\\n\\n\\n\\n\\n\\n\\n\\n\\n\\n\\n\\n\\n\\n\\n\\n\\nAbout About Georgia Tech\\nVisitor Information\\nOffice and Department Directory\\nStudent, Staff, and Faculty Directory\\nInstitute Leadership\\nCreating the Next...\\nEthics\\nStrategic Vision\\nCareers at Tech\\n\\nAcademics Academic Environment\\nMajors and Degrees\\nColleges and Schools\\nContinuing and Professional Education\\nGeorgia Tech Online\\nAcademic Calendar\\n\\nAdmissions Prospective Students\\nAdmissions Overview\\nCampus Tours\\nTuition and Costs\\nFinancial Aid & Scholarships\\nDigital Swag\\n\\nCampus Life Explore the Main Campus\\nStudent Activities\\n\\nAthletics Georgia Tech Yellow JacketsTickets\\nRamblin Wreck Store\\n\\n\\nResearch Core Research Areas\\nInnovation and Entrepreneurship\\nResearch News\\n\\nNews & Events News Center\\nExperts Guide\\nFeature Stories\\nCampus Calendar\\nMedia Contacts\\n\\n \\n\\n\\n\\nApply\\nGive\\n \\n\\n\\nSearch\\n\\nSearch form\\nEnter your keywords \\n\\n\\n\\n\\n \\n\\n\\n\\n\\n\\n\\n\\n\\n\\n\\n\\n\\n\\n\\n\\n\\n\\n\\n\\n\\n \\n\\n\\n\\nGeorgia Tech’s Economic Impact on Atlanta Clocks in at $3.3B in 2018\\n  The Georgia Institute of Technology’s impact on Atlanta’s economy grew 8.5% between 2017 and 2018, according to a new analysis released August 20.\\n\\n\\n\\n\\n\\n\\n\\n\\n\\n\\n\\n \\n\\n\\n\\nTeaming Up for Kids\\n  Working with clinicians, Georgia Tech researchers develop innovative technology to fill the gaps in pediatric research – and save children\\'s lives.\\n\\n\\n\\n\\n\\n\\n\\n\\n\\n\\n\\n \\n\\n\\n\\nAge of Empowerment: Diley Hernandez\\n  This Cuba native was in high school when she became fascinated by psychology. At Georgia Tech, she works with K-12 students and teachers to engage them in STEM subjects and careers.\\n\\n\\n\\n\\n\\n\\n\\n \\n\\n\\n\\n\\n\\n\\n\\nYou are here: GT Home\\n\\n\\n\\n\\nGeorgia Tech\\n\\n\\n\\n\\n\\n\\n\\n\\n\\n\\n\\n\\n\\n\\n\\n\\n\\nMajors and Degrees\\n\\nGeorgia Tech offers a wide variety of technologically focused degrees. Explore the more than 130 majors and minors available.\\n\\n\\n\\n \\n \\n\\n\\n\\n\\n\\n\\nProspective Students\\n\\nChoosing the right college can be complex. Learn more about Georgia Tech\\'s academics, admissions, campus life, costs, and aid.\\n\\n\\n\\n \\n \\n\\n\\n\\n\\n\\n\\nAdmissions\\n\\nOur holistic admission process considers your academic background as well as your pursuits and interests outside the classroom.\\n\\n\\n\\n \\n \\n\\n\\n\\n\\n\\n\\nAlumni Association\\n\\nConnecting our global network of alumni through events, volunteer opportunities, and career help.\\n\\n\\n\\n \\n \\n\\n\\n\\n\\n\\n\\nGovernment Relations\\n\\nWorking with government partners to advance the Institute and our surrounding communities.\\n\\n\\n\\n \\n \\n\\n\\n\\n\\n\\n\\nResearch\\n\\nBreaking down barriers and collaborating on research at the intersection of disciplines.\\n\\n\\n\\n \\n \\n\\n\\n\\n\\n\\nUpcoming Events\\n\\n\\n\\n\\n\\n\\n\\n\\n\\nFriday\\nAug\\n30\\n\\n\\n\\nVolleyball vs. Long Beach State\\nO\\'Keefe Gymnasium\\n7:00pm\\nVolleyball hosts California State University, Long Beach as part of the Georgia Tech Invitational.\\n\\n\\n\\n\\n\\n\\n\\nWednesday\\nSep\\n4\\n\\n\\n\\n11th Annual Diversity Symposium \\nAtlanta, GA\\n8:00am to 4:30pm\\nPlease save the date, September 4, 2019, for Georgia Tech’s 11th Annual Diversity Symposium, “Georgia Tech\\'s Racial Diversity Journey: Recognizing Our Past, Acknowledging Our Present, and Charting Our Future.”\\n\\n\\n\\n\\n\\nUpcoming Events | View Calendar\\n\\n \\n \\n\\nRecent News\\n\\n\\n\\n\\n\\n\\n  \\n\\n\\nResearch, Sponsored Activity Awards Top $1 Billion at Georgia Tech\\nAugust 26, 2019\\nResearch, economic development and other sponsored activities at Georgia Tech passed a significant milestone during the fiscal year that concluded on June 30.\\n\\n  \\n\\n  \\n\\n\\nMillions of Children Exposed to Opioid Misuse at Home, New Georgia Tech Study Reveals\\nAugust 21, 2019\\nThe study is from Lindsey Bullinger of the School of Public Policy and a co-author from Indiana University.\\n\\n  \\n\\n\\nRecent News | View News \\n \\n \\n\\n\\n\\n\\n\\n\\nCOMPREHENSIVE ADMINISTRATIVE REVIEW (CAR) UPDATES\\nGo to the CAR Report website\\n \\n \\n\\nNOTICE: 2019 Cybersecurity Incident and Institute Response\\n\\n\\nGeorgia Tech recently discovered that unauthorized access to a web application exposed the personal information for up to 1.3 million individuals. This page was created to provide up-to-date information on the data exposure as well as institutional responses. As the Institute continues to investigate this incident, we ask that you be patient and check this site for more information. Georgia Tech apologizes for the potential impact on the individuals affected and our larger community.\\nMore Information\\n\\n \\n\\n\\n \\n\\n\\n\\n\\n\\n\\n\\n\\nFacebook\\nTwitter\\nYouTube\\nLinkedIn\\nGoogle Plus\\nInstagram\\nFlickr\\nPinterest\\nRSS\\n\\n\\n\\n\\n\\nGeorgia Tech Resources\\n\\nOffices & Departments\\nNews Center\\nCampus Calendar\\nSpecial Events\\nGreenBuzz\\nInstitute CommunicationsVisitor ResourcesCampus Visits\\nDirections to Campus\\nVisitor Parking Information\\nGTvisitor Wireless Network Information\\nGeorgia Tech Global Learning Center\\nGeorgia Tech Hotel & Conference Center\\nBarnes & Noble at Georgia Tech\\nFerst Center for the Arts\\nRobert C. Williams Paper Museum\\n\\n\\n\\nColleges, Instructional Sites & Research\\n\\nColleges\\nCollege of Computing\\nCollege of Design\\nCollege of Engineering\\nCollege of Sciences\\nIvan Allen College of Liberal Arts\\nScheller College of Business\\nInstructional Sites\\nGeorgia Tech-Lorraine\\nGeorgia Tech-Savannah\\nGeorgia Tech-Shenzhen\\nGeorgia Tech Online\\nProfessional Education\\nThe Language Institute\\nGlobal Footprint\\nGlobal Engagement\\nResearch\\nGeorgia Tech Research Institute\\nResearch at Georgia Tech\\nExecutive Vice President for Research\\n\\n\\n\\nStudent & Parent Resources\\n\\nStudent Resources\\nApply\\nBuzzPort\\nBuzzcard\\nCareer Resources\\nCommencement\\nLibrary\\nStudent Life\\nStudent Entrepreneurship\\nStudy Abroad\\nCanvas\\nParent Resources\\nParent and Family Programs\\nStudent Life\\nScholarships & Financial Aid\\n\\n\\n\\nEmployee, Alumni, & Other Resources\\n\\nEmployees\\nAdministration and Finance\\nAdvising & Teaching\\nFaculty Affairs\\nFaculty Hiring\\nHuman Resources\\nOffice of the Provost\\nTechWorks\\nAlumni\\nAlumni Association\\nAlumni Career Services\\nGiving Back to Tech\\nOutreach\\nStartup Companies\\nEconomic Development\\nIndustry Engagement\\nGovernment & Community Partners\\nProfessional Education\\n\\nGeorgia Institute of TechnologyNorth Avenue, Atlanta, GA 30332Phone: 404-894-2000\\n\\n\\n\\n\\n\\n\\n\\n\\n\\n\\n\\n\\n\\nGeorgia Institute of Technology\\n                                North Avenue, Atlanta, GA 30332\\n                                404.894.2000\\n\\n\\n\\n\\nDirectory\\nEmergency Information\\nLegal & Privacy Information\\nHuman\\n                                    Trafficking Notice\\n\\n\\n\\n\\nAccessibility\\nAccountability\\nAccreditation\\nEmployment\\n\\n\\n\\n\\n\\n© Georgia Institute of\\n                                Technology\\n\\n\\nLogin\\n\\n\\n\\n\\n\\n\\n\\n\\n\\n\\n\\n\\n\\n\\n\\n'"
      ]
     },
     "execution_count": 25,
     "metadata": {},
     "output_type": "execute_result"
    }
   ],
   "source": [
    "from urllib import request\n",
    "from bs4 import BeautifulSoup\n",
    "\n",
    "def get_content_without_html(url):\n",
    "    html = request.urlopen(url).read().decode('utf8')\n",
    "    text = BeautifulSoup(html, 'html.parser').get_text()\n",
    "    \n",
    "    return text\n",
    "\n",
    "get_content_without_html('https://www.gatech.edu/')"
   ]
  },
  {
   "cell_type": "markdown",
   "metadata": {},
   "source": [
    "### exercise10"
   ]
  },
  {
   "cell_type": "code",
   "execution_count": 26,
   "metadata": {},
   "outputs": [
    {
     "name": "stdout",
     "output_type": "stream",
     "text": [
      "[('The', 3), ('dog', 3), ('gave', 4), ('John', 4), ('the', 3), ('newspaper', 9)]\n"
     ]
    }
   ],
   "source": [
    "sent = ['The', 'dog', 'gave', 'John', 'the', 'newspaper']\n",
    "result = [(w, len(w)) for w in sent]\n",
    "print(result)"
   ]
  },
  {
   "cell_type": "markdown",
   "metadata": {},
   "source": [
    "### exercise12"
   ]
  },
  {
   "cell_type": "code",
   "execution_count": 28,
   "metadata": {},
   "outputs": [
    {
     "name": "stdout",
     "output_type": "stream",
     "text": [
      "l\n",
      "a\n",
      "n\n",
      "g\n",
      "u\n",
      "a\n",
      "g\n",
      "e\n"
     ]
    }
   ],
   "source": [
    "for char in 'language':\n",
    "    print(char)"
   ]
  },
  {
   "cell_type": "markdown",
   "metadata": {},
   "source": [
    "### exercise14"
   ]
  },
  {
   "cell_type": "code",
   "execution_count": 32,
   "metadata": {},
   "outputs": [
    {
     "name": "stdout",
     "output_type": "stream",
     "text": [
      "['language', 'and', 'computers', 'are', 'interesting']\n",
      "['and', 'are', 'computers', 'interesting', 'language']\n",
      "None\n"
     ]
    }
   ],
   "source": [
    "words = ['language', 'and', 'computers', 'are', 'interesting']\n",
    "print(words)\n",
    "sort1 = words.sort()\n",
    "print(words)\n",
    "print(sort1)"
   ]
  },
  {
   "cell_type": "code",
   "execution_count": 34,
   "metadata": {},
   "outputs": [
    {
     "name": "stdout",
     "output_type": "stream",
     "text": [
      "['language', 'and', 'computers', 'are', 'interesting']\n",
      "['and', 'are', 'computers', 'interesting', 'language']\n"
     ]
    }
   ],
   "source": [
    "words = ['language', 'and', 'computers', 'are', 'interesting']\n",
    "sort2 = sorted(words)\n",
    "print(words)\n",
    "print(sort2)"
   ]
  },
  {
   "cell_type": "markdown",
   "metadata": {},
   "source": [
    "sort() function changes the original list and doesn't return a new list. sorted() function doesn't change the original list and return a new sorted list."
   ]
  },
  {
   "cell_type": "markdown",
   "metadata": {},
   "source": [
    "### exercise16"
   ]
  },
  {
   "cell_type": "code",
   "execution_count": 35,
   "metadata": {},
   "outputs": [
    {
     "data": {
      "text/plain": [
       "'Monty Python'"
      ]
     },
     "execution_count": 35,
     "metadata": {},
     "output_type": "execute_result"
    }
   ],
   "source": [
    "from prog import monty\n",
    "monty"
   ]
  },
  {
   "cell_type": "code",
   "execution_count": 36,
   "metadata": {},
   "outputs": [
    {
     "data": {
      "text/plain": [
       "'Monty Python'"
      ]
     },
     "execution_count": 36,
     "metadata": {},
     "output_type": "execute_result"
    }
   ],
   "source": [
    "import prog\n",
    "prog.monty"
   ]
  },
  {
   "cell_type": "markdown",
   "metadata": {},
   "source": [
    "### exercise18"
   ]
  },
  {
   "cell_type": "code",
   "execution_count": 44,
   "metadata": {},
   "outputs": [
    {
     "name": "stderr",
     "output_type": "stream",
     "text": [
      "[nltk_data] Downloading package webtext to /Users/binxie/nltk_data...\n",
      "[nltk_data]   Package webtext is already up-to-date!\n"
     ]
    },
    {
     "name": "stdout",
     "output_type": "stream",
     "text": [
      "['Wha', 'Whaaaaat', 'Whaddo', 'Whaddya', 'What', 'Whatcha', 'Whatchu', 'Whateva', 'Whatever', 'Whatsa', 'Wheeee', 'Wheel', 'Wheelbo', 'Wheelchair', 'When', 'Whenever', 'Where', 'Where-to', 'Wherefore', 'Which', 'Whichever', 'While', 'Whip', 'White', 'White-ass', 'Whitelist', 'Whiz', 'Whizzer', 'Whne', 'Who', 'Whoa', 'Whoever', 'Whole', 'Whoops', 'Whopper', 'Whoppers', 'Whore', 'Whose', 'Why', 'Why-Firefox', 'whacked', 'whacks', 'whaddaya', 'whale', 'what', \"what's-her-face\", 'whatchu', 'whateva', 'whatever', 'whatshisname', 'whatsoever', 'wheat', 'wheel', 'wheelbarrow', 'wheelchair', 'wheelchairs', 'wheels', 'wheezing', 'whell', 'when', 'whenever', 'where', 'whereabouts', 'whereas', 'wherein', 'wherever', 'whether', 'which', 'whiff', 'while', 'whilst', 'whimpers', 'whining', 'whinny', 'whip', 'whipped', 'whipping', 'whips', 'whirls', 'whiskey', 'whisper', 'whispering', 'whispers', 'whistle', 'whistles', 'whistling', 'white', 'white-ass', 'white-on-white', 'white-out', 'white-pepper', 'whitelist', 'whitelisting', 'whiteness', 'whitening', 'whites', 'whitespace', 'whith', 'whittling', 'who', 'whoever', 'whole', 'whom', 'whoop', 'whooping', 'whop', 'whopper', 'whore', 'whorebag', 'whorehouse', 'whorehouses', 'whoreish', 'whores', 'whose', 'whup', 'whupped', 'whuppin', 'why']\n"
     ]
    }
   ],
   "source": [
    "nltk.download('webtext')\n",
    "from nltk.corpus import webtext\n",
    "from nltk import word_tokenize\n",
    "\n",
    "text = webtext.raw()\n",
    "tokens = word_tokenize(text)\n",
    "wh_words = [word for word in tokens if word.startswith('wh') or word.startswith('Wh')]\n",
    "print(sorted(set(wh_words)))"
   ]
  },
  {
   "cell_type": "markdown",
   "metadata": {},
   "source": [
    "There are some words duplicated in this list, because of the presence of case distinctions, like \"What\" and \"what\"."
   ]
  },
  {
   "cell_type": "markdown",
   "metadata": {},
   "source": [
    "### exercise20"
   ]
  },
  {
   "cell_type": "code",
   "execution_count": 51,
   "metadata": {},
   "outputs": [
    {
     "name": "stdout",
     "output_type": "stream",
     "text": [
      "Volleyball vs. Long Beach State\n",
      "11th Annual Diversity Symposium \n"
     ]
    }
   ],
   "source": [
    "# find upcoming events of gatech\n",
    "raw = request.urlopen('https://www.gatech.edu').read().decode('utf8')\n",
    "soup = BeautifulSoup(raw)\n",
    "upcoming_events_div = soup.findAll('div', class_='gt-events-title')\n",
    "for div in upcoming_events_div:\n",
    "    print(div.a.contents[0])"
   ]
  },
  {
   "cell_type": "markdown",
   "metadata": {},
   "source": [
    "### exercise22"
   ]
  },
  {
   "cell_type": "code",
   "execution_count": 70,
   "metadata": {},
   "outputs": [
    {
     "name": "stdout",
     "output_type": "stream",
     "text": [
      "{'seconds', 'sanitise', 'idcta', 'determining', 'churches', 'trees', 'buildings', 'https', 'registers', 'provides', 'called', 'endif', 'perspectives', 'obstacles', 'paths', 'choices', 'autocomplete', 'timeout', 'destroyed', 'deselection', 'reads', 'others', 'rebels', 'medallist', 'fires', 'unescape', 'years', 'navigating', 'homepage', 'statusbar', 'var', 'sentenced', 'stylesheet', 'ul', 'allows', 'inbox', 'confirms', 'lights', 'sites', 'students', 'occurred', 'abused', 'scores', 'invoking', 'executing', 'wwhp', 'eslint', 'has', 'passers', 'favelas', 'ads', 'url', 'config', 'warned', 'responds', 'states', 'cookies', 'promo', 'eol', 'gsurl', 'adverts', 'bubbles', 'whales', 'bugs', 'requests', 'kids', 'stabilise', 'polyfill', 'int', 'brings', 'lang', 'optimizely', 'motorists', 'metro', 'illusions', 'trusted', 'html', 'tears', 'rebelling', 'nuking', 'leads', 'http', 'str', 'app', 'len', 'jailed', 'lotame', 'waits', 'fooled', 'moves', 'roofs', 'ignored', 'fishermen', 'deps', 'winds', 'cookie', 'minutes', 'eles', 'stories', 'src', 'runs', 'init', 'autocorrect', 'stats', 'autocapitalize', 'sponsored', 'tabindex', 'cdn', 'payloads', 'utils', 'nav', 'initialise', 'browsers', 'imposes', 'ol', 'gpt', 'documentaries', 'labels', 'hurricanes', 'params', 'beats', 'killed', 'configurable', 'dedicates', 'died', 'targets', 'bbcuser', 'pioneering', 'controls', 'async', 'avoided', 'pets', 'bbcdotcom', 'markets', 'pictures', 'arguments', 'adding', 'elements', 'sections', 'maxlength', 'tp', 'couples', 'fans', 'istats', 'max', 'img', 'hitting', 'href', 'ptrt', 'typeof', 'migrants', 'bundles', 'expires', 'hours', 'spellcheck', 'warns', 'evt', 'preferences', 'shocked', 'tides', 'haveyoursay', 'rockets', 'bbc', 'svg', 'bbccookies', 'objects', 'googletag', 'gs', 'oldonload', 'questions', 'rgba'}\n"
     ]
    }
   ],
   "source": [
    "def unknown(url):\n",
    "    text = get_content_without_html(url)\n",
    "    lowercased_substrings = re.findall(r'[\\s\\(\\[\\{]([a-z]+)', text)\n",
    "    words = nltk.corpus.words.words()\n",
    "    return set([word for word in lowercased_substrings if word not in words])\n",
    "\n",
    "print(unknown('http://news.bbc.co.uk/'))"
   ]
  },
  {
   "cell_type": "code",
   "execution_count": 72,
   "metadata": {},
   "outputs": [
    {
     "name": "stdout",
     "output_type": "stream",
     "text": [
      "{'seconds', 'died', 'passers', 'moves', 'roofs', 'targets', 'favelas', 'pioneering', 'controls', 'churches', 'avoided', 'fishermen', 'pets', 'markets', 'pictures', 'trees', 'sections', 'buildings', 'winds', 'minutes', 'couples', 'sites', 'warned', 'fans', 'responds', 'states', 'obstacles', 'hitting', 'kids', 'whales', 'runs', 'destroyed', 'migrants', 'deselection', 'reads', 'stabilise', 'others', 'brings', 'hours', 'rebels', 'medallist', 'warns', 'motorists', 'fires', 'metro', 'years', 'shocked', 'navigating', 'tides', 'illusions', 'haveyoursay', 'sentenced', 'rockets', 'tears', 'inbox', 'rebelling', 'nuking', 'confirms', 'imposes', 'students', 'lights', 'abused', 'scores', 'leads', 'app', 'documentaries', 'questions', 'jailed', 'hurricanes', 'fooled', 'beats', 'killed', 'dedicates'}\n"
     ]
    }
   ],
   "source": [
    "# improve the unknown\n",
    "def unknown(url):\n",
    "    raw = request.urlopen(url).read().decode('utf8')\n",
    "    soup = BeautifulSoup(raw, 'html.parser')\n",
    "    for script in soup([\"script\", \"style\"]):\n",
    "        script.decompose()\n",
    "    text = soup.get_text()\n",
    "    lowercased_substrings = re.findall(r'[\\s\\(\\[\\{]([a-z]+)', text)\n",
    "    words = nltk.corpus.words.words()\n",
    "    return set([word for word in lowercased_substrings if word not in words])\n",
    "\n",
    "print(unknown('http://news.bbc.co.uk/'))"
   ]
  },
  {
   "cell_type": "markdown",
   "metadata": {},
   "source": [
    "### exercise24"
   ]
  },
  {
   "cell_type": "code",
   "execution_count": 73,
   "metadata": {},
   "outputs": [
    {
     "name": "stdout",
     "output_type": "stream",
     "text": [
      "h3||0 w0r|d5w33t! 1 at3 a 5w33t y35t3rday!\n"
     ]
    }
   ],
   "source": [
    "def convert_text(text):\n",
    "    substitutions = [('e', '3'), ('i', '1'), ('o', '0'), ('l', '|'), ('s', '5'), ('\\.', '5w33t!'), ('ate', '8')]\n",
    "    text = text.lower()\n",
    "    for (origin, substitution) in substitutions:\n",
    "        text = re.sub(origin, substitution, text)\n",
    "        \n",
    "    return text\n",
    "\n",
    "print(convert_text('Hello World. I ate a sweet yesterday!'))"
   ]
  },
  {
   "cell_type": "code",
   "execution_count": 76,
   "metadata": {},
   "outputs": [
    {
     "name": "stdout",
     "output_type": "stream",
     "text": [
      "h3||0 w0r|daddy5w33t! 1 at3 a 5w33t y35t3rdaddyay!\n"
     ]
    }
   ],
   "source": [
    "def convert_text_with_my_substitutions(text):\n",
    "    substitutions = [('e', '3'), ('i', '1'), ('o', '0'), ('l', '|'), ('s', '5'), ('\\.', '5w33t!'), ('ate', '8'), ('d', 'daddy')]\n",
    "    text = text.lower()\n",
    "    for (origin, substitution) in substitutions:\n",
    "        text = re.sub(origin, substitution, text)\n",
    "        \n",
    "    return text\n",
    "\n",
    "print(convert_text_with_my_substitutions('Hello World. I ate a sweet yesterday!'))"
   ]
  },
  {
   "cell_type": "code",
   "execution_count": 77,
   "metadata": {},
   "outputs": [
    {
     "name": "stdout",
     "output_type": "stream",
     "text": [
      "h3||0 w0r|d5w33t! 1 at3 a $w33t y35t3rday!\n"
     ]
    }
   ],
   "source": [
    "def convert_text_with_s_substitution(text):\n",
    "    substitutions = [('e', '3'), ('i', '1'), ('o', '0'), ('l', '|'), ('^s|(?<=\\s)s', '$'), ('s', '5'), ('\\.', '5w33t!'), ('ate', '8')]\n",
    "    text = text.lower()\n",
    "    for (origin, substitution) in substitutions:\n",
    "        text = re.sub(origin, substitution, text)\n",
    "        \n",
    "    return text\n",
    "\n",
    "print(convert_text_with_s_substitution('Hello World. I ate a sweet yesterday!'))"
   ]
  },
  {
   "cell_type": "markdown",
   "metadata": {},
   "source": [
    "### exercise26"
   ]
  },
  {
   "cell_type": "code",
   "execution_count": 81,
   "metadata": {},
   "outputs": [
    {
     "name": "stdout",
     "output_type": "stream",
     "text": [
      "['a', 'eei', 'oo', 'eeee', 'iaoaa', 'eee', 'eiee', 'aa', 'o', 'a', 'eei', 'aa', 'ie', 'ee', 'aa', 'a', 'aai', 'ee', 'eieeeee', 'oaia', 'eiee', 'aoa', 'a', 'aa', 'a', 'ia', 'a', 'e', 'aa', 'a', 'io', 'eiee', 'aa', 'o', 'a', 'eei', 'oo', 'e', 'e', 'iee', 'eieee', 'a', 'eei', 'eiiee', 'e', 'a', 'eeee', 'eee', 'o', 'a', 'ee', 'e', 'a', 'e', 'oa', 'i', 'eeee', 'aee', 'a', 'eo', 'aai', 'a', 'oo', 'eaau', 'eei', 'e', 'aa', 'ee', 'aa', 'e', 'eiee', 'aa', 'ooa', 'o', 'a', 'eei', 'ooa', 'a', 'o', 'uaa', 'eee', 'eo', 'a', 'ee', 'e', 'a', 'ao', 'a', 'eo', 'eei', 'aa', 'e', 'eiee', 'aa', 'o', 'ie', 'ee', 'a', 'eee', 'i', 'ai', 'aoao', 'ieee', 'eoa', 'eiee', 'aa', 'o', 'a', 'aaoa', 'a', 'ee', 'eee', 'ei', 'ie', 'ee', 'a', 'aae', 'eei', 'oo', 'a', 'eei', 'ei', 'a', 'e', 'a', 'ia', 'eeoa', 'ee', 'aai', 'iio', 'a', 'a', 'eaoua', 'o', 'eei', 'a', 'oii', 'aa', 'ao', 'aa', 'ee', 'o', 'eeeee', 'aaa', 'e', 'eiee', 'aa', 'o', 'a', 'aao', 'ee', 'aua', 'aa', 'o', 'a', 'ee', 'eee', 'eeee', 'ee', 'io', 'a', 'eei', 'oo', 'aae', 'aao', 'ao', 'ee', 'ieeea', 'eiee', 'aa', 'o', 'a', 'oo', 'aao', 'iee', 'eiee', 'eo', 'iaaa', 'a', 'eao', 'eee', 'a', 'a', 'ee', 'eee', 'aaaa', 'eee', 'eo', 'a', 'iia', 'a', 'eei', 'oo', 'eeeee', 'iaoa', 'i', 'a', 'a', 'e', 'aee', 'ee', 'ie', 'e', 'ie', 'eee', 'eeie', 'e', 'a', 'a', 'o', 'ie', 'e', 'a', 'aao', 'ie', 'ee', 'aa', 'e', 'e', 'aa', 'a', 'ee', 'iaoao', 'oa', 'ee', 'eoa', 'e', 'oo', 'aao', 'ieeeaa', 'iee', 'aai', 'aoa', 'ooaoa', 'eau', 'aai', 'eei', 'oao', 'ao', 'ee', 'aaa', 'eie', 'i', 'a', 'aao', 'ei', 'i', 'ei', 'a', 'oau', 'aa', 'eee', 'ei', 'i', 'ie', 'eei', 'aao', 'ei', 'ee', 'a', 'oa', 'a', 'a', 'eee', 'e', 'eiieee', 'ea', 'ee', 'ei', 'eee', 'e', 'o', 'ieeee', 'i', 'iei', 'e', 'eee', 'eeeee', 'aa', 'e', 'ee', 'ee', 'aa', 'oiiai', 'a', 'e', 'ee', 'eei', 'a', 'aai', 'eeee', 'aoa', 'ee', 'a', 'e', 'e', 'a', 'eie', 'iaoa', 'a', 'ee', 'iaoaa', 'iio', 'e', 'ooa', 'aaoa', 'eee', 'e', 'ee', 'eie', 'ee', 'ei', 'aa', 'a', 'oa', 'a', 'eee', 'oiiai', 'oi', 'a', 'eei', 'eee', 'aa', 'e', 'aee', 'a', 'e', 'aoa', 'aei', 'o', 'a', 'ie', 'o', 'a', 'ee', 'ee', 'aa', 'e', 'auo', 'a', 'ueeia', 'e', 'oaoa', 'ooo', 'i', 'ie', 'ee', 'oa', 'a', 'a', 'ee', 'a', 'aao', 'a', 'ei', 'ioo', 'i', 'ei', 'e', 'ee', 'aoaa', 'a', 'oaa', 'aai', 'a', 'aoa', 'a', 'aoaeee', 'ie', 'aaa', 'io', 'i', 'ei', 'e', 'ee', 'aaa', 'aa', 'eee', 'eeee', 'a', 'eaao', 'ee', 'a', 'a', 'aei', 'i', 'ieie', 'oa', 'a', 'ao', 'o', 'oaai', 'o', 'eie', 'i', 'a', 'e', 'iei', 'ee', 'ie', 'ee', 'oa', 'a', 'a', 'ee', 'ee', 'ieie', 'oa', 'a', 'ee', 'eee', 'a', 'ee', 'iaoao', 'ie', 'eee', 'ie', 'ie', 'eee', 'iu', 'eua', 'ee', 'i', 'ie', 'ee', 'oa', 'a', 'a', 'aoa', 'a', 'a', 'e', 'e', 'ioo', 'aae', 'ooa', 'eo', 'ee', 'a', 'aai', 'oo', 'ee', 'oooa', 'oaoi', 'i', 'ei', 'e', 'ee', 'ee', 'eaai', 'iee', 'ei', 'a', 'i', 'i', 'ie', 'ee', 'eee', 'ee', 'oa', 'a', 'aa', 'o', 'ee', 'aa', 'oa', 'ioa', 'aa', 'e', 'aoo', 'e', 'oai', 'eeeei', 'e', 'ie', 'eee', 'ee', 'i', 'eaaooa', 'e', 'i', 'ie', 'ee', 'eee', 'o', 'e', 'aaa', 'e', 'eei', 'iai', 'a', 'ioa', 'eoao', 'ee', 'a', 'ee', 'e', 'aaei', 'io', 'ee', 'ee', 'ea', 'ei', 'e', 'aa', 'ei', 'o', 'ee', 'a', 'ua', 'ae', 'eee', 'iaaa', 'a', 'aai', 'o', 'a', 'a', 'eei', 'o', 'ei', 'e', 'o', 'ee', 'ee', 'uaa', 'e', 'aa', 'oa', 'e', 'iai', 'i', 'ae', 'a', 'ee', 'ee', 'eee', 'iaaa', 'o', 'aaaa', 'i', 'eie', 'aee', 'ai', 'eie', 'aee', 'eaa', 'a', 'eeee', 'e', 'aa', 'ee', 'eaaoi', 'e', 'ei', 'eee', 'a', 'ee', 'eei', 'ie', 'ee', 'oa', 'a', 'a', 'ie', 'eaaooa', 'a', 'ee', 'ee', 'a', 'ee', 'i', 'a', 'ao', 'e', 'ie', 'ee', 'oa', 'a', 'aao', 'ooi', 'ae', 'aao', 'eaai', 'ie', 'ee', 'oa', 'a', 'ie', 'oo', 'iee', 'a', 'a', 'i', 'eai', 'aai', 'a', 'aa', 'iai', 'i', 'ie', 'ee', 'oa', 'a', 'a', 'e', 'oa', 'eee', 'eei', 'a', 'o', 'oa', 'eee', 'ei', 'ee', 'a', 'oa', 'e', 'ee', 'iaoi', 'e', 'ee', 'iai', 'ee', 'eaaoo', 'e', 'ei', 'a', 'ee', 'eee', 'aia', 'eeie', 'eee', 'ee', 'eee', 'i', 'ie', 'ee', 'oa', 'a', 'aae', 'aoo', 'ei', 'e', 'ee', 'e', 'ao', 'e', 'aoa', 'eoaa', 'o', 'ee', 'eoai', 'i', 'i', 'a', 'ia', 'i', 'a', 'e', 'a', 'aa', 'e', 'o', 'e', 'ee', 'oa', 'a', 'ao', 'eeie', 'a', 'ao', 'aau', 'oo', 'ao', 'i', 'ao', 'aaai', 'a', 'a', 'eiee', 'a', 'ia', 'a', 'e', 'i', 'a', 'a', 'aaa', 'aa', 'i', 'a', 'a', 'eoa', 'eiee', 'ee', 'oai', 'aa', 'ao', 'a', 'a', 'e', 'aa', 'aa', 'ee', 'eeeee', 'ee', 'i', 'a', 'a', 'a', 'aao', 'eee', 'aae', 'ao', 'eee', 'oa', 'a', 'a', 'aao', 'aai', 'a', 'a', 'ee', 'i', 'ie', 'ee', 'i', 'eie', 'i', 'oa', 'eee', 'oa', 'a', 'a', 'uaoo', 'ei', 'e', 'ee', 'uao', 'ee', 'eoai', 'i', 'ie', 'ee', 'oa', 'a', 'a', 'ooa', 'a', 'eiiee', 'a', 'a', 'aao', 'e', 'a', 'o', 'aa', 'oaa', 'a', 'a', 'a', 'e', 'eoaa', 'aa', 'aai', 'a', 'aa', 'a', 'a', 'ee', 'i', 'eie', 'i', 'eee', 'i', 'a', 'io', 'e', 'i', 'a', 'aee', 'oa', 'ao', 'eao', 'e', 'a', 'ieee', 'uaa', 'o', 'i', 'ie', 'ee', 'oa', 'a', 'a', 'e', 'a', 'iee', 'aao', 'ae', 'aa', 'oaa', 'a', 'a', 'oo', 'o', 'ee', 'ia', 'e', 'eee', 'aa', 'o', 'aoa', 'a', 'eie', 'uaao', 'iee', 'eeee', 'ee', 'ee', 'ie', 'ieei', 'o', 'i', 'ie', 'ee', 'oa', 'a', 'eei', 'eei', 'aao', 'ei', 'e', 'ee', 'aae', 'eeee', 'a', 'ee', 'eei', 'i', 'ie', 'ee', 'oa', 'a', 'a', 'aa', 'eie', 'iaaa', 'a', 'ee', 'a', 'aao', 'ao', 'iei', 'a', 'ee', 'ie', 'ee', 'ee', 'eee', 'ee', 'oa', 'a', 'a', 'aa', 'oai', 'oa', 'a', 'aaao', 'a', 'aao', 'eie', 'aaa', 'a', 'aaaa', 'e', 'a', 'aaa', 'ee', 'aaai', 'o', 'io', 'aa', 'a', 'a', 'aa', 'aa', 'ee', 'eee', 'io', 'e', 'aa', 'iao', 'aa', 'iee', 'ao', 'e', 'o', 'ieee', 'uo', 'i', 'ie', 'ee', 'i', 'a', 'aao', 'aa', 'oa', 'a', 'a', 'oii', 'ioo', 'ie', 'ee', 'uaa', 'ie', 'a', 'aa', 'o', 'a', 'ao', 'eeei', 'a', 'eei', 'e', 'eeee', 'o', 'ee', 'a', 'ee', 'oo', 'eeee', 'aai', 'eoaia', 'a', 'o', 'eie', 'aao', 'a', 'iee', 'e', 'aai', 'oii', 'uui', 'oai', 'ieee', 'i', 'ie', 'ee', 'oa', 'a', 'a', 'uo', 'a', 'ua', 'aa', 'eao', 'a', 'o', 'ie', 'uaeeee', 'a', 'uai', 'eei', 'eee', 'a', 'ee', 'u', 'ieie', 'ie', 'ee', 'ee', 'e', 'a', 'oa', 'ieie', 'ai', 'ooi', 'oa', 'o', 'ie', 'iee', 'a', 'oa', 'ae', 'a', 'aa', 'a', 'a', 'eei', 'a', 'eee', 'e', 'io', 'aee', 'eee', 'eee', 'a', 'oii', 'ee', 'e', 'e', 'eei', 'eee', 'i', 'ie', 'ee', 'oa', 'a', 'a', 'iee', 'a', 'aa', 'i', 'eeeee', 'a', 'ua', 'iaaa', 'e', 'ooo', 'aai', 'a', 'iaoi', 'iee', 'aao', 'i', 'ie', 'ee', 'oa', 'a', 'a', 'iee', 'aaie', 'eee', 'a', 'uai', 'e', 'oo', 'a', 'iao', 'iee', 'aao', 'i', 'ie', 'ee', 'oa', 'a', 'a', 'aa', 'aa', 'ee', 'e', 'ioa', 'aaa', 'eoao', 'eeeee', 'eee', 'uao', 'ao', 'ooi', 'ooo', 'aai', 'a', 'e', 'oii', 'oaoo', 'oa', 'a', 'a', 'uai', 'ee', 'oa', 'e', 'e', 'eee', 'aai', 'iao', 'eeee', 'ioo', 'aio', 'eai', 'eei', 'aaa', 'ee', 'e', 'ia', 'eei', 'a', 'aa', 'a', 'eeo', 'ee', 'ee', 'oao', 'aa', 'oo', 'ie', 'ee', 'a', 'a', 'a', 'ao', 'ee', 'uaaa', 'a', 'oii', 'eee', 'e', 'i', 'ie', 'ee', 'oa', 'a', 'a', 'eee', 'a', 'eee', 'eai', 'a', 'eei', 'aae', 'oa', 'iee', 'ieee', 'e', 'eie', 'a', 'eei', 'oa', 'ee', 'a', 'eiai', 'aoa', 'ao', 'e', 'ei', 'a', 'e', 'auoa', 'a', 'eee', 'ie']\n"
     ]
    },
    {
     "name": "stderr",
     "output_type": "stream",
     "text": [
      "[nltk_data] Downloading package udhr to /Users/binxie/nltk_data...\n",
      "[nltk_data]   Package udhr is already up-to-date!\n"
     ]
    }
   ],
   "source": [
    "nltk.download('udhr')\n",
    "from nltk.corpus import udhr\n",
    "\n",
    "text = [word.lower() for word in udhr.words('Hungarian_Magyar-Latin1')]\n",
    "vowel_sequences = []\n",
    "for word in text:\n",
    "    vowel_sequence = ''.join(re.findall(r'[aeiou]', word))\n",
    "    if (len(vowel_sequence) > 0):\n",
    "        vowel_sequences.append(vowel_sequence)\n",
    "        \n",
    "print(vowel_sequences)"
   ]
  },
  {
   "cell_type": "code",
   "execution_count": 87,
   "metadata": {},
   "outputs": [
    {
     "name": "stdout",
     "output_type": "stream",
     "text": [
      "    a   e   i   o   u \n",
      "a 180  24  49  93   7 \n",
      "e  21 396 101  18   1 \n",
      "i  34 114  14  18   1 \n",
      "o 105   0  16  43   1 \n",
      "u  19   1   1   4   1 \n"
     ]
    }
   ],
   "source": [
    "bigrams = []\n",
    "for vowel_sequence in vowel_sequences:\n",
    "    bigram = list(nltk.bigrams(vowel_sequence))\n",
    "    if (len(bigram) > 0):\n",
    "        bigrams.extend(bigram)\n",
    "\n",
    "vowels = ['a', 'e', 'i', 'o', 'u']\n",
    "cfdist = nltk.ConditionalFreqDist(bigrams)\n",
    "cfdist.conditions()\n",
    "cfdist.tabulate(conditions=vowels, samples=vowels)"
   ]
  },
  {
   "cell_type": "markdown",
   "metadata": {},
   "source": [
    "### exercise28"
   ]
  },
  {
   "cell_type": "markdown",
   "metadata": {},
   "source": [
    "- If we think it's three words, it would be reasonable when splitting the word by whitespace. It can be used in some chatbot. For example, when you ask the result of this numeric expression, the chatbot would analyze it as three words and it can calculate the answer.\n",
    "- If we think it's a single compound word, it would be reasonable for the sematic meaning. It can be used in some written language understanding system, grammer check, spelling check and so on.\n",
    "- If we think it's nine words, it would be reasonable in the phonetic. It can be used in some speech understanding system."
   ]
  },
  {
   "cell_type": "markdown",
   "metadata": {},
   "source": [
    "### exercise30"
   ]
  },
  {
   "cell_type": "code",
   "execution_count": 90,
   "metadata": {},
   "outputs": [
    {
     "name": "stdout",
     "output_type": "stream",
     "text": [
      "['denni', ':', 'listen', ',', 'strang', 'women', 'lie', 'in', 'pond', 'distribut', 'sword', 'is', 'no', 'basi', 'for', 'a', 'system', 'of', 'govern', '.', 'suprem', 'execut', 'power', 'deriv', 'from', 'a', 'mandat', 'from', 'the', 'mass', ',', 'not', 'from', 'some', 'farcic', 'aquat', 'ceremoni', '.']\n"
     ]
    }
   ],
   "source": [
    "raw = \"\"\"DENNIS: Listen, strange women lying in ponds distributing swords is no basis for a system of government.  Supreme executive power derives from a mandate from the masses, not from some farcical aquatic ceremony.\"\"\"\n",
    "tokens = word_tokenize(raw)\n",
    "porter = nltk.PorterStemmer()\n",
    "lancaster = nltk.LancasterStemmer()\n",
    "print([porter.stem(t) for t in tokens])"
   ]
  },
  {
   "cell_type": "code",
   "execution_count": 92,
   "metadata": {},
   "outputs": [
    {
     "name": "stdout",
     "output_type": "stream",
     "text": [
      "['den', ':', 'list', ',', 'strange', 'wom', 'lying', 'in', 'pond', 'distribut', 'sword', 'is', 'no', 'bas', 'for', 'a', 'system', 'of', 'govern', '.', 'suprem', 'execut', 'pow', 'der', 'from', 'a', 'mand', 'from', 'the', 'mass', ',', 'not', 'from', 'som', 'farc', 'aqu', 'ceremony', '.']\n"
     ]
    }
   ],
   "source": [
    "print([lancaster.stem(t) for t in tokens])"
   ]
  },
  {
   "cell_type": "markdown",
   "metadata": {},
   "source": [
    "The rules for stripping affixes are different in Porter Stemmer and Lancaster Stemmer. For example, Porter Stemmer can handle the word \"lying\" correctly. However, Lancaster Stemmer can't handle it."
   ]
  },
  {
   "cell_type": "markdown",
   "metadata": {},
   "source": [
    "### exercise32"
   ]
  },
  {
   "cell_type": "code",
   "execution_count": 93,
   "metadata": {},
   "outputs": [
    {
     "name": "stdout",
     "output_type": "stream",
     "text": [
      "['newly', 'formed', 'bland', 'ideas', 'are', 'inexpressible', 'in', 'an', 'infuriating', 'way']\n"
     ]
    }
   ],
   "source": [
    "silly = 'newly formed bland ideas are inexpressible in an infuriating way'\n",
    "# a\n",
    "bland = silly.split()\n",
    "print(bland)"
   ]
  },
  {
   "cell_type": "code",
   "execution_count": 94,
   "metadata": {},
   "outputs": [
    {
     "name": "stdout",
     "output_type": "stream",
     "text": [
      "eoldrnnnna\n"
     ]
    }
   ],
   "source": [
    "# b\n",
    "second_letters = [word[1] for word in bland]\n",
    "second_str = ''.join(second_letters)\n",
    "print(second_str)"
   ]
  },
  {
   "cell_type": "code",
   "execution_count": 95,
   "metadata": {},
   "outputs": [
    {
     "name": "stdout",
     "output_type": "stream",
     "text": [
      "newlyformedblandideasareinexpressibleinaninfuriatingway\n"
     ]
    }
   ],
   "source": [
    "# c\n",
    "bland_str = ''.join(bland)\n",
    "print(bland_str)"
   ]
  },
  {
   "cell_type": "code",
   "execution_count": 97,
   "metadata": {},
   "outputs": [
    {
     "name": "stdout",
     "output_type": "stream",
     "text": [
      "an\n",
      "are\n",
      "bland\n",
      "formed\n",
      "ideas\n",
      "in\n",
      "inexpressible\n",
      "infuriating\n",
      "newly\n",
      "way\n"
     ]
    }
   ],
   "source": [
    "# d\n",
    "for letter in sorted(bland):\n",
    "    print(letter)"
   ]
  },
  {
   "cell_type": "markdown",
   "metadata": {},
   "source": [
    "### exercise34"
   ]
  },
  {
   "cell_type": "code",
   "execution_count": 98,
   "metadata": {},
   "outputs": [
    {
     "name": "stdout",
     "output_type": "stream",
     "text": [
      "Canada\n",
      "Australia\n"
     ]
    }
   ],
   "source": [
    "def convert_nationality(nationality):\n",
    "    if (nationality.endswith('dian')):\n",
    "        return nationality[:-3] + 'a'\n",
    "    elif (nationality.endswith('ian')):\n",
    "        return nationality[:-1]\n",
    "\n",
    "print(convert_nationality('Canadian'))\n",
    "print(convert_nationality('Australian'))"
   ]
  },
  {
   "cell_type": "markdown",
   "metadata": {},
   "source": [
    "### exercise36"
   ]
  },
  {
   "cell_type": "code",
   "execution_count": 102,
   "metadata": {},
   "outputs": [
    {
     "name": "stdout",
     "output_type": "stream",
     "text": [
      "Oh hai . In teh beginnin Ceiling Cat maded teh skiez An da Urfs , but he did not eated dem . Da Urfs no had shapez An haded dark face , An Ceiling Cat rode invisible bike over teh waterz . An Ceiling Cat sayed light Day An dark no Day . It were FURST !!! 1 An Ceiling Cat sayed , i can has teh firmmint wich iz funny bibel naim 4 ceiling , so wuz teh twoth day . An Ceiling Cat called no waterz urth and waters oshun . Iz good . An so teh threeth day jazzhands . An so teh furth day w00t . An so teh ... fith day . Ceiling Cat taek a wile 2 cawnt . An Ceiling Cat doed moar living stuff , mooes , An creepies , An otehr animuls , An did not eated tehm . An Ceiling Cat sayed , letz us do peeps like uz , becuz we ish teh qte , An let min p0wnz0r becuz tehy has can openers . So Ceiling Cat createded teh peeps taht waz like him , can has can openers he maed tehm , min An womin wuz maeded , but he did not eated tehm . An Ceiling Cat sed them O hai maek bebehs kthx , An p0wn teh waterz , no waterz An teh firmmint , An evry stufs . For evry createded stufs tehre are the fuudz , to the burdies , teh creepiez , An teh mooes , so tehre . It happen . Iz good . An Ceiling Cat sayed , Beholdt , teh good enouf for releaze as version 0 . 8a . kthxbai . An teh skyz an teh Urfs wur finishd , an al teh stufz in dem , an Ceiling Cat was liek al tired an stuf . Ceiling Cat blesd teh 7f day , an sed itz teh h0liez0rz ; cuz dats when he restd fum all his werk wich Ceiling Cat creatd an maed . Yay holy Caturday ! Iz how teh skyz an Urfs wur maed , wen Ceiling Cat pwnt . Urfs no can has plantz n treez n catnipz yet , cuz Ceiling Cat no can maek rainz , but iz ok for kittehs DUNT LYKEZ wetfurz . An ther wuznt ne man to mek farmz n stuf ; cuz teh clowds wur al happie an dint feel liek cryin , wich wuz ok to cuz umbrellaz wuznt inventd yut . An Ceiling Cat madez kitteh owt ov teh flore dust , an breathd ntew his nawstrils teh bref ov life , wich wuz sorta liek doin cpr on a mudpie , but it wuz al gud . An Ceiling Cat madez evry tre dat iz prity , an gud fur fud ; teh tre ov lief wuz in teh gardun to , an teh tre ov teh nawlej ov gud an evul . man askd Ceiling Cat to makez a kooki tree , an Ceiling Cat madze it . but he eated it . ( no 1 had thot of cheezburgr tre yet .) An teh naem ov teh 3th rivr iz hiddekel : dat wun runz n frunt ov asyria . An teh 4f rivr iz teh euphrateez ( ware teh ppl acused eech oter ov \" yu afraed ov tese ?\".) But of teh tre of teh nawlej of gud an evl , you not eatz cuz wen u eatz taht tre i fur sure mek u ded . Srsly . An Ceiling Cat sed , teh man is alown an dat iz bad ; he needz frendz so i wil maek him a gud help fo him . ( i iz gud at stuf liek taht . srsly . An it will keepz him outta trubbel .) An owt ov teh grownd Ceiling Cat madez al teh aminals on teh urfs an in teh see , an al teh burdz up in sky ( an sum liek ostrijes who cudnt flyz , just fur fun ). ( Ceiling Cat is raely good at makingz mud pies . srsly .) An brot them untew teh man to c what he wud cal tehm : an wut teh man caled evry living aminal , dat wuz its naim . ( if they didnt like it , tuff tamales , they wuz stuck wif it .) An Ceiling Cat caused a deep sleep to fal upawn teh man , an he sleeped ; an he tuk one of his ribs , cuz it has a flavr . An Ceiling Cat can haz teh rib frum man maded into wimman , but did not eated it cuz he brot her to teh man . He sai O hai , I maded u a man but wifout long hare . Hav fun , kthxbai . Teh man saiz , So man muv out da baesment an lives wif da womenz , an be all u can puts your toofbrush nexta mine an I no eats you . and teh man and teh woman weared invisible close ! Nao teh snakez wuz mor shneakay than any beest ov teh field which Ceiling Cat had made . An he meowed unto teh woman , liek I herd that Ceiling Cat said , u shall not eated frum any tree ov teh garden ? Even dem trees on dat plate ? but ov teh fruit ov teh tree which iz in teh midel ov teh garden , Ceiling Cat sez , dun eatz it cuz if u eatz it he mek u ded . 4 Ceiling Cat noes dat , teh dai u eat dat froot , den u gon b able to c , An u be liek Ceiling Cat , knowin gud An evil . An dis froot , it has a flavr , srsly . An teh eyez ov them both were opend , An they knew dat theyz were showin teh nakedz An stuff cuz Ceiling Cat didnt gaev dem no furz liek teh aminals ; An they sewd sum fig - leavez togethr , An made themselvez clofs . Eve even maed firs thong but was vry vry itchy . srsly . An Ceiling Cat calld unto teh man , An meowed unto him , \" wuzzat ? wut u just NOM NOM NOMd ? It srsly gud ?\" An he said , i heard yo voice in teh garden , An i wuz scareded , because i wuz NOMin An stuff ; An i hided and did not want 4 u to see meh NOMin kthx . An he said , hoo told u dat u was ta NOM teh holy fud ? I waz injoyin watchin you be not NOMin . Did youz eated ov teh tree , dat I told u dat iz not ok u eatz ov ? An teh man said , teh woman u gave me saw teh tree An told ' bout it to me . At first I was liek \" Noes !\" but then , I was layk NOM NOM NOM . srsly . An Ceiling Cat said unto teh woman , wat did u dun ? An teh woman said , teh snakez playdid dirty trick on me , An i eated it . An Ceiling Cat sed unto teh snakez , \" cuz u did dis , An im gonna put liek badnis An stuff Unto teh woman he said , An unto adam he said , because u hast listend to her An hast eated teh tree wut i tellz u U NO NOMZ ! thorns also An thistlez gun it brin forth 2 u ; in teh sweatz ov ur face An teh man calld his womenz name eve ; cuz she was teh mothr of all livn ' and cuz if he nameded her bertha he woulda benn lold at all da tyme So he pwnzordz teh man ; An he placeded at teh east ov teh garden ov eden teh cherubim An stuff , An teh flaming ( lol ) sword which turned everywherez ( an if yu evar caem up 2 teh sword den it wuld flaem u on teh intarwebs an u wuldnt git no cookies or cheezburgerz eithr , srsly ). An abel , he also brought teh first meets ov his mooses ( An ov teh fat of em cuz teh mooses are on Atkins .) An he made teh 1st cheezburger An gaev it to teh Ceiling Cat . If u do gud , isn ' t it gunna go up ? An if u doest not well , sin croucheth at teh door : it wants to has you , but you hafta maik it go away . An cain told abel his bruda wut happnd . An one day when they were out in da field , cain got all up in abels face , An totally pwnd him . An Ceiling Cat said \" cain , where iz mah abel ???\" When yous plowen teh urf , it gonna b hard n stuffz ; fugitiev n wanderr youz bees in da urf . An its gonna sux cuz therz no united farmwrkr yoonyun yet . Behold , u kick me from teh urf an killz me an i haz no iteh bitteh kitteh committeh , an ' i ' m dumd wit evry1 , even n00bs will pwnz meh . An cain rode away on hiz invisible bicycle away frum Ceiling Cat , An dwelt in da land ov nod , to da rite ov eden . An xunto enoch wuz born irad : An irad is has teh kid mehujael : An mehujael is has teh kid methushael ; An methushael is has teh kid lamech . An zillah , she also has teh kid tubal - cain , An he An his kidz maded all teh knifes An swordz An razrbladez An other sharp metal stuf : An teh sistr ov tubal - cain wuz naamah . An lamech said unto his wivez , If cain shall b avengd 7x , An 2 seth , 2 him also thar wuz born son ; An he calld his name enosh . den began men 2 say hai to Celing Cat moar often n stuff . Boi An gurl creatd himz , an givd cheezburgrz , An calld their naim adam ( teh peeps who rited this bibel wantz to b raely shur u knowz ther naim , srsly !), in da dai when dey gots creatd . An all teh dais dat adam livd waz 900 An 30 yeers : An him got ded . An all teh dais ov seth waz 900 An 12 yeers : An him got ded . An all teh dais ov enosh waz 900 An 5 yeers : An him got ded . An all teh dais ov kenan waz 900 An 10 yeers : An him got ded . An all teh dais ov mahalalel waz 800 ninety An 5 yeers : An him got ded . An all teh dais ov jard waz 900 An 60 An 2 yeers : An him got ded . An enoch hung out wif Ceiling Cat alot An him didnt gets ded liek evry1 els . him flyed up in invisibul airplayn 2 b wif Ceiling Cat 4evr . An all teh dais ov methuselah waz 900 An 60 An 9 yeers ( srsly !): An him got ded . An all teh dais ov lamech waz 700 An 70 An 7 yeers : An him got ded . An noah wuz 500 yeers old : An noah maded shem An ham ( who wuz not lunch meet lol ) An japheth . An when men begun 2 begats kidz on teh urf , dey had dawters . wich is gud cuz Ceiling Cat still wudnt let dem masturbate . An teh sons ov Ceiling Cat saw taht teh dawters ov mens wer rly hot An sexy ; An dey sed \" PENIS GOES WHERE ?\" An dey had sexxs but no buttsecks cuz it wuznt inventd yet . An Ceiling Cat sed , i no fites wif ppl 4evr so i no lets tehm liv 4evr : aftr wiel dey wil getz ded . htey is stil thinkx dey can livs long tiem but i givs dem only 1 liefs insted ov 9 liek teh kittehs . so tehre . An sum wierd d00dz calld Nephilim wer in teh urfs in dose dais to scroos teh Creationists , An also aftr dat , when teh sons ov Ceiling Cat An dawters ov men did PENIS GOES WHERE ?! but still no buttsecks , An they begats kidz . An teh kidz were badass powrful liek superman An wonder woman An all teh avatars in WoW , An dey wer all famous An stuf . An Ceiling Cat saw dat teh ppl on teh urfs wuz all wikkid An mean An evil , An dat ppl thot ov wikkid mean evil stuf all teh tiem . An they rited wikkidpedia so evry1 wud knoes how 2 b all wikkid An mean An evil . An Ceiling Cat wuz rly sry dat he had madez ppl on teh urf , An it maded him all sad An pissed off An stuff . An Ceiling Cat sed im gonna pwnz all teh ppl An aminals what i has maded on teh urf ; ppl An moo cows An creepy crawlyz An burdz ov teh skyz An burdz liek ostridges An stuf who cant flyz ; cuz i so sry i maded them . But Ceiling Cat liekd noah alot . This is story about noah . noah wuz rightchus d00d , An liek mor rightchus then any1 els . noah hung out wif Ceiling Cat alot An lissend 2 tunez An played pokemons An stuff .. An sum tiems Ceiling Cat even letz him winz cuz he liekd him alot . An noah begat 3 sons , shem , ham , An japheth . but i alrdy told u that . An teh urf wuz corruptd An messed up , An teh urfs wuz filld wif meanies . An Ceiling Cat saw teh urf , An saw taht it wuz corruptd cuz all teh ppl had fuxxxxd it up . An Ceiling Cat sed 2 noah , i iz gonna pwnz the whole urf cuz teh urf has mor evilz An vilents then WoW An grand theft auto . so im gonna pwnz tehm An teh whole urfs . all teh filez in ppls hedz iz all corruptd An dey keep emailin em 2 all ther frendz . i should haev kept it in Beta longr & nbsp ;:( An inventd mcafee An nortonz An stuff to keep out trojan snake wormz An viruses An rootkitz An stuf liek that . Make gynormus bote calld ark ov gophr wud ; maek roomz in teh ark , An cover it wif tar on teh insidez An outsiedz . An noah sed wait a minit u cant getz wood frm gophrs , u has 2 use treez . An Ceiling Cat sed i can callz a tree a gophr if i wantz cuz i iz Ceiling Cat . so stfu An go getz ur hammerz An sawz An stuff . An noah sed k , brb . An Ceiling Cat sed dis iz how u makez teh ark : teh length ov teh ark 300 cubits An teh width ov it 50 cubitz An teh hite ov it 30 cubits . An noah sed wtf iz a cubit An Ceiling Cat sed stfu again . so noah did . maek sum windoze ( but not teh µ !¢® 0 $ 0ƒ + kind ) in teh ark 2 cubitz hai An mek teh door in teh side . An maek it wif 1th , 2th , An 3th storiez . An see , i makez teh flood ov waters upon teh hole urf , 2 pwnz all teh ppl An aminals An stuffz An evrythin in teh hol urfs iz gets ded . But i iz taeks care ov u An keeps u safe cuz i lieks u alot . An u can haz ride in teh ark , u An ur sons An ur wief An ur sons wifez 2 . An u taeks 2 ov every kind ov aminal into teh ark , 2 keep them aliv wif u ; An mek shur dey r male An femael so dey can meks mor aminals after dey leavs teh ark but i wont letz dem do PENIS GOES WHERE ?! on teh ark cuz mor aminals wud mek it 2 crouded . Taek all kinds of teh birdz , An ov teh moocows , An ov teh creepy crawlyz on teh urf , 2 ov evry kind . but dont worry about teh fishz , dey can swimz gud . An taek teh f00dz dat all teh ppl An aminals lieks 2 eatz , An gathr it up ; An it shall b 4 fud 4 u , An 4 them . An noah sed thers gonna b lotz ov poopi to shuvl wif all dem aminals An stuff , An Ceiling Cat sed stfu i iz givez dem all rael bad constipashun so dont worry about it . An noah sed k and stfu ' d . so noah did evry thin Ceiling Cat tellz him , bein a gud boi bcuz he had to stfu . For 4ty daiz and 4ty nites , it gon b wet and I gun pwn some n00bs ..\" An ' Noah did what Ceiling Cat told im to , and installed dry wall between teh moo cows and his sons and his dawters so dey would not do nething liek to maek cowz go \" PENIS GOES WHERE ?!?\" during teh 4ty daiz . An ' after teh seven daiz teh wetness came . An ' teh wetnessez came to teh urf an ' it was all wet . teh animals goin in wuz male an ' femail ov evry livin ting , as Ceiling Cat had toldd Noah . xcept 4 teh unicornz . And teh drag0nz and stuffs . Ceiling Cat sed ' DO NOT WANT '. and dey stayd out ov teh ark . den Ceiling Cat shut him in , and wuz liek ' k , ttyl '. evry livin thin on teh face ov teh urfz wuz wipd out ; d00dz an ' animalz an ' teh creeturz dat moov along teh ground an ' teh burdz ov teh air wuz wipd frum teh urfz . only Noah wuz left , an ' dose wif him in da ark . teh watrz floodd teh urfz 4 hundrd an ' fifty dais . 4ty dayz latrz Noah guy openz teh window he hadz maed inna teh beeg bote Noah wuz liek wateing sevvin daiz und sent mudkipz to see teh sandbocks , but teh mudkipz noes com bak . by teh 20An7 day of teh munf after teh munfmonth the beeg sanbox is ready to youse ! srsly . mbring out all teh aminalz and all teh crawlies and all teh burds , even the ones taht no fly — and let tehm HARBL GOES WHERE & nbsp ;! and take over teh wurld \" So Noah cam out to his sunz and wifez and all tehy wifez . All teh aminalz and all the crawliez and all the burds , evin teh onz that no fly — evin teh moocowz — came out of teh ark , leik in order , an stuuf . \" So liek teh urfz iz forevr n evr , Teh Ceiling Cat blezt Noah and hes sunz , and sed to theys : “ Haf lawt sexytime n b frootful n fill up teh urthz \" Teh aneemals wil be rly scured of u . I mak dem be pwned by u guyz , lol . If it mvs , it kin be et . Even if it dun ' t — o hai plants . Jst teh meet , doods . No bloods , kthx Ifs u eets teh bloodz iz no gud ; teh aminulz noes can has teh bloodz an teh mans noes can eets teh bloodz . An ifs u pwns teh mans iz no gud -- teh Ceiling Cat pwns u . “ Ifs you pwns da man , Yah rly , can has teh hawt secks and teh baybeez ; Ceiling Cat sez to Noah an his kidz : “ Hay looks , u an me r liek teh bests frenz an I lieks ur baybeez too , An ' teh aminulz u has : teh burdies , teh caws taht mooes , and teh otehr aminulz , dem gives teh mooves off teh boats , k ? U and me r liek teh frenz : I no moar makez teh waterz comez ; u noe gets wet no moar , k ?” Teh Ceiling Cat sez : “ U noes taht u and me are teh frenz and me and teh animulz r teh frenz forevr n evr becuz dis : cuz Ceiling Cat pwns rpeat ... Visible Raynbo iz in teh skyz , k ? U an me an evrywunz is teh frenz becuz teh raynbo r gr8 . Ifs u sees teh clowdz , u no kin sez , \" Oh Noes ! Teh waters comes !\" becuz tehres teh raynbo ; and I kin sez \" OHai luk teh raynbo ,\" becuz u and me and teh aminulz are hella gud frenz ; I no makes teh waterz come . Teh raynbo will be in teh clowds and I rmberz taht u and me and teh aminuls iz stil sum moar teh frenz .” And Ceiling Cat sez to Noah , “ Teh raynbo meens u and me are teh frenz , k ?” So diz d00d Noah has teh 3 sonz on teh boatz . They has sum crazi namez all Shem and Ham and Japheth or summin . Ham wuz Canaan ' s daddi n nawt teh lunch meats . lol newaiz frum deez 3 bros , all of teh worldz was ppl - ated . So liek Noah groes teh grapez . And Noah iz liek \" Oh hai grapez \" and he drinkz teh grapez and drinkz teh moar grapez and no moar haz teh cloethz on . And Ham , Canaan ' s daddi and nawt teh lunch meats , sees Noah and sez \" Oh hai broes , he haz teh invisible cloethz .\" But Shem and Japheth tooks sum cloethz n put dem on Noah cuz he wuz drunkz . They clozd ther eyez so they not sawn his peen n othr nekidness . So Noah wakez up wif teh hangzover n he noes dat Ham shudda cut him offa teh grapez So liek Noah sez : And he sez : Teh Ceiling Cat lieks Japheth , So liek Noah keep livn three hunderd n fifty years after teh waterz goez away So Noah becumz ded whenz he be OMG WTF 950 ???, wowzors but hez ded nao Hai , now thz be th recordz o th genrashnz o Shem Ham an Jafef sonz o Noah , and sonz born 2 thm fter th flud , sonz wit duuuuum namz . Sonz o Jafef wuz Pyle an Magog - ogog an Madai an Javan an 2 - bal an Meshech an Tiraz . They each haz a bukkit ; bukkits be sorted cuz of how they talk n stuf . Sonz o Cush wuz Seba an Havilah ( Nagilah ) an Sabby - tah and Raamah an Sabteca ; an sonz o Raamah wuz Sheba and D - dan . an he bilt Resen in da middle . an others ; he wuz busy ! an sum more , I forget . That wuz Ham . Arpachshad gotz a betur name . an some more , yeah , he got himz sum kidz . kthxbai . And all uv de Urf was lolcatspeekinkz usin ' lolcats werdz . Whial teh menz be movin ' eest , they finded vallee in teh land uv Shinar an sitted ther . Dey sed \" hai , letz maek teh brix an make ' em harrd wif fiir .\" So dey uzed brix for ston an bitumen ( wtf izzat ?) for mortar . Den dey sed \" hai , letz maek reel tall towerz for us so we be togethr forevr !\"< br /> So , Ceiling Cat comeded down an saw teh men an ther towerz . Den Ceiling Cat sez \" Oh noes , if they all togethr after mah hi spot , they gonna get mah hi spot ! I gots ' ta confuzzle ' em and stop ' em !\" Dat ' s wai Ceiling Cat pwned ' em an dragd ' em away from ther towerz . Dey stop buldin ' after dat . So teh towerz wuz calld Babel cuz Ceiling Cat made teh men babbul ther befor movin ' dem .< br /> So liek lissen , dis here ' z teh stuffs Shem did . Two yeerz after teh Urfs wuz all fludz n ' stuff , Shem was liek a hunnerd yrz old , and he finilly got doen to bizness makin teh babeez . He namez furst babee Arpachshad . Shem went an lived OMG ANOTHER 500 YRZ and madez more babeez .< br /> Arpachshad only waeted 35 yrz before he made babeez , and was teh dad ov Shelah . Tehn Arphaxad lived OMG ANOTHER 403 YRZ and madez more babeez .< br /> Shelah only waeted 30 yrz before he goed PENIS GOES WHARE ?!, and was teh dad ov Eber . Tehn Shelah lived 403 more yrz also and madez more babeez ' cuz he dint want hiz dad to show him up .< br /> Eber waeted 34 yrz to has babeez , and was teh dad o teh Peleg . Tehn Eber lived 430 more yrz and madez more babeez jus to show hiz dad and grampz whoz teh boss .< br /> Peleg took afta grampa Shelah an maed babeez at 30 yrz old , and was teh dad ov Reu But Peleg only lasted 209 more yrz , tho he maeded more babeez .< br /> Reu went an did it at 32 , and was teh dad ov Serug . Reu liveded only 207 yrz longer , tho he too maeded more babeez .< br /> At 30 , Serug maed babeez , and was teh dad ov Nahor . Serug only lasted 200 mor yrz , but still maeded mor babeez .< br /> Nahor beet his daddies past and maed babeez at 29 , and was teh dad ov Terah . Nahor also only liveded to 119 , but he too maeded other babeez .< br /> Terah maeded teh babeez Abram , Nahor , and Haran by teh tiem he was 70 .< br /> An Sarai was liek \" OMG I cant hav babeez !& nbsp ;;(\"< br /> So den Terah tookded Abram , Lot , and Sarai and ran off out ov Ur ov Chaldeans . He ment to hed to Canaan , but dey stopded in Haran . Terah died dere in Haran afta 205 yrz . Ceiling Cat sais I can mek u famous on teh interwebs and u mek teh babiez and stuffs . I leik dem who leik u , an I DO NOT WANT ! dem who DO NOT WANT ! you , and I liekd the south africa and the Iraq cuz you leik . Abrams explorded all his base . Da King makeded Abrams gowai and was in his base , stealin all his stuffz . Abram had gots menny moocowz and chikenz ( notz freid ) and piggs and such but pigz wuz stil k cuz abram An hiz peepz wuznt rly joos yet so kosher wuznt invntd yet . he gots too lots of teh shynee coinz and stuffz An den Abram wuz liek \" CIELING CAT !!!!!!!!!! 11111oneeleven \" An Abram and L0t wuz liek \" MORTAL KOMBAT !!\" An Canaanites and Perizzites wuz ther 2 An teh hole urf is larj liek really big hairball . we can splitz up An kittehs of Sodom are evul like puppehs and talkin bad bout Ceiling Cat An iz keepz on raedin wikkidpedia An ritin mor stuff in it bout how 2 b mor eviler den puppehs . so you goes and walks thru my sandboxz , cuz i givez it all to u \" So Abram moved his homez and goed to live by teh really big treez and plants and grass of Mamre at Hebron , where he makez a great cheezburger shrine for teh Cieling Cat . For 12th years tey suffer to Kedolomer , but 13th year they Mortal Kombat !!!@# tehy turn back an went to En Mishpat , and they has whole base now of Amalekites and Amorites in Hazazon Tamar . Tehy grabd Lot and his catnipz and cheezburgers , because he in Sodom homez . when abram got back he shared cheezburgers with Sodom king An He told Abram you can has blessing , saying \" blessed can be Abram by Ceiling Cat , Creator of cheezburgers and cookies and stuff \" And blessed be Ceiling Cat soo high up , Teh king of Sodom sayz 2 Abram , \" i can has teh kittehs , you keep teh catnip and cheezburgers and stuff \" I no take anyting but teh cheezburgers my kittehs alredy eated . An den , Abram can has dream of Cieling Cat , and he sez with no kittehs , my servants can has mah homez and stufs He takes Abram outside and is liek \" look at teh starz and hevenz , if yous can count them , so is ur kittehs \" And Abram was liek srsly ? All cause Ceiling Cat is Righchus He also says \" I iz Ceiling Cat , I give you lots and lots of urfs to has \" Abram was leik \" But how Ceiling Cat , teh horde alredy has possesions ?\" An Ceiling Cat was leik \" Bring me moocow , goat and rams but only 3 yeerz old with a white burd and baby pidgun \" Tehn evil burdz came from the ceiling and eated dem . Abram no liek and says you no can has . but ur great - great - grand kittehs will come back here , cuz then sinz of Amorites reach critical mass \" Amorites , Canaanites , Girgashites and Jebusites .\" Sarai sez to Abe , \" Teh Ceiling Cat sez I no can haz kittehs . Maybe Hagar can haz kittehs . Make kittehs with Hagar .\" Sarai gotted madz at Abram . She sed , \" yr fawlt I is not happy . You and my bukkit holdr made kittehs and kittehs made her sasseh . The Invisible Man sez hooz rite . Abe sed , \" Shez YR bukkit holdr . No srsly .\" So Sarai took Hagarz cheezeburgerz from her and Hagar ran . He sed , \" Where from , where to \" \" I is hiding frm Sarai .\" \" I ' ll make you get lots and lots of kittehs .\" Ceiling Cat spokes - kitteh sais to her : Kitteh will B crazy kitteh donkeh ; Tis why teh water hole iz named Beer Lahi Roi , still der , always will be . Abram was really old when Hagar haz kittens . We can has speshul covenint n i do invisible magic so yous breed leik rabbit .\" i put u in Canaan , first we subdew natives so you can has it 4eva . OHai did I mention i be Ceiling Cat and pwn all yous ?\" Any kitteh with teh dangly bit who not can has cut , i make him go far away , 4 he break teh covenint \" I make invisible Ceiling Cat magic on her an she give u tiny kitteh with dangly bits . Nayshuns and kingz will come out of her kittehs , cuz i lay my badass blessins on her .\" An Abraham say to Ceiling Cat , \" I has son already , Ishmael . He can has awesome Ceiling Cat blessin 2 ?\" Ceiling Cat say , \" Kthxbai !\" n all teh others on his base 2 . Everone with teh dangly bits go snippy snippy . But wen Abraham waz 2 liek \" Oh hai \" ther waz 3 doodz and he waz leik \" WTF \" n he pwned hisself And you can haz cheezburgr .\" And 3 doodz sed \" we can has !\" so Abraham went to Sarah and waz liek \" Mek som cookehs !\" And he sed to 3 doodz \" here , you can has \" N tehy wer liek \" Wher ur woman ?\" And Abraham sed \" ovar ther \" And Sarah LOLed and waz liek \" WTF !? NO WAI ! WE R TEH OLD !! 11 LOL \" Nothin iz inposbell 4 Ceiling Cat , srsly , she gon be teh preggers !\" And Sarah waz liek \" I no LOLed \" Ann he waz liek \" yea u did \" Cuz I choes him so he n his kittehs coud say liek ' Cieling Cat iz cool , srsly '\" \" Im gonna chekc it out n see \" \" WEAK \" So Ceiling Cat waz liek \" k if iz 50 ppl i wont pwn it \" wat if has 45 good ppl ?\" N Ceiling Cat sed \" ill not pwn if has 45 \" N Abraham was liek \" wat bout 40 ???\" an Ceiling Cat sed \" i wont if has 40 \" And Abraham sed \" k , dont b mad or shred me , but wat if has 30 ?\" and Ceiling Cat sed \" i wont if has 30 \" And Abraham sed \" OMG , but wat if has 20 ?\" and Ceiling Cat sed \" i wont if has 20 \" And Abraham sed \" k , dont b mad , thsi is last tiem I promiz , but wat if has 10 ?\" and Ceiling Cat sed \" i wont if has 10 . srsly \" And thei wer both liek \" Kthxbai \" Doodz , he saiz , plz crash on my couch , you can wash my kittehs feet and I will keck j00 out when I r woke . Lolz , teh doodz said , we iz gonna sleep together in teh middle of teh citeh . Teh drunc guyz says to Lot , dood , letz bang teh guyz in j00r place . VISIBLE BUTTSEX ! Aw Hellz nah . We iz gonna hit j00r door an hav lemmon party . ur gonna get raped fisrt . Teh doodz MADE TEH MAGIK ANTI LITE ! ( is ok tho cuz kitteh can see in teh dark ) j00 cant hang out with uz be cuz we is goin ' to PWN this place .\" Lot sez to hiz daughters fiances ( teh 1 s he wuz gonna let the hole town do PENIS GOES WHERE wif ). \" U better go cause Ceiling cat gonna pwn this \" place but they thaught it wuz a TARP . Teh Doodz sez GTFO with ur wimenz or we pwn U 2 . One ov teh doodz sez GTFO nd don ' t l00k back or RTFM . Go 2 the ceiling or we gonna pwn U . howse abouts the lettle town ovar thar ? Pweese ? cauze lettle town is lettle .\" ( lettle toen be called Zoar wich iz funny bibbel naim 4 lettle ) But I gives U teh fast cuz I be waitin fo yo call \" But Lotz wife not RTFM and now has a flavor , flavor iz salty . He RTFM and see lots of smokes n stuff Ceiling cat memberd Abraham and didn ' t pwn A Lot . I get daddy drunk and do PENIS GOES WHERE ?! So we can save our recessive genes .\" That night they giv daddy winez and / b . Daddy drink winez to make imagez go away and older daughter do PENIS GOES WHERE ?!. / b so bad daddy knot remember . / b nasty again so Lot drinkZORS to stuporz and younger daughter doez PENIS GOES WHERE ?! Lettle daughter plop out boy called Ben -( ken ) Ammi who be father of ( ken ) Amminoites today n sing gud . An Abraham saiz \" Dewd , my wief Sarah be iz my sistr ,\" an Abimelech iz liek \" Lol , thaz messd up \" an takd Sarah But Ceiling Cat comez to Abimelech while hez sleepn an saiz , \" O hai , thaz not rite you liek takd a wief away , you be ded now \" An Abimelech is all , \" Abraham saiz he an his sistr be all liek \" PENIS GOES WHERE ?\" an thaz not rite \" But givez back Abraham his sistr even tho thaz nasty ' cuz he bez knowin ' teh futur n ' stufs an if you doeznt I eated you , kthxbai \" An he sai , \" Wut made u do dat ?\" And then latrz , after Ceiling Cat telled us to leef Ejip , so Abraham did sez \" look , no tell other pplz we is marry . i no like teh commit no moar . instead you say you is mai sister , k ?\" And Sarah was all \" k , wut can i do ?\" an Abimelech was all , you can has mai base .\" He sez \" Yo , I have giv ur burdder 1x10 < sup > 3 </ sup > silver cookehs ( about 25lbs ). we cool now ? plz do not eated me , sowry .\" cause when all this started , he put in INVISIBLE DIAPHRAM . Abraham wuz hunderd yeers old at da time . Whoda thunk it ?? Im all old , but Ceiling Cat restorded ma ovaries .\" So she told Abraham 2 tell Hagar the slavezor and her n00b son to GTFO , cuz she didn ' t want them to has no cheezburgrz . Ishmael will getz cheezburgrz l8r when he becomes all h4xx0r n stuffz . srsly .\" Abraham tooked sum cookize n waterz and putted it on Hagar ' s shoulderz and sended her off wif the boi . She was in ur deserts lookin for ur waterz . srsly , it was called Beersheba . and cry cause she dont wanna see boi get ded and dry up like prune pls get him and he can has cheezburgerz cause he is h4xx0r now .\" Kitteh make waterz ( no not that kind , teh kind U can drink ), so U CAN HAS waterz and not dry out and l00k like prune . srsly , it happen . Desert called Paran n mom gots him an egyptian bride ( she walk like egyptian , prolly smell like 1 2 ). swear U not be like NO CAN HAS to me or anything wif my DNA , U be like CAN HAS cheezburgerz n cookiez n happy leik I dids to U .\" Abraham sez \" K BFF kthnx \" Abimelech sez \" WHUT ? WHENZ ? HUH ? WTF ?\" Abimelech sez WTF ? sheepz , I no wanna HARBL GOES WHERE . Abraham sez \" sheepz mean I made hole 4 waterz ur doodz pwnd .\" So nows that place called Beersheba cause those doodz sweared oath there ( Beersheba iz funny bibbel naim 4 well ov 7 or well ov oath , we not rly shur ). n he stayed in teh Philistines for a loooooooooong time . An he gaev wud to Isaac to curry an he tuk torch an knife . An Isaac sed \" K dad wher sheep ?\" He gon stab Isaac Oh noez ! An Abraham sed dis place now cald \" Ceiling Cat Gievs Cheezburgrz .\" An Abraham went wit Isaac an servnts to Beer - sheba 4 long vaycayshun . An Nahors PENIS GOES WHERE ?! kitteh Reumah had kittehs too ! Had Tebah , Gaham , Thahash , an Maachah ! WTFLOLBBQ lots of kittehs ! at Kiriath Arba ( a . k . a . Hebron ) in teh land ov Canaan , n Abraham went 2 mourn 4 her and 2 do tearz at her . \" YO Gimmeh somez landz so I can burry my wife , I pays \" \" U CAN HAS anything U wantz \" so he will sell me teh cave of Machpelah , which be hiz , I payz full price \" \" No , sup ; I gives yous the field , and I gives yous the cave that is in it . itz K , bury the meat , it smells \" and sez \" I pay moniez I rly du \" ( I can get 400 silver cookiez ( about 10 lbs ) 4 teh land butz sheese stinkin up , plant her !)\" Abraham giveh 400 silver cookies to Ephron ( even tho he don ' t gotta ) So Abraham now can haz teh field an cave . but DO WANT wife from my landz and relatives 4 Issac .\" Servant sez whut if she DO NOT WANT come here , Do I takes him there ?\" Servent dood putz hand unner his legz ( ewwwww ) n made oath He getz there when the gurlz are commin it fill BUCKETZ , he makes camuels neel near waterz hole if she sez me and camuels CAN HAS BUCKETS , I bring her back .\" she never do PENIS GOES WHERE ? and waz pretty , She fill BUCKET with waterz He sez CAN HAS BUCKET ? she sez U CAN HAS MY BUCKET He watched to see if Ceiling Cat liked this 1 . and sez , letz go 2 ur dads palce . YOU CAN HAS room at my place KTHZ dood , I ' m goin to Abraham ' s DNA Laban sez \" d00d !!! 1 ! 1 ! WTF you here 4 ? You BFF Ceiling Cat , check out my crib .\" the was delicios cakes but he not eated it , he sez \" I do not want eated it until I tell u this \" but do wanted wife 4 isaac from hims relativez , daz ok .\" I axed \" whut if she DO NOT WANT come here ?\" If it don ' t wurk , just GTFO . KTHXBAI . n she says U CAN HAS MY BUCKET and ur camuels CAN HAS MY BUCKET too \" I ' ll call it gud . I wasnt done talkin to Ceiling Cat when I sees Rebeka an sez \" CAN I HAS UR BUCKET ?\" n she sez U CAN HAS MAI BUCKET and ur camuels too . I axed her who she wuz you CAN HAS gurl , so ur master ' s son can do PENIS GOES WHERE on her . Leik Ceiling Cat sez \" then they eated delicious cake and drinked and sleeped . Bro n mom sed , \" Woah d00d , we needs 10 dayz , then U can GTFO .\" he sez \" WTF ? Ceiling Cat may get pissed \" They axe n she sez KBAI n they blessed Rebeka n sed : So Rebeka n her maidz got on the camuels n GTFO n sez \" who dat who be a commin 2 meat us ?\" n he bringed he into his mom ' s tent n married her , and did PENIS GOES WHERE ? and was comforted after his mother ' s death . Midian maek Ephah , Epher , Hanoch , Abida and Eldaah . Keturah maek all ov dem . But when he was leik not ded yet , he sended some cookiez n cheezburgerz east the bois who he maek wif PENIS GOES WHERE wif udder gurlz . After Abraham get deded , Ceiling cat gived Isaac Ceheezburgerz n stuff when he was at Beer Lahai Roi . We be talkin bout Abraham ' s boi Ishmael taht Hagar who walk leik Egiptian ploop out when she wus workin 4 Sarah . All the peepulz he maded lived from Havilah 2 Shur , nearz Egypt and tehy DID NOT leik each udder . till he wus 40 yearz old , srsly . Ceiling Cat sez neXt 1 come out holdin onto 1st one foots ( he musta comes out backwards ) so theys names him Jacob ( which is funny bibel nam 4 grabbs heelz or deceiver ). Isaac wus 60 when dey ploop out . Dad leiked Esau cause he eated lots of mouses , but mom leiked Jacob . n sed \" Gimmeh sum delicious red cookiez , cauze I no can find mouses and I so humgry I could die .\" Jacob sez \" YOU CAN NOT HAS COOKIEZ , but givh me ur inheritance and YOU CAN HAS DELICIOUS COOKIEZ n CAKES .\" Esau sez , \" I humgry bad , K \" Buy Jacob sez \" swear first delicious cookiz later \", Esau sez \" KTHX \". So Esau swear n CAN HAS DELICIOUS COOKIZ , n go NOM NOM NOM So Isaac stayed in Gerar . Sum d00dz livin there axed him bout hiz wife Rebeka , n he sed \" She mai sister \" cause she so buteamus n l00k leik Natalie Portman covered in hot grits he wuz afraid they eated him and make him teh ded . n Abimelech sez \" d00d ! 1 ! whut if 1 of my guys did PENIS GOES WHERE on hers , thats leik INVISIBLE ERROR \" an he continud \" Any my n00bs touch her gets teh ded \" so teh Philistines were leik \" I ' n in ur waterz pluggin up ur holez . So Abimelech sez 2 Isaac , \" GTFO ur gots teh powerz \" he was leik I ' m in mai holez unpluggin mai waterz taht teh Philistines plugged up n got waterz . yet nother hole , but no 1 sez \" no can has \" so he call it Rehoboth ( leik beach but hole ) n sed \" Ceiling cat sez I CAN HAS waters n landz n we happy \" Ceiling Cat sez < i > Yo ' member me ? I wus wif ur dad Abraham , don ' t be scairded , I gives U cheezburgerz n cakes n stuff , n U gets moar kitteh \"</ i > Isaac builded a cat tree and callded Ceiling Cat n maded a hole for waterz near where he putted hiz tent Isaac sez \" WTF U here 4 ? U tells me to GTFO ?\" I no eated you and you no eated us K ? cause U HAS CHEEZBURGERZ \" tehn dey sweard oath and Isaac sed \" GTFO \". so he callz it Shibah , n teh town be Beersheba . An Issac an Rebekah sez , \" DO NO WANT !\" Isaac gotted olded n blinded he sez < b > YO Esau </ b >, Easu sez \" sup ?\" soes I CAN HAS sum delicious cakez so U CAN HAS cheezburgerz in B 4 ded \" n give 2 daddi n say U CAN HAS DELICIOUS CAKEZ so he giveh U cheezburgerz n be in before ban ( ded ). Dad may feels my no furz , then he would cockmongle me .\" Mom sez \" I ' ll take teh cockmongle 4 U , trust me KTHNXBAI \" den she gived him delicious cakez n cookiez she maided . Jacob wented to daddie n sez < b > Yo </ b > Jacob sed \" I R Esau , 1st ploop U CAN HAS MY DELICIOUS CAKEZ n COOKIEZ , CAN I HAS CHEEZBURGER ?\" Isaac sez \" Damn , that wuz fast , where use find it ?\", Jacob sez \" I gots it from Ceiling Cat \" Isaac sed \" comeh , lemmie touch U so i know if U R furfag Esau \" \" R U rly Esau ?\" he sed \" Gimmeh somez delicious cakez n cookiez n i gives U cheezburgerz \" Jacob does visible kiss with Isaac , when Isaac smellz Jacob he sez : \" Ceiling cat gonna maek U wet landz will serve U n sed here be some delicious cake maid from mouse , U CAN HAS MY MOUSES \" Isaac sez ; \" WTF ? WRU ? we did this B4 \", Esau sez \" I B ME \" Isaac sed \" WTF ? I yust gave cheezburgerz to the last bastard who wuz here , ur AFU \" Esau sed \" WTF !! 1 !! 1 !!! gimmeh cheezburgerz too OMFG , BOHICA \" Isaac sez \" sry d00d , ur SOL \" Esau sed \" yo , U named him Jacob ( Bibul speak 4 he decieves ) He bited me 2 timez , he tooked mai Inhertance n now he eated my cheezburger , you do no has cheezburger 4 me ?\" Isaac sez , \" sorry , ur SOL \" Esau goes \" WTF ? CAN I HAS CHEEZBURGER ?\" n doos tearz . Isaac sez ; ur gonna be ready 4 brawl Esau wuz pissed , he sez \" Imma go columbine on Jacob ASAP \" I ' ll tells U when itz cool Rebecka sed \" I already gotz me 2 hittite slut DIL ' s DO NOT WANT ! If Jacob do PENIS GOES WHERE ? wif a hittite , I be an hero \" Isaac sez \" GTFO KTHXBAI \" so he married 1 for the lulz ( he just puted her in hiz harem wit da Hittites ) I R Ceiling Cat , Watchin U wander n I maek sure U dont get losted .\" This place be stairway to heaven , where Zeppelin be at ?\" he callded that place Bethel ( but it wuz already calleded Luz IN B4 the Bethel ; EPIC FAIL !!). n I ' ll maek a cat box on this rock n U can has 0 . 1 cash back . teh peepuls do move rock so sheepz CAN HAS waterz n tehn puts rock back . Jacob sez \" whar U B from ?\" He sez \" U no Laban , Nahor ' s grandson \" He sez \" He K ?\" He sez \" sheeps CAN HAS waterz \" tehy sez \" sheepz NO CAN HAS waters , need moar sheepz \" He tolded her he wuz her cousin , so she run n tell daddy . tehn Laban say \" UR my 1st cousin !\" Laban sez \" I wants to pays U2 workz , how much U want ?\" Leah eyez point different directionz but Rachel pretty n she stacked Jacob sez \" I wurk 7 yearz then I CAN HAS Rachel ?, cause I got teh loves 4 her \" So Jacob hung out 7 yearz 4 Rachel . Jacob sez \" K , GIMMEH Rachel I wanna do PENIS GOES WHERE on hers \" n Laban gave servant gurl Zilpah to her as maidservent When it gets light in teh morning , Leah ! 1 !! 1 !! Jacob sez to Laban \" WTF ? where B Rachel \" then after U do PENIS GOES WHERE with her for a week , tehn U CAN HAS udder 1 , gonna cost nuther 7 yearz tho . Jacob does PENIS GOES WHERE to Rachel n he even loved this 1 , n he worked nother 7 years . Leah getted preggerz n ploop out boy Ruben n sed \" Ceiling cat see me sad , now Jacob luv me 2 \" ( boy later go on to maek samwichz , rly , srsly ) She ploop out another calld Simeon n sez \" Ceiling cat be in my ceiling , helpin me get luv \" She ploop out nother 1 called Levi n sed \" now heeze gonna rly luv me , I ploop out 3 \" She ploop out yet another called Judah n sed \" TNX Ceiling cat no moar plz hurtz , KTHNX \" Rachel has INVISIBLE DIAPHRAM n sez Jacob \" Gimmeh babies or I go ded \". Jacob sez \" I no can see INVISIBLE DIAPHRAM , WTF ?\" She sez \" do PENIS GOES WHERE on Bilhah , my GF K ?\" Rachel sez \" TNX Ceiling cat \" n name kid Dan Rachel sez \" I WIN \", n call hims Naphtali , but Jacob just be smilin Leah name him Gad . Leah CAN HAS happy n call kid Asher . When Reuben wuz harvestin wheat he find cookiez , He gived teh delicious cookiez to hiz mom Leah , Rachel sez \" CAN I HAS delicious cookiez ?\" Leah sez \" YOU CAN NO HAS my cookiez as I can no do PENIS GOES WHERE ? with Jacob \" Jacob cums home , n Leah sez \" I DO WANT PENIS GOES WHERE ?, I paid 4U with delicious cookiez \". Jacob did PENIS GOES WHERE ? Leah sez \" Ceiling cat iz happy when I gives Jacob my GF Zilpah \" so when she ploop out boy , she names him Issachar . Leah sez \" Ceiling cat gived me nother kid , Jacob gonna leik me now , I names kid Zebulun \" Later she ploop out gurl called Dinah She calls him Joseph n sez \" I can has another ?\" I CAN HAS wifes n kids so I can GTFO . I pay you not 2 GTFO \". I maded you moar animulez n Ceiling cat gived U cheezburgerz , now it ' s my turn . \" Whut U want ?\" he ask . Then he go 3 dayz away n still watch Laban ' s sheepz \" Jacob got teh rich n CAN HAS large flockz n servents n sheeps n donkies n camulels . An Jacob lookeded at Laban an saw he wuz sum pissed . Yer dad leik totally iz hatin on me , srsly ! Ceiling Cat lurves me , but yer dad is awl Rawr Rawr Rawr . but now he is teh suk ! Hrdcor ! Totally ripped me off ! Tuk my bling ! So den Ceiling Cat tookeded AWL his moos and gives em 2 me . But teh bestestet part is taht wen the moos did PENIS GOES WHERE ?!, all dem moos wuz spottsy and stripey . I mean , I dreameded taht part , but it ' s joost leik it ' s troo .\" \" an den dis 1 time , I wuz dreamin taht teh Ceiling Cat yelled at me , sayin \" D00d !\" an I wuz all leik \" WUT ??\" so now uz gotz to make liek a tree an leave .' So evertin Ceiling Cat tookeded is totally ours now , findrs keeprs , no gives backs .\" wit awl hiz stufs goin to Gilead . But taht nite Ceiling Cat sez to Laban , ' D00d , DO NOT WANT u 2 talk 2 Jacob . Not nothin . AN !! u stole awl my l00t ! So , liek I sez - WTF ?\" an wen Laban showed up , she wuz all , \" D00d , iz Taht Time of Teh Month , piss off .\" An TAHT iz y Ceiling Cat dun gotz hiz nite vision goggles on u !\" Laban calld it Jegarsahadutha ( pth pth , liek hevin cat hare in ur mouf ), but Jacob cuden say taht wurd , so he calld it Galeed . In teh mornin , Laban kissie hiz dotters bye bye an wen bak were he come from . Gud riddans . When Jacob sawed thems he sez \" I found Ceiling Cats litterboz ! 1 !!\", so he calleded that where he was at Mahanaim ( n he no can has steamroller ). n I gots donkies n moocows n sheepz n goatz n serventz n cookiez n stuff . I tellin U this so U leik me .\" when hiz budz come back they sez \" Yo , Hees a commin wit leik 400 d00ds \" He thinkz \" If Essau n hiz GI Joes eated 1 group , the udder may not be eated \". Cause U sed ' I be makin U rich n lotsa kidlets '\" He gived the to hiz d00ds n sed \" U go ferst , n spreadem out . U say Jacob giveh U dis , he be in teh back \" So teh gifts went away n Jacob stayed home . the teh Cat sed \" Lemme go , it be light \" Then teh Cat sez \" WRU ?\" the Cat sez \" U no longer Jacob but I names U Israel cause U wins in fights wif Ceiling Cat and peeplez n ovarcome . Jacob sez \" WRU ?\" So Jacob calleded the palce Peniel cause he sed \" I saw Ceiling Cat but he did not eated me \". That ' s why Israelites no can eated teh tendon stuck to teh socket o teh hip , cause Ceiling Cat eated Jacob ' s hip nearz the tendon . Take my pressie , cuz I broughtz it 2 u all dis way on a camel , n Ceiling Cat likez me n I have lotz of cheezburgerz .\" N when he urged him , he tooks it . U go 1st n I ' ll catch up 2 u in Seir , k ?\" But Jacob iz a lier lolz cuz he goez to Succoth n buildz crib 4 him n his cattlez n cattlez have stalls n dat why dey callz it Succoth cuz that means \" booths \" n Hebrewz jive lolz He setz up altar dere n callz it EL - elohe - yisrael dat mean \" Ceiling Cat uf Israel .\" So Shechem sez 2 his daddy - cat , \" Yo , I wantz 2 marrie her NAO !\" Jacob ' s boy - kittehs hearded whassup n cum in frum field all o . O n & gt ;: O n OMG WTF !!! 11 ! 111one !!! 111eleventyteen !!!! cuz dis goyim did PENIS GO WHERE wit Dinah , n dat gainst da Izralee ' s roolz . Srsly , asks me 4 all mah cheezburgerz n bling n stuff , n i will gif u it cuz I wanna PENIS GO WHERE ? to her she ' s that good n da sack . Jus let me marrie her k ? But if n u 2 chicken 2 cut off ur 4skin den we go kthxbai n leavez n take Dinah wit us cuz u b 2 lamer n 2 n00b 2 marrie her . So all dems did whut Hamor n Shechem sez , n all go cut dere 4skins off OUTCH ! n dey taked all de bling n all the kittehs n all da mamacatz n furnitcher n stuff , EVERYTHING , GET IT ???! jeez U dumb k where wuz I everytink n evvybuddy was tookened as prisonush n booty . But the boy kittehs said \" Should r sisty - kitty be treated liek a ho ?\" As dey went Ceiling Cat hissed and yowled and waved his big scary claws at da peeps all round so dey didn ' t chase Jacob ' s boy - kittehs . He buildeded a cathouse n named da place El - Bethel , cuz it wuz dere Ceiling Cat revealed Himself to him when he run skairt frum his brudder . Deborah , Rebekah ' s nurse - kitteh , got pwned by bein old , n dey burreed her under an oak beeloo Bethel ; so it wuz named Allon - bacuth dat means ' oak of da weeping .\" Celing Cat sez 2 him , n Ceiling Cat sez to him Jacob gave dis site where Ceiling Cat spokened 2 him da name Bethel . Israel leevz her dere n goez on 2 Migdal - eder . N while Israel ' s dere boy - kitteh Reuben goez and does PENIS GO WHERE ? with Bilhah , Izzy ' s girlfriend on da side , n Izzy found out . And da sonz uf Zilpah , Leah ' s mad : Gad n Asher . K don ' 4get dese r Jacob ' s sons born in Paddam - aram . when he got pwned . He wuz burreed by his sons Esau n Jacob . This iz bout Esau ' s kittehz , and gitz srsly borin if u wun skip it lol !!! 1 n also Basemath kitteh of Ishmael and littermayt of Nebaioth . and Oholibamah ( lol !) whelpz Jeush , Jalam n Korah . Deez wer tomcat litter of Esau , what wuz born in Canaan . So Esau roamded moer and goez to Seir . K an this iz abowt Esau , liek i alredy sayed . This wut Esau calld his sonz , but iz not gon be on test or nething : Eliphaz wuznt neutered 2 : Eliphaz had girl on side named Timna , she dun whelpt Amalek . Is grandsunz of Adah in case yu wernt followin . Reuel wuznt fikksed 2 : Oholibamah ' s litter wit Esau : An dese ar bosscatz what camed owt Essau ' s litter : Bak 2 Reuel agin : An mor from Oholibamah : Those wuz Esau ' s litter . Seir teh Horite wuznt fikksed either . Srsly , WTF ??!! 1 !: Lotan had kittehz : Shobal had kittehz 2 : Zibeon 2 . No 1 wuz getin fixded bak den : Anah had kittehz 2 . Surprize lol : Dishon had kittehz . I tole yu can skip this alreddy : Ezer ' s kittehz : Dishan ' s litter : Deez r Horite bosscatz : K were doin moer bossez now . Deez wuz all bossez in Edom befoer any Israelite boss evn : Bela wuz boss of Edom an hiz dad wuz Beor . His place wuz calld Dinhabah . Bela got ded , so then Jobab wuz boss . Jobab dieded 2 , then Husham wuz boss . Husham got ded 2 , so Hadad , who srsly pwned Midian in teh face , got to be boss . Hiz city naym Avith . An Hadad got ded , so den Samlah iz boss . Then Samlah got ded , Shaul wuz next boss . An Shaul dieded 2 , so Baal - Hanan wuz next . Baal - Hanan dieded , an Hadad wuz boss . Hiz city naym Pau , an hiz wife wuz Mehetabel . These bossez from Esau ' s litter , organyzd an stuff : An Jacob livd in place calld Canaan wher no1 noo hiz famlyz An no1 carez if he wuz n00b . This iz story ov Jacob . Iz rly story of joseph but teh 1th ppl who rited teh bibel rited it down rong . mus b cuz ov teh funny alfabetz . Joseph wuz 17 yrz old kidz An 1 dai he An his bros wuz givin cookies 2 teh sheeplz . An Joseph wuz brown nose An told hiz old man all teh wikkid stuffs dey did like raedin wikkidpedia An masturbatin An smokin weedz An stealin pplz stufz An stuf . An when his bros saw taht Jacob liekd Joseph mor than ne ov dem , dey hatez him An getz all pissed off An stuf An getz all up in hiz face An sed rly r00d mean ingorent thingz 2 him . we wuz in ur field harvestin ur weetz cuz it wuz farmrz dai off ( cuz dey maded untied farmwrkrz union dammit ), An all ur weetz wuz blong 2 my weetz . An his bros sed 2 him , wtf u ben smokin ? u think u b king or sumthin ? u thinkz u iz bosscat of us ? An they hatez him evn mor cuz ov his drems An wot he sed 2 dem . An he cud haz nothr wierd drem An told his bros yo d00dz , I haz a nothr wierd drem , An chek dis out , teh sun An teh moon An teh eleven stars r blong 2 me . An his bros wuz rly jelus of him ; but his old man rmembrd wot he sed . An Israel whos rael naim wuz jacob sed 2 Joseph , did ur bros gon 2 Shechem 2 getz cookies 4 teh sheepz ? i wantz u 2 goez An mek shur deyz alrite . An he sed k . An he gotz losted ( fuxxing mapquest !!!! 1 !!) An sum d00d finded him An axt him , wut u lookin 4 ? An he sed i iz lookin 4 my bros who iz gon 2 getz cookies 4 teh sheeplz . An wen dey seez him An he wuz stil on teh roadz long wais awai lookin 4 dem , they deciedd 2 pwnz him . so letz us pwnz him , An trhow him in2 sum pit , An we will say sum evil aminal like crocodiel or lion or lolrus eated him : An 2 hell with hiz drems lol . so dont pwnz him , jus trhow him into sum pit way out in teh booniez , An dont hurtz him . cuz Reubn kind of liekd joseph An wuz sort of brown nose 2 An thot he mite taekz him bak 2 his old man wen no1 wuz lookin but he didnt tellz tehm taht .. An they trhowd him in2 a pit An tehr wuznt eny waterz in it . no cheezburgrz or cookies either . An it wuz tiem 4 lunch so dey sitz down An eatz cheezburgrz An cookies : An they saw a crew ov Ishmeelites form Gilead goin 2 egypt with lotz ov camels An all kindz ov rly gud herbz An weedz An othr rly gud stufz taht wuz liek catnipz 4 ppl An wuznt illegalz yet cuz Ceiling Cat didnt mek ne lawz yet but taht wuz ok cuz he wuz gonna maek alot of lawz l8r in exodus An leviticus An numb3rs An d00teromony . we dosent has to pwnz him if we can sellz him . An his bros sed k . An he sez 2 his bros , josepf iz gon , wtf r we gonna do now ? An they brought teh cloths 2 ther old man An sed , we founded htese totaly badass cloths . r htey joseph cloths or not .. An he knew it , An sed , iz my sons cloths ; sum evil aminal eated him liek he wuz cookie ; Joseph is 4 shur torn up in litel peeces . srsly . An all his wiefs An kidz trys 2 maekz him feelz mor betr but wuz no workin An he sed i iz gonna b all sad An emo til i diez . so he kept on bein all sad An emo An stufz . An in egypt teh Midianites sold joseph 2 sum d00d naimd Potiphar , who wuz Pharaohs captain ov teh guard wich iz sorta liek teh cheef of poleesez . N she hadded a secnd kitten n nameded him Onan . Then Judah wuz liek \" OK Onan , u know WHERE HARBLZ GO wif ur brother ' s wife . Its ur job now to make kittenz for ur brother .\" So aftr a long tiem Judah ' s wife died . She wuz Shua ' s daughtr remembr . Aniwai when Judah felt bettr he wented to Timna wif hiz frend Hirah teh Adullamite to shear hiz sheepz . The sheepz wuznt Hirah ' s , they wuz Judah ' s . \" Ur seal n itz cord n ur staff ,\" said Tamar . So he gived them to her and HARBLZ WENT WHERE ? n she gotted pregnant . Judah was liek \" OMG LOL she winz ! bcz I wouldn ' t let her marry mai son Shelah .\" There wuz no more harblez betwin Judah and Tamar aftr that . N then hiz brother , who hadded teh red thread on his paw , comed out n they nameded him Zerah . An ne way teh ishmeelite d00dz taekz Joseph 2 Egypt ; An taht egyptian d00d Potiphar who wuz pharos cheef ov poleesez buyed him An gaev tehm alot of moneyz . An potipharz wief seez taht Joseph wuz teh cute An she sed we can haz sexxs ? An she wuz buggin Joseph evry dai 2 haz secks wif her but he wudnt do it even tho he wuz n00b An didnt kno about “ PENIS GOES WHERE ?” but he thot he mite liek 2 find out sum dai . An she grabz hold ov his cloths An he runz awai rly fast but she didnt letz go of his cloths so he left dem tehre An ran wai nekid An she got all pissed off An emo An stuffz . An when i sed DO NOT WANT !! 1 !!! 1 ! he got skeerd An ran awai An left his cloths here . Naked jospeh is .. naked . An when i sed DO NOT WANT !!!!!!! he left his cloths here An ran awai nekid . but she didnt tellz him she thot joseph wuz teh cute An he wuz rly totaly teh cute when he wuz all nekid An stuffz An she rly wantd to has sexxs wif him An she wuz bein wikkid evil bitch An tryin to getz him in trubl cuz she wuz all pissed off An stuff . An teh bosscat of teh prison didnt haz to wry about teh dunjon ne mor ; cuz Ceiling Cat wuz takin care ov joseph , An wot evr he did , Ceiling Cat wuz all kewl wif it . An 1 nite teh butler d00d An teh bakr d00d bof had wierd dremz An teh butler d00d dremd about grapez An wien An teh baker d00d dremd about cookiez . An he axt tehm y r u all sad An stuf 2dai ? An dey sed we can haz wierd dremz An we dont undrstanz dem An no 1 can tellz us wtf dey meanz . An Joseph sed Ceiling Cat knos wot dey meanz . tell me wot wuz dey about An i wil axt Ceiling Cat . An I took teh grapes An maded wien An gaev it 2 pharo An pharo rly liekd it alot . An cuz sum wikkid evil mean d00dz kidnapd me form teh land ov teh Hebrews An i didnt do ne wikkid evil stuf but dey puts me in teh dunjun ne wai . An in teh top bukkit tehre wuz all kindz ov rly gud cookiez 4 pharo but he sed DO NOT WANT !!!!!!!!!! An he chopd of my hed An hung me on a tree An teh burds eated teh cookies out ov teh bukkitz . An in 3 dais pharo wil chopz of ur hed An hang u on a tree An teh burds wil eatz u up An stuf liek u was cookies . But he sed to teh baker d00d i dont liek u cuz u maded bad cookies An DO NOT WANT !!!! 1 !!!! 1 !: so he chopz off teh baker d00ds hed An hung him on a tree An teh burds eated him liek he wuz cookies , just liek Joseph sed . but teh butler d00d wuz so xited he 4got 2 tellz pharo about Joseph . An teh 7 skinny moocowz eated up teh 7 fat moocows . moocows dosent eats moocows irl but it wuz drem so dey cud eatz dem . An pharo woke up . An teh 7 dryd up ears eated up teh 7 rly gud ears . cormz cant eatz othr cormz irl but it wuz drem so dey cud eated tehm . An pharo woke up An saw dat it wuz drem . An in teh mornin he wuz all skeerd An emo An stuffz An he txtd all teh majic d00ds ov Egypt An all teh rly smrt geek d00ds An sed com 2 my base An pharo told tehm hiz drem ; but no 1 cud tellz pharo wtf it meanz . An wut he tellz us bout teh dremz happend irl , pharo tellz me iz ok i lieks u again An he letz me be butler d00d again but he chopd of teh bakers hed An hung him on a tree An teh burds eated him liek he wuz cookies . Tehn pharo IMd teh bosscat of teh dunjun An sed tell Joseph to come ovr 2 my base , An dey took him out ov teh prison An he took baffs wich wuz ok cuz he wuz rly drty form bein in teh dunjun An besiedz he liekd baffs , An he shave his face cuz no 1 in egypt wuz muslimz yet An teh hebrooz wuznt rly jooz yet so dey didnt haz to has beardz An he put on sum noo clos An sum noo sneekz An went 2 pharos base . An pharo sed 2 Joseph i can haz wierd dremz An no 1 can tellz me wtf it meanz An teh butler d00d tellz me u nos wtf drems meanz . An Joseph sed i dono but i can axt Ceiling Cat An he wil tellz me wtf it meanz so u wil feelz betr An not b all skeerd An stuffz . An aftr dey eated tehm up , dey wer stil all skinny liek dey didnt eated dem An tehn i woke up . An teh 7 dryd up cormz eated up teh 7 rly gud cormz .. An i woke up An saw dat it wuz drem . An I tellz taht 2 teh majic d00dz An teh rly smrt geek d00dz but no 1 knoz wtf it meanz . An teh 7 skinny ugly moocowz r 7 years ; An teh 7 dryd up cormz meanz tehr wil b 7 bad years ov no cheezburgrz An no cookies . An cuz pharo dremd teh sam drem 2x it meanz taht Ceiling Cat iz rly gonna do all taht rly soon . srsly . An u wil haz lotz of fudz 4 teh 7 bad yearz of no cheezburgrz An no cookies so teh ppl in egypt wont b all hungry An starvin An dyin An stuffz . An dont wry , Ceiling Cat wil makez mirakel An teh icecreemz wont get all meltd An teh meeses wont getz in2 teh bildinz An eatz up all teh foodz An mek meese poopz all over it cuz dat wud rly suxx . srsly . An pharo sed 2 his peepz , wehre can we find sum1 2 do all dis stuffs ? An dey sed duh , getz joseph 2 do it . i wil maeks u teh bosscat ov my base , An u wil tellz all teh ppl wot 2 do : im teh only 1 gonna b ur bosscat cuz i iz pharo . An he gaev him his 2th best tricked out ride but it wuz chariot cuz carz hadnt ben nventd yet An wehn teh ppl seez him comin dey getz all xited An sez respekz tihs d00d cuz he iz bosscat ov all teh land ov Egypt . An pharo sed u can has new naim , i wil callz u Zaphnath - paaneah wich iz rly hard 2 speel but teh egipshunz had rly weird riting taht wuz all maed out ov pitchurs nsted ov lettrz ; An he letz him marry Asenath wich is rly wierd naim 4 a grrrl cuz it soundz kind ov drty An he finaly found out bout “ PENIS GOES WHERE ?!” An she wuz teh daughter ov Poti - pherah wich soundz kind ov drty 2 An he wuz priest ov On wich isnt hard 2 speel An dosent soundz drty . An Joseph sed kthxbai An went all ovr teh land ov Egypt in his tricked out ride tellin all teh peepz wot 2 do An stuff An dey sed k . An Joseph puts so meny bukkitz An bukkitzz ov cormz in tehr taht no 1 cud countz tehm . wich wuz gud cuz popcorm had ben nventd An all teh peeps liekd 2 eatz popcorm wen dey wuz watchin dere dvdz An stuf An wehn dey axidently dropz popcormz on teh flor teh kittehs thinkx itz toyz An lieks to playz wif it but dey duznt lieks 2 eatz it . An he naimd teh 2th kid Ephraim cuz he sed it meanz Ceiling Cat gaev me lotz An lotz of gud stuffz so mai lief dosent suxx no mor . An wen all teh peepz in Egypt gotz hungry , dey sed 2 pharo we can haz cheezburgr ? An pharo sed go 2 Joseph cuz he is bosscat ov u An do wot evr he sez . An dey sed kthxbai .. An all teh peepz form teh hol urthz cam 2 Egypt 2 by ppl fudz An catfoodz An catnipz An stuffs cuz der wuz hungryz An starvashunz An bad stufz liek taht all ovr teh urths An joseph sed u can haz cheezburgrz An cookies An cakez An icecreemz An katfudz An catnipz An stuf An dey gaev him lotz ov moneyz An evry1 sed kthxbai . yo d00dz , i hurd dat tehr iz fudz An catnipz An stuff in egypt . go tehre An buy sum so we wont b all hungry An starving An gettin ded An stuffs . An dont 4gets teh cat foodz An teh catnipz cuz teh kittehs iz all hungry An starvin An stuf 2 . An jacobz sons went wif alot of othr peepz 2 by foodz An stuff in egypt cuz lotz of otehr ppl in canaan wuz all hungry An starvin . An wehn Joseph seez his bros , he decieded 2 fakez dem out so he made liek he didnt knos dem An he wuz all liek i iz bosscat kiss my butt An he axt dem wehre u caemz form ? An they sed from Canaan An we wantz 2 buy f00dz An stuffz cuz our peeps An kittehs iz all hungry An starvin An stuff . An Joseph sed u iz spyz , u jus wantz 2 seez if my peepz iz all hungry An starvin An gettin ded liek all teh ohter ppl . We r all bros An we iz gud d00dz An not spyz . An he sed no wai , u iz spyz . An they sed we r 12 bros but our kid bro is bak at our old manz base An one ov our bros got ded long tiem ago . An teh cheef ov poleesez puts tehm in teh dunjon 4 3 dais . An they sed 2 each otehr , We rly fuxxed up wif our othr bro An didnt lissen 2 him An we did wikkid mean evil stuf 2 him An nao we iz scrood . srsly . An dey didnt kno dat Joseph undrstoodz dem . An joseph sed xqz me gotta go 2 teh sandboks brb An tehn he got all sad An emo An stuff An cryed but he didnt letz dem seez An den he cam bak An took hiz bro Simeon An puts him bak in teh dunjon . An his bros filz up all tehr bukkitz wif teh foodz An stuf An sed gon 2 canaan kthxbai . An he sed wtf i has a money in my bukkit wif teh f00dz An dey gotz all skeerd An almos had heart attaxz An stuf An dey sed Ceiling Cat An teh bosscat ov egypt mus b messin wif us . we iz 12 bros but 1 of dem got ded An our kidbro is bak at our old manz base . An bring ur kid bro bak 2 my base so i wil know taht u r gud d00dz An not spyz An i wil letz ur otehr bro out ov teh prison An u can hangz out in egypt k ? An Jacob sed wtf Joseph is ded An Simeon iz in teh prison An u will taek Benjamin 2 egypt An prity soon all my kidz wil be gon . An Reuben sed if benjamin getz ded u can pwnz my 2 kidz . i wil maek shur he getz bak to our base An not getz pwnzd . An he sed no wai , his othr bro is ded An he no can haz no mor bros An if sum1 pwnz him i wil has heart atakxz An getz ded 2 . An l8r wen dey had eated up all teh fudz dey got form egypt , jacob sed 2 his kidz go bak 2 egypt An say we can has mor cheezburgrz An cookies An stuff ?. but liek i jus sed teh mean bosscat d00d sez , if ben dosent com wif us we no can goes bak . An Israel whos rael naim wuz jacob sed wtf u st00pid n00bz , y u tellz bosscat u haz othr bro ? An dey sed teh bosscat axt us bout our famly An wantd 2 kno if our old manz wuz aliev or not An if we haz nothr bro An stuf An we sed yes cuz Ceiling Cat sez u no tellz lies speshly 2 bosscat . An we didnt kno bosscat wud tellz us bring ur otehr bro 2 my base or u no can haz cheezburgrs An cookies An stufz . srsly . see , if we tookz him wif us b4 we cud alrdy haz mor cheezburgrz An cookies An stuffz . An i wil axt Ceiling Cat Almighty 2 mek bosscat not b mean d00d An letz all ov u comz bak saef . If u getz pwnzd i wil be all sad An emo An can haz hart atacxx An stufz but wtf if u duznt go i wil getz ded form hungrz An starvashunz newai . cul8r bai . An when joseph seez all hiz broz An evn hiz kidbro , he sed 2 hiz butler d00d , u taekz htese hebroo d00dz bak 2 my base An mekz sum cheezburgrz An cookies An stufs cuz iz lunch tiem An dese menz iz can haz lunch wif me . An all teh bros wuz skeerd An they sed oh noes , bosscat iz mean d00d An mai b he knos bout teh moneyz wut wuz wif teh f00dz wehn we wnet bak 2 our base An mai b he wil getz teh cheef of poleesez 2 trhow us bak in teh dunjun An taht wil rly suxxz . srsly . cuz we r gud menz An dosent kno who puts teh moneyz bak in our bukkits An we didnt steelz nethin . An teh butlr sed dont wry , ur Ceiling Cat tellz me put teh moneyz bak in tehr wif teh foodz An i sed k . An he sed simeon com out here ur bros iz her An he sed k . An teh butler d00d sez iz lunch tiem An u can haz cheezburgrz An cookies An stuf An dey sed kewl , thx . An he axt dem how r u doin An howz ur old man An is he stil aliev . An dey sed he iz ok jus hungryz An stuf liek all teh otehr ppl An they bowed down 2 him again cuz dey wuz all skeerd An stuf . An Joseph sed xqz me gotz to go 2 sandbockz brb An he went An got all emo An cryed An stuff . An he cam bak An sed itz lunch tiem An we can haz cheezburgrz An cookiez An stufz . An joseph gaev evry1 lotz of fudz An stuffz but he gaev teh most foodz 2 benjamin cuz he raely liekd him alot . An dey can haz wien An cakez An icecereemz An stuffz liek it waz burfdai prty or sumthin An dey wuz all happy An stufs cuz bosscat didnt pwnzd tehm or trhowz dem in teh dunjun An othr mean stuff . An put my favorit silver cup in teh kidbros bukkit wif hiz moneyz An he sed k . did u steelz bosscats favrit silver cup wen u wuz in hiz base eatin ur lunchs ? iz wikkid An evil An ur Ceiling Cat sez u no steelz stuf form ppl , rite ?. look in all our bukkitz An if u findz it u can pwnz who evr haz it An u can puts us bak in teh dunjon k ?. An he sed I iz not mean d00d so i jus puts teh 1 who stol it bak in teh prison An all u othr d00dz can goes bak 2 ur old manz base k ? den dey got all skeerd An took all teh foodz An catnipz An stufz bak 2 teh city . An Joseph sed wtf u did ? dont u knos i iz majik d00d An can seez stuff liek taht ? An Judah sed we no steelz nething An u gotz 2 bleev us . Ceiling Cat knos wot happnd An if we steelz nethin u can pwnz us or puts us bak in teh dunjun or wotevr . An Joseph sed ur Ceiling Cat tellz me not 2 pwnz u . but teh d00d wot steeld my favrit cup haz 2 goes 2 teh prison An teh rest of u can goes bak 2 ur old manz base . An we sed our old man iz stil aliev An we hav a kid bro An his otehr bro who haz teh same momcat got ded long tiem ago An he iz teh only 1 who has teh same momcat An our old man rly luvs him alot . srsly . An wen we wnet bak 2 our old manz base we told him wot u sed An he wuz all skeerd An stuffz An sez i no can lets him goes cuz sum1 mite pwnz him or crocodielz or lions or lolrusz mite eatz him . An we sed we no can goes bak tehre cuz teh bosscat wuz mean d00d An he sed if u no brngz ur An if his kid bro getz ded i wil be so sad An emo An stuffz , i can has hart attackxxz An stuf An get ded . so i sed to our old man i wil taeks caer ov him An if he getz ded u can pwnz me or wot evr . see i no can goes bak to our old manz base if our kid bro no can goes 2 . cus liek i jus sed our old man can has hart attakxxxz An get ded An DO NOT WANT !!!! 11 !!!! An he got all emo . srsly . An he cryed An stufz An all teh Egyptians in pharos base hurd him but taht wuz k cuz menz wuz aloud 2 cryz back in teh day . An Joseph said hai , I iz ur bro Joseph . iz our old man stil aliev ? An his bros wuz getin all skeerd An stufz An didnt knoes wtf 2 do . An Ceiling Cat wantd me 2 mek shur hter wil b enuf cheezburgrz An cookies An cornz An katfudz An catnipz An stuffs so teh peepz An teh kittehs wont get ded form teh hungrz An starvashunz . An i wil givz u lotz of cheezburgrz An cookies An cornz An catf00dz An catnipz cuz htere wil b 5 mor yrs ov hungerz An starvashunz An no cheezburgrz An no cookies An if u staiz in canaan u mite get ded form teh hungrz An starvashunz An DO NOT WANT !!! 1111 !!!!!! An tell our old man taht im in ur egyptz bein teh bosscat An teh egypt is gud place 4 base An he shud com here rite awai . An all his otehr bros got all emo 2 An it wuz rly rly huggz tiem . srsly . An bringz him An all ur famlyz An moocows An sheepz An kittehs bak 2 egypt : An I wil maekz base 4 htem An dey can has lotz ov cheezburgrz An cookies An cornz An catf00ds An catnipz An stuf . An tel tehm dont wry about all ur otehr stufs cuz u can has all new stuffs form teh egyptz . An not walmart stuffz either , u can haz teh rly gud stuf liek bloomingdalez An nieman marcus . An dey sed kthx gon 2 canaan brb An he sed wach out An dont letz ne1 pwnz u An dont letz teh crocodielz An teh lionz An teh lolruses eatz u k bai . An Israel whos rael naim wuz Jacob sed how kewl is taht ! Joseph iz aliev An iz bosscat of all teh egyptz . w00t ! i can goes 2 seez him An b wif him An haz noo base b4 i get ded . An Israel whos rael naim wuz jacob taekz all hiz wiefs An hiz kidz An ther wiefs An hter kidz An his kittehs An hiz moo cowz An his sheeplz An stufs An said gon 2 egyptz An not brb k bai . An dey caem to Beer - sheba An jacob sed we can has bbq An htey burnt up a moocow An a sheepl An lotz ov catnipz An Ceiling Cat sed kthx ur rly g00d peepz An i lieks u alot . An Ceiling Cat sed Jacob , Jacob . An he sed im in ur beersheba lissenin 2 Ceiling Cat . I wil b in ur egyptz watchin ovr u An ur peepz . An evry wher els 2 . An all hiz wiefs An hiz kidz An ther wiefs An teh hol famlyz sed gone 2 egyptz An not brb kbai . An wuz alrdy big famlyz cuz jacob can has 4 wiefs An dey did alot ov PENIS GOES WHERE ?! srsly . An htese are all ov jacobs peepz . An most ov dem has wierd naemz cuz teh 1th peepz who rited teh bibbl can haz weird alfabetz . jacobs kid Reuben who wuz not sammich had teh kidz Hanoch An Phallu An Hezron An Carmi . An jacobs kid Simeon had teh kidz Jemuel An Jamin An Ohad An Jachin An Zohar An Shaul . An jacobs kid Levi who wuz not pantz had teh kidz Gershon An Kohath An Merari . An jacobs kid Judah had teh kidz Er An Onan An Shelah An Pharez An Zerah but Er An Onan wuz alrdy got ded . An Pharez had teh kidz Hezron An Hamul . An jacobs kid Issachar had teh kidz Tola An Phuvah An Job who wuz a rael piece ov werk An Shimron . An jacobs kid Zebulun had teh kidz Sered An Elon An Jahleel . An htose kids momcat wuz Leah An hter sis wuz Dinah so tehr wuz 30 An 3 ov dem countin all teh kidz kidz . An jacobs kid Gad had teh kidz Ziphion An Haggi An Shuni An Ezbon An Eri An Arodi An Areli . An jacobs kid Asher had teh kidz Jimnah An Ishuah An Isui An Beriah An Serah ther sis . An Beriah had teh kidz Heber An Malchiel . An thos kidz momcat wuz Zilpah An tehr wuz 16 ov em countin all teh kids kidz . An jacobs kid Joseph had teh kidz Manasseh An Ephraim in teh egpyt An ther momcat wuz Asenath . An jacobs kid Benjamin did alot ov PENIS GOES WHERE !? An had teh kidz Bela who wuz not dracula An Becher An Ashbel An Gera An Naaman An Ehi An Rosh An Muppim who wuz not muppet An Huppim An Ard . so countin all teh kidz kidz ther wuz 14 of dem . An jacobs kid Dan had teh kid Hushim . An jacobs kid Naphtali had teh kidz Jahzeel An Guni An Jezer An Shillem . An bilhah wuz tehr momcat . An liek i sed b4 , Joseph had 2 kidz in teh egyptz . so jacob can has 60 An 10 ppl in his hol famlyz but is k u no duz teh maths . An Joseph can has chariot cuz cars wuznt inventd yet An he sed 2 pharo gon 2 goshen brb An wnet 2 see his old man An dey got all emo An it wuz huggz tiem An dey cryed alot cuz dey wuz all happie An xited An stuff . An jacob sed thx muchz to Ceiling Cat cuz i can seez joseph agin An he iz aliev An i can gets ded from bein all hapy An xcited An stuf .. An u tellz dem we is shepherds An has lotz ov moo cowz An sheeps so pharo wil sai i maek ur base in teh land of Goshen cuz teh gypshuns gots dis wierd thing bout shepherdz An dey liek 2 eat sheeplz An moocows but htey dosent liek 2 liv wif dem An dey will say DO NOT WANT ! 111 !!!!!!!!. An he taekz 5 ov his bros 2 seez pharo . An dey sed we use to liv in teh canaan but u tellz us we can has base in teh egpytz cuz our moocows dosent has ne f00dz An dey wil get ded if we stais ther so pls we can has base in goshen ?. An u iz rly gud d00d An i liekz u alot so ur old man An ur bros can has rly gud base in Goshen : An dey can b bosscats of all my moo cows An sheeplz 2 . An pharo axt Jacob how old r u ? An Jacob sed 2 pharo gon 2 goshen kthxbai . An Joseph took caer ov his old man An his bros An all his old mans famlyz An gaev htem lotz of cheezburgrs An cookies An corns An stufffz . An catfudz An catnips 4 teh kittehs 2 . An dey didnt has ne mor moneys . An l8r all teh Egyptians caem 2 Joseph An sed we can has cheesburgrz An cookies An stuffz ? cuz we r all hungry An starvin An stufz but we dosent has ne mor moneyz An f00d stamps haznt ben nvntd yet An evn all our moocowz is all hungryz An starvin cuz tehr iznt evn ne gras left cuz dey eated it all An we evn eated sum ov it . An dey sed k An joesph can has all tehr horses An sheepz An moo cows An donkyz An Joseph gaev htem cheezburgrz An cookies An cornz An catfoods An stufs An 4 a hol yeer . othr wiez we will all get ded form teh hungryz An teh strvashunz . so u can haz all our base An we can has cheezbugrz An cookies An stuf k ? An we can has seedz 2 An we wil werk on all teh farmz 4 pharo kkkkk ? but pharo sed 2 joeph u no can haz fake Ceiling Cats bases cuz fake Ceiling Cats wil get all pissed off An stuf . but pharo didnt kno taht fake Ceiling Cats wuz fake Ceiling Cats he thot htey wer rael An he wuz all skeerd An stufs . so he didnt taekd fake Ceiling Cats bases . An sum of ur vegbatels An froots is blong 2 pharo An teh rest is blong 2 u so u An ur famlyz wont b all hungry An starvin An stuff . An they sed thx muchz u is rly gud d00d , u tek caer of us An we will werks 4 pharo An we wont b all starvin nao . kthxbai . An htats how dey stil duz thingz in teh egyptz . sum of teh f00dz is belong 2 pharo An teh rest is blong 2 teh ppl but all fake Ceiling Catz base is stil blong 2 fake Ceiling Cats . An teh isrealitz livd in goshen long tiem An they hadz lotz An lotz of moneys An stuff An dey did alot of PENIS GOES WHERE ??! An had lotz An lotz of kidz . srsly . but u bury me wif my old man in teh canaan An joseph sed k . An jacob sed Ceiling Cat is watchin u An if u dont do htat den Ceiling Cat wil be all pissed off An stuff An maybe he evn meks u ded . 4 rael . den jacob sed u r rly gud kid . An den jacob wuz all tired cuz he wuz rly old d00d An he sed nitey nite An wnet 2 sleepz . an sed 2 me , im goin 2 mak u rly rich d00d an will increase ur cheezburgerz and childrenz . Im gonna mak u mod ov all tha interweb , an im gonna giv dis land as an evrlastin posesshun 2 ur descendants aftr u . srsly . Essept mebe otha peepol will also say iz their posesshun and will be lots of MORTAL KOMBAT and stuffs but otha than thats its your posseshun srsly . anywayz , as i wuz returnin frum paddan ( they haz good barz there ), 2 mah DO NOT WANT rachel go wai and be ded in da land ov canaan while we wuz still on teh wai , lil distance frum efrath , and rly rly far frum antartica . So i burid her like turd thar beside teh road 2 efrath \" ( dat iz , bethlehem , also vry vry far from antratica ... srlsy ). nao israels eyez wuz not wurkin so good cuz ov old age and cuz he spends lots of taim on intraweb lookings at lolcat pagez , an he cud hardly c . srlsy . So joseph brought his sons close 2 him , an his fathr kisd them an embracd them an snorgled them and then forgoted their names cuz hes rly rly rly old . but israel reachd out his rite hand an put it on efraims head , though he wuz teh youngr , an evn tho he had jus used that hand to scratch hrballz , an crosin his arms like macarena , he puted his left hand on manasehs head , even though manaseh wuz teh firstborn and even tho he had lice . but his fathr was all laik , REQUEST DENIED an sed , \" i knoe , mah son , i knoe . I r not dummy head . He 2 will become peeps , an he 2 will become great like man who invented flee collars . but , his youngr brothr will be greatr than he , and always win at pokemonz and get hottest date at promz , an his childrenz will become group ov nashuns and will listen to music he no likez \" An cuz u iz bosscat i giv teh ridge ov land i took frum teh amoritez wif mah sword an mah bow ( An mai aroz 2 cuz bo wfout arros duznt werkz gud ) an mah gat .\" but ur kittehs won ' t have cheezburgrz cuz u peed in mai bedz ! An scratched mai couch !\" So ur cursed an ur baby kittehs will be scattrd an not frenz .\" an milk an wine !\" \" Zebuluns kittehs can has hoem by the sea an can has boats to play with .\" an wantz to rest an so will be servant an licks feetz .\" He can be serpentcat and bitez teh horses so ridrs fall LOL !\" I can haz salvation yet , ceiling cat ? \" Gad , a walrus take ur bukket ! But u can haz it bak .\" \" Asher kittehs are roly - poly ! LOL They maded cookies but eated them .\" \" Napthali , ur bum iz gassy . But u talk nice , so iz k .\" An u can haz ur dads cheezburgrz an ur bros not haev em .\" \" Benjamin huntz wild cheezburgrz at nite ! LOL !\" An the 12 kittehs eated cheezburgrz from dads . An he went teh ded . dadz sed u gots burry me in Canaan so I taek him out of ur place an burry him in Canaan but I coem back kthxbai \" an Pharaoh said \" k \" an with the walrus and hiz bukket an dey were lotz of kittehs cuz deyd carreed him there dunt werry I give u cheezburgrz \" an he gaev em cheezburgrz an he died an dey put him in a box\n"
     ]
    }
   ],
   "source": [
    "lolcat = ' '.join(nltk.corpus.genesis.words('lolcat.txt'))\n",
    "print(lolcat)"
   ]
  },
  {
   "cell_type": "code",
   "execution_count": 104,
   "metadata": {},
   "outputs": [
    {
     "name": "stdout",
     "output_type": "stream",
     "text": [
      "foodz\n",
      "mattr\n",
      "ai\n"
     ]
    }
   ],
   "source": [
    "# http://www.lolcatbible.com/index.php?title=How_to_speak_lolcat cannot be accessed.\n",
    "# I just guess the rule by some online lolcat and English translators. \n",
    "def convert_english_to_lolspeak(word):\n",
    "    word = re.sub(r'^I$', 'ai', word)\n",
    "    word = re.sub(r'le$', 'el', word)\n",
    "    word = re.sub(r'er$', 'r', word)\n",
    "    word = re.sub(r's$', 'z', word)\n",
    "    word = re.sub(r'(?<=[^aeiouAEIOU])i$', 'ai', word)\n",
    "    return word \n",
    "\n",
    "print(convert_english_to_lolspeak('foods'))\n",
    "print(convert_english_to_lolspeak('matter'))\n",
    "print(convert_english_to_lolspeak('I'))"
   ]
  },
  {
   "cell_type": "markdown",
   "metadata": {},
   "source": [
    "### exercise38"
   ]
  },
  {
   "cell_type": "code",
   "execution_count": 113,
   "metadata": {},
   "outputs": [
    {
     "name": "stdout",
     "output_type": "stream",
     "text": [
      "['hyper-\\nword', 'regular-\\nexpression', 'com-\\nputer']\n"
     ]
    }
   ],
   "source": [
    "# a\n",
    "text = 'I want to test for hyper-\\nword with the regular-\\nexpression and com-\\nputer.'\n",
    "words = re.findall(r'\\w+\\-\\n\\w+', text)\n",
    "print(words)"
   ]
  },
  {
   "cell_type": "code",
   "execution_count": 114,
   "metadata": {},
   "outputs": [
    {
     "name": "stdout",
     "output_type": "stream",
     "text": [
      "['hyper-word', 'regular-expression', 'com-puter']\n"
     ]
    }
   ],
   "source": [
    "# b\n",
    "handled_words = [re.sub('\\n', '', word)for word in words]\n",
    "print(handled_words)"
   ]
  },
  {
   "cell_type": "code",
   "execution_count": 115,
   "metadata": {},
   "outputs": [
    {
     "name": "stdout",
     "output_type": "stream",
     "text": [
      "hyper-word\n",
      "regular-expression\n",
      "computer\n"
     ]
    }
   ],
   "source": [
    "# c\n",
    "def remain_hyphenated(word):\n",
    "    subwords = word.lower().split('-')\n",
    "    if (subwords[0] not in nltk.corpus.words.words() and subwords[1] not in nltk.corpus.words.words()):\n",
    "        return re.sub('\\-', '', word)\n",
    "    else:\n",
    "        return word\n",
    "    \n",
    "for word in handled_words:\n",
    "    print(remain_hyphenated(word))"
   ]
  },
  {
   "cell_type": "markdown",
   "metadata": {},
   "source": [
    "### exercise40"
   ]
  },
  {
   "cell_type": "code",
   "execution_count": 119,
   "metadata": {},
   "outputs": [
    {
     "name": "stderr",
     "output_type": "stream",
     "text": [
      "[nltk_data] Downloading package abc to /Users/binxie/nltk_data...\n",
      "[nltk_data]   Unzipping corpora/abc.zip.\n"
     ]
    },
    {
     "name": "stdout",
     "output_type": "stream",
     "text": [
      "68.56965469747922\n",
      "68.81483530728246\n"
     ]
    }
   ],
   "source": [
    "nltk.download('abc')\n",
    "\n",
    "def calculate_ari(text):\n",
    "    punkt = nltk.data.load('tokenizers/punkt/english.pickle')\n",
    "    sentences = punkt.tokenize(text)\n",
    "    words = word_tokenize(text)\n",
    "    avg_sentence_length = sum(len(sentence) for sentence in sentences) / len(sentences)\n",
    "    avg_word_length = sum(len(word) for word in words) / len(words)\n",
    "    \n",
    "    return (4.71 * avg_word_length) + (0.5 * avg_sentence_length) - 21.43\n",
    "\n",
    "print(calculate_ari(nltk.corpus.abc.raw(\"rural.txt\")))\n",
    "print(calculate_ari(nltk.corpus.abc.raw(\"science.txt\")))"
   ]
  },
  {
   "cell_type": "markdown",
   "metadata": {},
   "source": [
    "### exercise42"
   ]
  },
  {
   "cell_type": "code",
   "execution_count": 185,
   "metadata": {},
   "outputs": [
    {
     "name": "stdout",
     "output_type": "stream",
     "text": [
      "r king ! DENNIS : Listen , strange women lying in ponds distributing swords is no\n",
      " beat a very brave retreat . ROBIN : All lies ! MINSTREL : [ singing ] Bravest of\n",
      "       Nay . Nay . Come . Come . You may lie here . Oh , but you are wounded !   \n",
      "doctors immediately ! No , no , please ! Lie down . [ clap clap ] PIGLET : Well  \n",
      "ere is much danger , for beyond the cave lies the Gorge of Eternal Peril , which \n",
      "   you . Oh ... TIM : To the north there lies a cave -- the cave of Caerbannog --\n",
      "h it and lived ! Bones of full fifty men lie strewn about its lair . So , brave k\n",
      "not stop our fight ' til each one of you lies dead , and the Holy Grail returns t\n"
     ]
    }
   ],
   "source": [
    "from nltk.corpus import wordnet as wn\n",
    "\n",
    "class IndexedText(object):\n",
    "    def __init__(self, stemmer, text):\n",
    "        self._text = text\n",
    "        self._stemmer = stemmer\n",
    "        self._index = nltk.Index((wn.synsets(self._stem(word))[0].offset(), i)\n",
    "                                 for (i, word) in enumerate(text) \n",
    "                                 if len(wn.synsets(self._stem(word))) != 0)\n",
    "            \n",
    "    def concordance(self, word, width=40):\n",
    "        key = wn.synsets(self._stem(word))[0].offset()\n",
    "        wc = int(width/4)                # words of context\n",
    "        for i in self._index[key]:\n",
    "            lcontext = ' '.join(self._text[i-wc:i])\n",
    "            rcontext = ' '.join(self._text[i:i+wc])\n",
    "            ldisplay = '{:>{width}}'.format(lcontext[-width:], width=width)\n",
    "            rdisplay = '{:{width}}'.format(rcontext[:width], width=width)\n",
    "            print(ldisplay, rdisplay)\n",
    "\n",
    "    def _stem(self, word):\n",
    "        return self._stemmer.stem(word).lower()\n",
    "    \n",
    "porter = nltk.PorterStemmer()\n",
    "grail = nltk.corpus.webtext.words('grail.txt')\n",
    "text = IndexedText(porter, grail)\n",
    "text.concordance('lie')"
   ]
  },
  {
   "cell_type": "markdown",
   "metadata": {},
   "source": [
    "### exercise44"
   ]
  },
  {
   "cell_type": "code",
   "execution_count": 199,
   "metadata": {},
   "outputs": [
    {
     "name": "stdout",
     "output_type": "stream",
     "text": [
      "0.11196478251537872\n",
      "0.11372358457318185\n",
      "0.10038406558766003\n",
      "0.10338914340192892\n",
      "0.10423789631181724\n",
      "0.10398225325091984\n",
      "0.10663252209477675\n",
      "0.10550421529106377\n",
      "0.11134572817900724\n",
      "0.097316441087146\n",
      "0.10224746418566691\n",
      "0.09503189456051984\n",
      "0.10663250996759718\n",
      "0.10175671285617964\n",
      "0.10648859141675775\n",
      "0.11593028672193598\n",
      "0.09954359789525728\n",
      "0.10703633838810692\n",
      "0.09981706767566825\n",
      "0.10666288542611356\n",
      "0.1098354083414616\n",
      "0.10505924303910529\n",
      "0.11760656058534348\n",
      "0.10374931153871478\n",
      "0.11679752121541903\n",
      "0.1161823702447164\n",
      "0.12065821047091482\n",
      "0.11341185015277246\n",
      "0.10729200541387655\n",
      "0.10308369584492734\n",
      "0.09882851629298019\n",
      "0.10668118141636637\n",
      "0.09138996386091244\n",
      "0.10927765129357178\n",
      "0.09568035113806975\n",
      "0.11412672351348913\n",
      "0.10535758073418784\n",
      "0.11041128278698048\n",
      "0.11455516619070126\n",
      "0.0999287278816769\n",
      "0.11089257874241516\n",
      "0.12022605493818192\n",
      "0.09622880457812573\n",
      "0.09905730453820756\n",
      "0.09417333808052086\n",
      "0.1022572546613076\n",
      "0.10644444100508164\n",
      "0.10991147494056414\n",
      "0.1044466986026786\n",
      "0.09331169215225299\n",
      "0.1074987349715028\n",
      "0.10894615793239432\n",
      "0.11462145931001168\n",
      "0.11606395453036342\n",
      "0.10992735557600161\n",
      "0.10447950036682373\n",
      "0.09317912928789708\n",
      "0.10899434643266402\n",
      "0.10689893061706475\n",
      "0.10638004364157483\n"
     ]
    }
   ],
   "source": [
    "def use_novel_sense(text, input_word):\n",
    "    stopwords = nltk.corpus.stopwords.words('english')\n",
    "    word_list = [word for word in text if word.isalpha() and word not in stopwords]\n",
    "    \n",
    "    \n",
    "    for i in range(len(word_list)):\n",
    "        word = word_list[i]\n",
    "        if word == input_word:\n",
    "            sum_similarity = 0\n",
    "            count = 0\n",
    "            for synset in wn.synsets(word):\n",
    "                for index in range(1, 11):\n",
    "                    if (i - index >= 0):\n",
    "                        context_word = word_list[i - index]\n",
    "                        for context_word_synset in wn.synsets(context_word):\n",
    "                            similarity = synset.path_similarity(context_word_synset)\n",
    "                            if (similarity != None):\n",
    "                                sum_similarity += similarity\n",
    "                                count += 1\n",
    "                    if (i + index < len(word_list)):\n",
    "                        context_word = word_list[i + index]\n",
    "                        for context_word_synset in wn.synsets(context_word):\n",
    "                            similarity = synset.path_similarity(context_word_synset)\n",
    "                            if (similarity != None):\n",
    "                                sum_similarity += similarity\n",
    "                                count += 1\n",
    "            print(sum_similarity / count)\n",
    "\n",
    "use_novel_sense(nltk.corpus.gutenberg.words('austen-emma.txt'), 'talk')"
   ]
  },
  {
   "cell_type": "markdown",
   "metadata": {},
   "source": [
    "### First additional question"
   ]
  },
  {
   "cell_type": "markdown",
   "metadata": {},
   "source": [
    "Get weather forcast of Atlanta for one week from National Weather Service"
   ]
  },
  {
   "cell_type": "code",
   "execution_count": 4,
   "metadata": {},
   "outputs": [
    {
     "data": {
      "text/html": [
       "<div>\n",
       "<style scoped>\n",
       "    .dataframe tbody tr th:only-of-type {\n",
       "        vertical-align: middle;\n",
       "    }\n",
       "\n",
       "    .dataframe tbody tr th {\n",
       "        vertical-align: top;\n",
       "    }\n",
       "\n",
       "    .dataframe thead th {\n",
       "        text-align: right;\n",
       "    }\n",
       "</style>\n",
       "<table border=\"1\" class=\"dataframe\">\n",
       "  <thead>\n",
       "    <tr style=\"text-align: right;\">\n",
       "      <th></th>\n",
       "      <th>period</th>\n",
       "      <th>short_desc</th>\n",
       "      <th>temp</th>\n",
       "      <th>desc</th>\n",
       "    </tr>\n",
       "  </thead>\n",
       "  <tbody>\n",
       "    <tr>\n",
       "      <td>0</td>\n",
       "      <td>Overnight</td>\n",
       "      <td>Clear</td>\n",
       "      <td>Low: 70 °F</td>\n",
       "      <td>Overnight: Clear, with a low around 70. Northe...</td>\n",
       "    </tr>\n",
       "    <tr>\n",
       "      <td>1</td>\n",
       "      <td>Tuesday</td>\n",
       "      <td>Sunny</td>\n",
       "      <td>High: 93 °F</td>\n",
       "      <td>Tuesday: Sunny, with a high near 93. Northeast...</td>\n",
       "    </tr>\n",
       "    <tr>\n",
       "      <td>2</td>\n",
       "      <td>TuesdayNight</td>\n",
       "      <td>Mostly Clear</td>\n",
       "      <td>Low: 71 °F</td>\n",
       "      <td>Tuesday Night: Mostly clear, with a low around...</td>\n",
       "    </tr>\n",
       "    <tr>\n",
       "      <td>3</td>\n",
       "      <td>Wednesday</td>\n",
       "      <td>Sunny</td>\n",
       "      <td>High: 95 °F</td>\n",
       "      <td>Wednesday: Sunny, with a high near 95. Calm wi...</td>\n",
       "    </tr>\n",
       "    <tr>\n",
       "      <td>4</td>\n",
       "      <td>WednesdayNight</td>\n",
       "      <td>Mostly Clear</td>\n",
       "      <td>Low: 71 °F</td>\n",
       "      <td>Wednesday Night: Mostly clear, with a low arou...</td>\n",
       "    </tr>\n",
       "    <tr>\n",
       "      <td>5</td>\n",
       "      <td>Thursday</td>\n",
       "      <td>Sunny</td>\n",
       "      <td>High: 91 °F</td>\n",
       "      <td>Thursday: Sunny, with a high near 91.</td>\n",
       "    </tr>\n",
       "    <tr>\n",
       "      <td>6</td>\n",
       "      <td>ThursdayNight</td>\n",
       "      <td>Clear</td>\n",
       "      <td>Low: 66 °F</td>\n",
       "      <td>Thursday Night: Clear, with a low around 66.</td>\n",
       "    </tr>\n",
       "    <tr>\n",
       "      <td>7</td>\n",
       "      <td>Friday</td>\n",
       "      <td>Sunny</td>\n",
       "      <td>High: 92 °F</td>\n",
       "      <td>Friday: Sunny, with a high near 92.</td>\n",
       "    </tr>\n",
       "    <tr>\n",
       "      <td>8</td>\n",
       "      <td>FridayNight</td>\n",
       "      <td>Clear</td>\n",
       "      <td>Low: 68 °F</td>\n",
       "      <td>Friday Night: Clear, with a low around 68.</td>\n",
       "    </tr>\n",
       "  </tbody>\n",
       "</table>\n",
       "</div>"
      ],
      "text/plain": [
       "           period    short_desc         temp  \\\n",
       "0       Overnight         Clear   Low: 70 °F   \n",
       "1         Tuesday         Sunny  High: 93 °F   \n",
       "2    TuesdayNight  Mostly Clear   Low: 71 °F   \n",
       "3       Wednesday         Sunny  High: 95 °F   \n",
       "4  WednesdayNight  Mostly Clear   Low: 71 °F   \n",
       "5        Thursday         Sunny  High: 91 °F   \n",
       "6   ThursdayNight         Clear   Low: 66 °F   \n",
       "7          Friday         Sunny  High: 92 °F   \n",
       "8     FridayNight         Clear   Low: 68 °F   \n",
       "\n",
       "                                                desc  \n",
       "0  Overnight: Clear, with a low around 70. Northe...  \n",
       "1  Tuesday: Sunny, with a high near 93. Northeast...  \n",
       "2  Tuesday Night: Mostly clear, with a low around...  \n",
       "3  Wednesday: Sunny, with a high near 95. Calm wi...  \n",
       "4  Wednesday Night: Mostly clear, with a low arou...  \n",
       "5              Thursday: Sunny, with a high near 91.  \n",
       "6       Thursday Night: Clear, with a low around 66.  \n",
       "7                Friday: Sunny, with a high near 92.  \n",
       "8         Friday Night: Clear, with a low around 68.  "
      ]
     },
     "execution_count": 4,
     "metadata": {},
     "output_type": "execute_result"
    }
   ],
   "source": [
    "raw = request.urlopen('https://forecast.weather.gov/MapClick.php?textField1=33.75&textField2=-84.39#.XW2QapP0m8o').read().decode('utf8')\n",
    "soup = BeautifulSoup(raw, 'html.parser')\n",
    "seven_day = soup.find(id=\"seven-day-forecast\")\n",
    "period_tags = seven_day.select(\".tombstone-container .period-name\")\n",
    "periods = [pt.get_text() for pt in period_tags]\n",
    "short_descs = [sd.get_text() for sd in seven_day.select(\".tombstone-container .short-desc\")]\n",
    "temps = [t.get_text() for t in seven_day.select(\".tombstone-container .temp\")]\n",
    "descs = [d[\"title\"] for d in seven_day.select(\".tombstone-container img\")]\n",
    "\n",
    "import pandas as pd\n",
    "weather = pd.DataFrame({\n",
    "    \"period\": periods,\n",
    "    \"short_desc\": short_descs,\n",
    "    \"temp\": temps,\n",
    "    \"desc\":descs\n",
    "})\n",
    "weather"
   ]
  },
  {
   "cell_type": "markdown",
   "metadata": {},
   "source": [
    "### Second additional question"
   ]
  },
  {
   "cell_type": "markdown",
   "metadata": {},
   "source": [
    "validate the email address by regular expression"
   ]
  },
  {
   "cell_type": "code",
   "execution_count": 7,
   "metadata": {},
   "outputs": [
    {
     "name": "stdout",
     "output_type": "stream",
     "text": [
      "True\n",
      "False\n",
      "True\n",
      "False\n"
     ]
    }
   ],
   "source": [
    "def validate_email_address(email):\n",
    "    if re.match(r'^([A-Za-z0-9_\\-\\.])+\\@([A-Za-z0-9_\\-\\.])+\\.([A-Za-z]{2,4})$', email) != None:\n",
    "        return True\n",
    "    else:\n",
    "        return False\n",
    "    \n",
    "print(validate_email_address('bxie41@gatech.edu'))\n",
    "print(validate_email_address('bxie41@gatech'))\n",
    "print(validate_email_address('bxie_41@gmail.com'))\n",
    "print(validate_email_address('bxie_41.gmail.com'))"
   ]
  }
 ],
 "metadata": {
  "kernelspec": {
   "display_name": "Python 3",
   "language": "python",
   "name": "python3"
  },
  "language_info": {
   "codemirror_mode": {
    "name": "ipython",
    "version": 3
   },
   "file_extension": ".py",
   "mimetype": "text/x-python",
   "name": "python",
   "nbconvert_exporter": "python",
   "pygments_lexer": "ipython3",
   "version": "3.6.9"
  }
 },
 "nbformat": 4,
 "nbformat_minor": 2
}
