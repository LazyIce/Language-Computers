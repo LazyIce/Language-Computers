{
 "cells": [
  {
   "cell_type": "markdown",
   "metadata": {},
   "source": [
    "### exercise2"
   ]
  },
  {
   "cell_type": "code",
   "execution_count": 1,
   "metadata": {},
   "outputs": [
    {
     "data": {
      "text/plain": [
       "'dish'"
      ]
     },
     "execution_count": 1,
     "metadata": {},
     "output_type": "execute_result"
    }
   ],
   "source": [
    "'dishes'[:-2]"
   ]
  },
  {
   "cell_type": "code",
   "execution_count": 2,
   "metadata": {},
   "outputs": [
    {
     "data": {
      "text/plain": [
       "'run'"
      ]
     },
     "execution_count": 2,
     "metadata": {},
     "output_type": "execute_result"
    }
   ],
   "source": [
    "'running'[:-4]"
   ]
  },
  {
   "cell_type": "code",
   "execution_count": 3,
   "metadata": {},
   "outputs": [
    {
     "data": {
      "text/plain": [
       "'nation'"
      ]
     },
     "execution_count": 3,
     "metadata": {},
     "output_type": "execute_result"
    }
   ],
   "source": [
    "'nationality'[:-5]"
   ]
  },
  {
   "cell_type": "code",
   "execution_count": 4,
   "metadata": {},
   "outputs": [
    {
     "data": {
      "text/plain": [
       "'do'"
      ]
     },
     "execution_count": 4,
     "metadata": {},
     "output_type": "execute_result"
    }
   ],
   "source": [
    "'undo'[2:]"
   ]
  },
  {
   "cell_type": "code",
   "execution_count": 5,
   "metadata": {},
   "outputs": [
    {
     "data": {
      "text/plain": [
       "'heat'"
      ]
     },
     "execution_count": 5,
     "metadata": {},
     "output_type": "execute_result"
    }
   ],
   "source": [
    "'preheat'[3:]"
   ]
  },
  {
   "cell_type": "markdown",
   "metadata": {},
   "source": [
    "### exercise4"
   ]
  },
  {
   "cell_type": "code",
   "execution_count": 6,
   "metadata": {},
   "outputs": [
    {
     "data": {
      "text/plain": [
       "'Pto'"
      ]
     },
     "execution_count": 6,
     "metadata": {},
     "output_type": "execute_result"
    }
   ],
   "source": [
    "monty = 'Monty Python'\n",
    "monty[6:11:2]"
   ]
  },
  {
   "cell_type": "code",
   "execution_count": 7,
   "metadata": {},
   "outputs": [
    {
     "data": {
      "text/plain": [
       "'otP'"
      ]
     },
     "execution_count": 7,
     "metadata": {},
     "output_type": "execute_result"
    }
   ],
   "source": [
    "monty[10:5:-2]"
   ]
  },
  {
   "cell_type": "code",
   "execution_count": 8,
   "metadata": {},
   "outputs": [
    {
     "data": {
      "text/plain": [
       "'onty Pytho'"
      ]
     },
     "execution_count": 8,
     "metadata": {},
     "output_type": "execute_result"
    }
   ],
   "source": [
    "monty[1:-1:1]"
   ]
  },
  {
   "cell_type": "code",
   "execution_count": 9,
   "metadata": {},
   "outputs": [
    {
     "data": {
      "text/plain": [
       "'nt n'"
      ]
     },
     "execution_count": 9,
     "metadata": {},
     "output_type": "execute_result"
    }
   ],
   "source": [
    "monty[-1:1:-3]"
   ]
  },
  {
   "cell_type": "code",
   "execution_count": 10,
   "metadata": {},
   "outputs": [
    {
     "data": {
      "text/plain": [
       "''"
      ]
     },
     "execution_count": 10,
     "metadata": {},
     "output_type": "execute_result"
    }
   ],
   "source": [
    "monty[5:5:2]"
   ]
  },
  {
   "cell_type": "markdown",
   "metadata": {},
   "source": [
    "### exercise6"
   ]
  },
  {
   "cell_type": "code",
   "execution_count": 11,
   "metadata": {},
   "outputs": [],
   "source": [
    "import nltk\n",
    "import re"
   ]
  },
  {
   "cell_type": "code",
   "execution_count": 12,
   "metadata": {},
   "outputs": [
    {
     "name": "stdout",
     "output_type": "stream",
     "text": [
      "{Hello} {world}\n"
     ]
    }
   ],
   "source": [
    "# a - one or more letters\n",
    "nltk.re_show(r'[a-zA-Z]+', 'Hello world')"
   ]
  },
  {
   "cell_type": "code",
   "execution_count": 13,
   "metadata": {},
   "outputs": [
    {
     "name": "stdout",
     "output_type": "stream",
     "text": [
      "{Hello} world\n"
     ]
    }
   ],
   "source": [
    "# b - one capital letter and zero or more lowercase letter\n",
    "nltk.re_show(r'[A-Z][a-z]*', 'Hello world')"
   ]
  },
  {
   "cell_type": "code",
   "execution_count": 14,
   "metadata": {},
   "outputs": [
    {
     "name": "stdout",
     "output_type": "stream",
     "text": [
      "{pet} likes {peet} and {pout}e\n"
     ]
    }
   ],
   "source": [
    "# c - the string that starts with p, then followed by no more than 2 lowercase vowels and ends with t\n",
    "nltk.re_show(r'p[aeiou]{,2}t', 'pet likes peet and poute')"
   ]
  },
  {
   "cell_type": "code",
   "execution_count": 15,
   "metadata": {},
   "outputs": [
    {
     "name": "stdout",
     "output_type": "stream",
     "text": [
      "{4.2} plus {2.8} equals {6}\n"
     ]
    }
   ],
   "source": [
    "# d - integer or decimal number\n",
    "nltk.re_show(r'\\d+(\\.\\d+)?', '4.2 plus 2.8 equals 6')"
   ]
  },
  {
   "cell_type": "code",
   "execution_count": 16,
   "metadata": {},
   "outputs": [
    {
     "name": "stdout",
     "output_type": "stream",
     "text": [
      "{}s{}w{}e{}e{}t{} {hon}e{}y{}\n"
     ]
    }
   ],
   "source": [
    "# e - zero or more sequence of (non-vowel, vowel, non-vowel)\n",
    "nltk.re_show(r'([^aeiou][aeiou][^aeiou])*', 'sweet honey')"
   ]
  },
  {
   "cell_type": "code",
   "execution_count": 17,
   "metadata": {},
   "outputs": [
    {
     "name": "stdout",
     "output_type": "stream",
     "text": [
      "{Language} {&} {Computers} {is} {interesting}\n"
     ]
    }
   ],
   "source": [
    "# f - one or more alphanumeric characters or one or more non-alphanumeric and non-whitespace charcters\n",
    "nltk.re_show(r'\\w+|[^\\w\\s]+', 'Language & Computers is interesting')"
   ]
  },
  {
   "cell_type": "markdown",
   "metadata": {},
   "source": [
    "### exercise8"
   ]
  },
  {
   "cell_type": "code",
   "execution_count": 25,
   "metadata": {},
   "outputs": [
    {
     "data": {
      "text/plain": [
       "'\\n\\n\\n\\n\\n\\n\\n\\n\\nGeorgia Tech\\n\\n\\n\\n\\n\\n\\n\\n\\n\\n\\n\\n\\n\\n\\n\\n<!--//--><![CDATA[//><!--\\nwindow.jQuery || document.write(\"<script src=\\'/sites/all/modules/jquery_update/replace/jquery/1.10/jquery.min.js\\'>\\\\x3C/script>\")\\n//--><!]]>\\n\\n\\n\\n\\n\\n<!--//--><![CDATA[//><!--\\n(function(i,s,o,g,r,a,m){i[\"GoogleAnalyticsObject\"]=r;i[r]=i[r]||function(){(i[r].q=i[r].q||[]).push(arguments)},i[r].l=1*new Date();a=s.createElement(o),m=s.getElementsByTagName(o)[0];a.async=1;a.src=g;m.parentNode.insertBefore(a,m)})(window,document,\"script\",\"https://www.google-analytics.com/analytics.js\",\"ga\");ga(\"create\", \"UA-3585337-1\", {\"cookieDomain\":\"auto\"});ga(\"set\", \"page\", location.pathname + location.search + location.hash);ga(\"send\", \"pageview\");\\n//--><!]]>\\n\\n\\n\\n\\n\\n<!--//--><![CDATA[//><!--\\njQuery.extend(Drupal.settings, {\"basePath\":\"\\\\/\",\"pathPrefix\":\"\",\"ajaxPageState\":{\"theme\":\"gt_tlw\",\"theme_token\":\"hUbGe1f2h6A5dAMhc0sPMwW7IyA7__kjqisPTZUS8w4\",\"js\":{\"\\\\/\\\\/ajax.googleapis.com\\\\/ajax\\\\/libs\\\\/jquery\\\\/1.10.2\\\\/jquery.min.js\":1,\"0\":1,\"misc\\\\/jquery.once.js\":1,\"misc\\\\/drupal.js\":1,\"sites\\\\/all\\\\/modules\\\\/google_cse\\\\/google_cse.js\":1,\"sites\\\\/all\\\\/modules\\\\/gt_ct_super_block\\\\/js\\\\/gt_ct_super_block.js\":1,\"sites\\\\/all\\\\/modules\\\\/google_analytics\\\\/googleanalytics.js\":1,\"1\":1,\"https:\\\\/\\\\/maxcdn.bootstrapcdn.com\\\\/bootstrap\\\\/4.3.0\\\\/js\\\\/bootstrap.min.js\":1,\"https:\\\\/\\\\/cdnjs.cloudflare.com\\\\/ajax\\\\/libs\\\\/popper.js\\\\/1.11.0\\\\/umd\\\\/popper.min.js\":1,\"sites\\\\/all\\\\/themes\\\\/gt\\\\/js\\\\/html5shiv.js\":1,\"sites\\\\/all\\\\/themes\\\\/gt\\\\/js\\\\/gt.js\":1,\"sites\\\\/all\\\\/themes\\\\/gt_tlw\\\\/js\\\\/gt_tlw.js\":1},\"css\":{\"modules\\\\/system\\\\/system.base.css\":1,\"modules\\\\/system\\\\/system.menus.css\":1,\"modules\\\\/system\\\\/system.messages.css\":1,\"modules\\\\/system\\\\/system.theme.css\":1,\"sites\\\\/all\\\\/modules\\\\/date\\\\/date_api\\\\/date.css\":1,\"sites\\\\/all\\\\/modules\\\\/date\\\\/date_popup\\\\/themes\\\\/datepicker.1.7.css\":1,\"sites\\\\/all\\\\/modules\\\\/date\\\\/date_repeat_field\\\\/date_repeat_field.css\":1,\"modules\\\\/field\\\\/theme\\\\/field.css\":1,\"sites\\\\/all\\\\/modules\\\\/google_cse\\\\/google_cse.css\":1,\"sites\\\\/all\\\\/modules\\\\/gtens\\\\/gtens.css\":1,\"sites\\\\/all\\\\/modules\\\\/gt_ct_super_block\\\\/styles\\\\/css\\\\/gt_ct_super_block.css\":1,\"sites\\\\/all\\\\/modules\\\\/gt_expanded\\\\/css\\\\/gt_expanded_menu.css\":1,\"sites\\\\/all\\\\/modules\\\\/gt_expanded\\\\/css\\\\/gt_expanded.css\":1,\"sites\\\\/all\\\\/modules\\\\/gt_expanded\\\\/css\\\\/gt_expanded_superblocks.css\":1,\"sites\\\\/all\\\\/modules\\\\/gt_expanded\\\\/css\\\\/gt_expanded_admin.css\":1,\"sites\\\\/all\\\\/modules\\\\/gt_graphics\\\\/css\\\\/gt_graphics.css\":1,\"modules\\\\/node\\\\/node.css\":1,\"modules\\\\/search\\\\/search.css\":1,\"modules\\\\/user\\\\/user.css\":1,\"sites\\\\/all\\\\/modules\\\\/views\\\\/css\\\\/views.css\":1,\"sites\\\\/all\\\\/modules\\\\/ckeditor\\\\/css\\\\/ckeditor.css\":1,\"sites\\\\/all\\\\/modules\\\\/ctools\\\\/css\\\\/ctools.css\":1,\"https:\\\\/\\\\/maxcdn.bootstrapcdn.com\\\\/font-awesome\\\\/4.7.0\\\\/css\\\\/font-awesome.min.css\":1,\"https:\\\\/\\\\/stackpath.bootstrapcdn.com\\\\/bootstrap\\\\/4.1.3\\\\/css\\\\/bootstrap.min.css\":1,\"https:\\\\/\\\\/fonts.googleapis.com\\\\/css?family=Roboto:300,300italic,400,400italic,500,500italic,700,700italic\":1,\"https:\\\\/\\\\/fonts.googleapis.com\\\\/css?family=Roboto+Slab:400,700\":1,\"https:\\\\/\\\\/fonts.googleapis.com\\\\/css?family=Roboto+Condensed:400,700\":1,\"https:\\\\/\\\\/fonts.googleapis.com\\\\/css?family=Abel\":1,\"sites\\\\/all\\\\/themes\\\\/gt\\\\/css\\\\/reset.css\":1,\"sites\\\\/all\\\\/themes\\\\/gt\\\\/css\\\\/default.css\":1,\"sites\\\\/all\\\\/themes\\\\/gt\\\\/css\\\\/fonts.css\":1,\"sites\\\\/all\\\\/themes\\\\/gt\\\\/css\\\\/typography.css\":1,\"sites\\\\/all\\\\/themes\\\\/gt_tlw\\\\/css\\\\/layout.css\":1,\"sites\\\\/all\\\\/themes\\\\/gt\\\\/css\\\\/blocks.css\":1,\"sites\\\\/all\\\\/themes\\\\/gt\\\\/css\\\\/content.css\":1,\"sites\\\\/all\\\\/themes\\\\/gt\\\\/css\\\\/editor.css\":1,\"sites\\\\/all\\\\/themes\\\\/gt\\\\/css\\\\/hg_reader.css\":1,\"sites\\\\/all\\\\/themes\\\\/gt\\\\/css\\\\/search.css\":1,\"sites\\\\/all\\\\/themes\\\\/gt\\\\/css\\\\/bootstrap.css\":1,\"sites\\\\/all\\\\/themes\\\\/gt\\\\/css\\\\/base.css\":1,\"sites\\\\/all\\\\/themes\\\\/gt_tlw\\\\/css\\\\/gt_tlw.css\":1,\"sites\\\\/all\\\\/themes\\\\/gt_tlw\\\\/css\\\\/gt_custom.css\":1,\"sites\\\\/all\\\\/themes\\\\/gt_tlw\\\\/css\\\\/gt_creating_the_next.css\":1,\"sites\\\\/all\\\\/themes\\\\/gt_tlw\\\\/css\\\\/gt_tlw_mm.css\":1,\"sites\\\\/all\\\\/themes\\\\/gt_tlw\\\\/css\\\\/tlw-emergency.css\":1,\"sites\\\\/all\\\\/themes\\\\/gt_tlw\\\\/css\\\\/tlw-id-specific.css\":1,\"sites\\\\/all\\\\/themes\\\\/gt_tlw\\\\/css\\\\/gt_video.css\":1,\"sites\\\\/all\\\\/themes\\\\/gt\\\\/css\\\\/print.css\":1}},\"googleCSE\":{\"cx\":\"009986248007870151065:-stxd8umba8\",\"language\":\"\",\"resultsWidth\":600,\"domain\":\"www.google.com\",\"showWaterMark\":true},\"googleanalytics\":{\"trackOutbound\":1,\"trackMailto\":1,\"trackDownload\":1,\"trackDownloadExtensions\":\"7z|aac|arc|arj|asf|asx|avi|bin|csv|doc(x|m)?|dot(x|m)?|exe|flv|gif|gz|gzip|hqx|jar|jpe?g|js|mp(2|3|4|e?g)|mov(ie)?|msi|msp|pdf|phps|png|ppt(x|m)?|pot(x|m)?|pps(x|m)?|ppam|sld(x|m)?|thmx|qtm?|ra(m|r)?|sea|sit|tar|tgz|torrent|txt|wav|wma|wmv|wpd|xls(x|m|b)?|xlt(x|m)|xlam|xml|z|zip\",\"trackUrlFragments\":1},\"urlIsAjaxTrusted\":{\"\\\\/search\\\\/google\":true}});\\n//--><!]]>\\n\\n\\n\\n\\nSkip to content\\n\\n\\n\\n\\n\\n\\n\\n\\n\\n\\n\\n\\n\\n\\n\\n\\n\\n\\n\\n\\n\\n\\n\\n\\n\\n\\n\\n\\n\\n\\n\\n\\n\\n\\n\\n\\n\\n\\n\\n\\n\\n\\n\\n\\n\\n\\nToggle navigation\\n\\n\\n\\n\\n\\n\\n\\n\\n\\n\\n\\n\\n\\n\\n\\n\\n\\nAbout About Georgia Tech\\nVisitor Information\\nOffice and Department Directory\\nStudent, Staff, and Faculty Directory\\nInstitute Leadership\\nCreating the Next...\\nEthics\\nStrategic Vision\\nCareers at Tech\\n\\nAcademics Academic Environment\\nMajors and Degrees\\nColleges and Schools\\nContinuing and Professional Education\\nGeorgia Tech Online\\nAcademic Calendar\\n\\nAdmissions Prospective Students\\nAdmissions Overview\\nCampus Tours\\nTuition and Costs\\nFinancial Aid & Scholarships\\nDigital Swag\\n\\nCampus Life Explore the Main Campus\\nStudent Activities\\n\\nAthletics Georgia Tech Yellow JacketsTickets\\nRamblin Wreck Store\\n\\n\\nResearch Core Research Areas\\nInnovation and Entrepreneurship\\nResearch News\\n\\nNews & Events News Center\\nExperts Guide\\nFeature Stories\\nCampus Calendar\\nMedia Contacts\\n\\n \\n\\n\\n\\nApply\\nGive\\n \\n\\n\\nSearch\\n\\nSearch form\\nEnter your keywords \\n\\n\\n\\n\\n \\n\\n\\n\\n\\n\\n\\n\\n\\n\\n\\n\\n\\n\\n\\n\\n\\n\\n\\n\\n\\n \\n\\n\\n\\nGeorgia Tech’s Economic Impact on Atlanta Clocks in at $3.3B in 2018\\n  The Georgia Institute of Technology’s impact on Atlanta’s economy grew 8.5% between 2017 and 2018, according to a new analysis released August 20.\\n\\n\\n\\n\\n\\n\\n\\n\\n\\n\\n\\n \\n\\n\\n\\nTeaming Up for Kids\\n  Working with clinicians, Georgia Tech researchers develop innovative technology to fill the gaps in pediatric research – and save children\\'s lives.\\n\\n\\n\\n\\n\\n\\n\\n\\n\\n\\n\\n \\n\\n\\n\\nAge of Empowerment: Diley Hernandez\\n  This Cuba native was in high school when she became fascinated by psychology. At Georgia Tech, she works with K-12 students and teachers to engage them in STEM subjects and careers.\\n\\n\\n\\n\\n\\n\\n\\n \\n\\n\\n\\n\\n\\n\\n\\nYou are here: GT Home\\n\\n\\n\\n\\nGeorgia Tech\\n\\n\\n\\n\\n\\n\\n\\n\\n\\n\\n\\n\\n\\n\\n\\n\\n\\nMajors and Degrees\\n\\nGeorgia Tech offers a wide variety of technologically focused degrees. Explore the more than 130 majors and minors available.\\n\\n\\n\\n \\n \\n\\n\\n\\n\\n\\n\\nProspective Students\\n\\nChoosing the right college can be complex. Learn more about Georgia Tech\\'s academics, admissions, campus life, costs, and aid.\\n\\n\\n\\n \\n \\n\\n\\n\\n\\n\\n\\nAdmissions\\n\\nOur holistic admission process considers your academic background as well as your pursuits and interests outside the classroom.\\n\\n\\n\\n \\n \\n\\n\\n\\n\\n\\n\\nAlumni Association\\n\\nConnecting our global network of alumni through events, volunteer opportunities, and career help.\\n\\n\\n\\n \\n \\n\\n\\n\\n\\n\\n\\nGovernment Relations\\n\\nWorking with government partners to advance the Institute and our surrounding communities.\\n\\n\\n\\n \\n \\n\\n\\n\\n\\n\\n\\nResearch\\n\\nBreaking down barriers and collaborating on research at the intersection of disciplines.\\n\\n\\n\\n \\n \\n\\n\\n\\n\\n\\nUpcoming Events\\n\\n\\n\\n\\n\\n\\n\\n\\n\\nFriday\\nAug\\n30\\n\\n\\n\\nVolleyball vs. Long Beach State\\nO\\'Keefe Gymnasium\\n7:00pm\\nVolleyball hosts California State University, Long Beach as part of the Georgia Tech Invitational.\\n\\n\\n\\n\\n\\n\\n\\nWednesday\\nSep\\n4\\n\\n\\n\\n11th Annual Diversity Symposium \\nAtlanta, GA\\n8:00am to 4:30pm\\nPlease save the date, September 4, 2019, for Georgia Tech’s 11th Annual Diversity Symposium, “Georgia Tech\\'s Racial Diversity Journey: Recognizing Our Past, Acknowledging Our Present, and Charting Our Future.”\\n\\n\\n\\n\\n\\nUpcoming Events | View Calendar\\n\\n \\n \\n\\nRecent News\\n\\n\\n\\n\\n\\n\\n  \\n\\n\\nResearch, Sponsored Activity Awards Top $1 Billion at Georgia Tech\\nAugust 26, 2019\\nResearch, economic development and other sponsored activities at Georgia Tech passed a significant milestone during the fiscal year that concluded on June 30.\\n\\n  \\n\\n  \\n\\n\\nMillions of Children Exposed to Opioid Misuse at Home, New Georgia Tech Study Reveals\\nAugust 21, 2019\\nThe study is from Lindsey Bullinger of the School of Public Policy and a co-author from Indiana University.\\n\\n  \\n\\n\\nRecent News | View News \\n \\n \\n\\n\\n\\n\\n\\n\\nCOMPREHENSIVE ADMINISTRATIVE REVIEW (CAR) UPDATES\\nGo to the CAR Report website\\n \\n \\n\\nNOTICE: 2019 Cybersecurity Incident and Institute Response\\n\\n\\nGeorgia Tech recently discovered that unauthorized access to a web application exposed the personal information for up to 1.3 million individuals. This page was created to provide up-to-date information on the data exposure as well as institutional responses. As the Institute continues to investigate this incident, we ask that you be patient and check this site for more information. Georgia Tech apologizes for the potential impact on the individuals affected and our larger community.\\nMore Information\\n\\n \\n\\n\\n \\n\\n\\n\\n\\n\\n\\n\\n\\nFacebook\\nTwitter\\nYouTube\\nLinkedIn\\nGoogle Plus\\nInstagram\\nFlickr\\nPinterest\\nRSS\\n\\n\\n\\n\\n\\nGeorgia Tech Resources\\n\\nOffices & Departments\\nNews Center\\nCampus Calendar\\nSpecial Events\\nGreenBuzz\\nInstitute CommunicationsVisitor ResourcesCampus Visits\\nDirections to Campus\\nVisitor Parking Information\\nGTvisitor Wireless Network Information\\nGeorgia Tech Global Learning Center\\nGeorgia Tech Hotel & Conference Center\\nBarnes & Noble at Georgia Tech\\nFerst Center for the Arts\\nRobert C. Williams Paper Museum\\n\\n\\n\\nColleges, Instructional Sites & Research\\n\\nColleges\\nCollege of Computing\\nCollege of Design\\nCollege of Engineering\\nCollege of Sciences\\nIvan Allen College of Liberal Arts\\nScheller College of Business\\nInstructional Sites\\nGeorgia Tech-Lorraine\\nGeorgia Tech-Savannah\\nGeorgia Tech-Shenzhen\\nGeorgia Tech Online\\nProfessional Education\\nThe Language Institute\\nGlobal Footprint\\nGlobal Engagement\\nResearch\\nGeorgia Tech Research Institute\\nResearch at Georgia Tech\\nExecutive Vice President for Research\\n\\n\\n\\nStudent & Parent Resources\\n\\nStudent Resources\\nApply\\nBuzzPort\\nBuzzcard\\nCareer Resources\\nCommencement\\nLibrary\\nStudent Life\\nStudent Entrepreneurship\\nStudy Abroad\\nCanvas\\nParent Resources\\nParent and Family Programs\\nStudent Life\\nScholarships & Financial Aid\\n\\n\\n\\nEmployee, Alumni, & Other Resources\\n\\nEmployees\\nAdministration and Finance\\nAdvising & Teaching\\nFaculty Affairs\\nFaculty Hiring\\nHuman Resources\\nOffice of the Provost\\nTechWorks\\nAlumni\\nAlumni Association\\nAlumni Career Services\\nGiving Back to Tech\\nOutreach\\nStartup Companies\\nEconomic Development\\nIndustry Engagement\\nGovernment & Community Partners\\nProfessional Education\\n\\nGeorgia Institute of TechnologyNorth Avenue, Atlanta, GA 30332Phone: 404-894-2000\\n\\n\\n\\n\\n\\n\\n\\n\\n\\n\\n\\n\\n\\nGeorgia Institute of Technology\\n                                North Avenue, Atlanta, GA 30332\\n                                404.894.2000\\n\\n\\n\\n\\nDirectory\\nEmergency Information\\nLegal & Privacy Information\\nHuman\\n                                    Trafficking Notice\\n\\n\\n\\n\\nAccessibility\\nAccountability\\nAccreditation\\nEmployment\\n\\n\\n\\n\\n\\n© Georgia Institute of\\n                                Technology\\n\\n\\nLogin\\n\\n\\n\\n\\n\\n\\n\\n\\n\\n\\n\\n\\n\\n\\n\\n'"
      ]
     },
     "execution_count": 25,
     "metadata": {},
     "output_type": "execute_result"
    }
   ],
   "source": [
    "from urllib import request\n",
    "from bs4 import BeautifulSoup\n",
    "\n",
    "def get_content_without_html(url):\n",
    "    html = request.urlopen(url).read().decode('utf8')\n",
    "    text = BeautifulSoup(html, 'html.parser').get_text()\n",
    "    \n",
    "    return text\n",
    "\n",
    "get_content_without_html('https://www.gatech.edu/')"
   ]
  },
  {
   "cell_type": "markdown",
   "metadata": {},
   "source": [
    "### exercise10"
   ]
  },
  {
   "cell_type": "code",
   "execution_count": 26,
   "metadata": {},
   "outputs": [
    {
     "name": "stdout",
     "output_type": "stream",
     "text": [
      "[('The', 3), ('dog', 3), ('gave', 4), ('John', 4), ('the', 3), ('newspaper', 9)]\n"
     ]
    }
   ],
   "source": [
    "sent = ['The', 'dog', 'gave', 'John', 'the', 'newspaper']\n",
    "result = [(w, len(w)) for w in sent]\n",
    "print(result)"
   ]
  },
  {
   "cell_type": "markdown",
   "metadata": {},
   "source": [
    "### exercise12"
   ]
  },
  {
   "cell_type": "code",
   "execution_count": 28,
   "metadata": {},
   "outputs": [
    {
     "name": "stdout",
     "output_type": "stream",
     "text": [
      "l\n",
      "a\n",
      "n\n",
      "g\n",
      "u\n",
      "a\n",
      "g\n",
      "e\n"
     ]
    }
   ],
   "source": [
    "for char in 'language':\n",
    "    print(char)"
   ]
  },
  {
   "cell_type": "markdown",
   "metadata": {},
   "source": [
    "### exercise14"
   ]
  },
  {
   "cell_type": "code",
   "execution_count": 32,
   "metadata": {},
   "outputs": [
    {
     "name": "stdout",
     "output_type": "stream",
     "text": [
      "['language', 'and', 'computers', 'are', 'interesting']\n",
      "['and', 'are', 'computers', 'interesting', 'language']\n",
      "None\n"
     ]
    }
   ],
   "source": [
    "words = ['language', 'and', 'computers', 'are', 'interesting']\n",
    "print(words)\n",
    "sort1 = words.sort()\n",
    "print(words)\n",
    "print(sort1)"
   ]
  },
  {
   "cell_type": "code",
   "execution_count": 34,
   "metadata": {},
   "outputs": [
    {
     "name": "stdout",
     "output_type": "stream",
     "text": [
      "['language', 'and', 'computers', 'are', 'interesting']\n",
      "['and', 'are', 'computers', 'interesting', 'language']\n"
     ]
    }
   ],
   "source": [
    "words = ['language', 'and', 'computers', 'are', 'interesting']\n",
    "sort2 = sorted(words)\n",
    "print(words)\n",
    "print(sort2)"
   ]
  },
  {
   "cell_type": "markdown",
   "metadata": {},
   "source": [
    "sort() function changes the original list and doesn't return a new list. sorted() function doesn't change the original list and return a new sorted list."
   ]
  },
  {
   "cell_type": "markdown",
   "metadata": {},
   "source": [
    "### exercise16"
   ]
  },
  {
   "cell_type": "code",
   "execution_count": 35,
   "metadata": {},
   "outputs": [
    {
     "data": {
      "text/plain": [
       "'Monty Python'"
      ]
     },
     "execution_count": 35,
     "metadata": {},
     "output_type": "execute_result"
    }
   ],
   "source": [
    "from prog import monty\n",
    "monty"
   ]
  },
  {
   "cell_type": "code",
   "execution_count": 36,
   "metadata": {},
   "outputs": [
    {
     "data": {
      "text/plain": [
       "'Monty Python'"
      ]
     },
     "execution_count": 36,
     "metadata": {},
     "output_type": "execute_result"
    }
   ],
   "source": [
    "import prog\n",
    "prog.monty"
   ]
  },
  {
   "cell_type": "markdown",
   "metadata": {},
   "source": [
    "### exercise18"
   ]
  },
  {
   "cell_type": "code",
   "execution_count": 44,
   "metadata": {},
   "outputs": [
    {
     "name": "stderr",
     "output_type": "stream",
     "text": [
      "[nltk_data] Downloading package webtext to /Users/binxie/nltk_data...\n",
      "[nltk_data]   Package webtext is already up-to-date!\n"
     ]
    },
    {
     "name": "stdout",
     "output_type": "stream",
     "text": [
      "['Wha', 'Whaaaaat', 'Whaddo', 'Whaddya', 'What', 'Whatcha', 'Whatchu', 'Whateva', 'Whatever', 'Whatsa', 'Wheeee', 'Wheel', 'Wheelbo', 'Wheelchair', 'When', 'Whenever', 'Where', 'Where-to', 'Wherefore', 'Which', 'Whichever', 'While', 'Whip', 'White', 'White-ass', 'Whitelist', 'Whiz', 'Whizzer', 'Whne', 'Who', 'Whoa', 'Whoever', 'Whole', 'Whoops', 'Whopper', 'Whoppers', 'Whore', 'Whose', 'Why', 'Why-Firefox', 'whacked', 'whacks', 'whaddaya', 'whale', 'what', \"what's-her-face\", 'whatchu', 'whateva', 'whatever', 'whatshisname', 'whatsoever', 'wheat', 'wheel', 'wheelbarrow', 'wheelchair', 'wheelchairs', 'wheels', 'wheezing', 'whell', 'when', 'whenever', 'where', 'whereabouts', 'whereas', 'wherein', 'wherever', 'whether', 'which', 'whiff', 'while', 'whilst', 'whimpers', 'whining', 'whinny', 'whip', 'whipped', 'whipping', 'whips', 'whirls', 'whiskey', 'whisper', 'whispering', 'whispers', 'whistle', 'whistles', 'whistling', 'white', 'white-ass', 'white-on-white', 'white-out', 'white-pepper', 'whitelist', 'whitelisting', 'whiteness', 'whitening', 'whites', 'whitespace', 'whith', 'whittling', 'who', 'whoever', 'whole', 'whom', 'whoop', 'whooping', 'whop', 'whopper', 'whore', 'whorebag', 'whorehouse', 'whorehouses', 'whoreish', 'whores', 'whose', 'whup', 'whupped', 'whuppin', 'why']\n"
     ]
    }
   ],
   "source": [
    "nltk.download('webtext')\n",
    "from nltk.corpus import webtext\n",
    "from nltk import word_tokenize\n",
    "\n",
    "text = webtext.raw()\n",
    "tokens = word_tokenize(text)\n",
    "wh_words = [word for word in tokens if word.startswith('wh') or word.startswith('Wh')]\n",
    "print(sorted(set(wh_words)))"
   ]
  },
  {
   "cell_type": "markdown",
   "metadata": {},
   "source": [
    "There are some words duplicated in this list, because of the presence of case distinctions, like \"What\" and \"what\"."
   ]
  },
  {
   "cell_type": "markdown",
   "metadata": {},
   "source": [
    "### exercise20"
   ]
  },
  {
   "cell_type": "code",
   "execution_count": 51,
   "metadata": {},
   "outputs": [
    {
     "name": "stdout",
     "output_type": "stream",
     "text": [
      "Volleyball vs. Long Beach State\n",
      "11th Annual Diversity Symposium \n"
     ]
    }
   ],
   "source": [
    "# find upcoming events of gatech\n",
    "raw = request.urlopen('https://www.gatech.edu').read().decode('utf8')\n",
    "soup = BeautifulSoup(raw)\n",
    "upcoming_events_div = soup.findAll('div', class_='gt-events-title')\n",
    "for div in upcoming_events_div:\n",
    "    print(div.a.contents[0])"
   ]
  },
  {
   "cell_type": "markdown",
   "metadata": {},
   "source": [
    "### exercise22"
   ]
  },
  {
   "cell_type": "code",
   "execution_count": 70,
   "metadata": {},
   "outputs": [
    {
     "name": "stdout",
     "output_type": "stream",
     "text": [
      "{'seconds', 'sanitise', 'idcta', 'determining', 'churches', 'trees', 'buildings', 'https', 'registers', 'provides', 'called', 'endif', 'perspectives', 'obstacles', 'paths', 'choices', 'autocomplete', 'timeout', 'destroyed', 'deselection', 'reads', 'others', 'rebels', 'medallist', 'fires', 'unescape', 'years', 'navigating', 'homepage', 'statusbar', 'var', 'sentenced', 'stylesheet', 'ul', 'allows', 'inbox', 'confirms', 'lights', 'sites', 'students', 'occurred', 'abused', 'scores', 'invoking', 'executing', 'wwhp', 'eslint', 'has', 'passers', 'favelas', 'ads', 'url', 'config', 'warned', 'responds', 'states', 'cookies', 'promo', 'eol', 'gsurl', 'adverts', 'bubbles', 'whales', 'bugs', 'requests', 'kids', 'stabilise', 'polyfill', 'int', 'brings', 'lang', 'optimizely', 'motorists', 'metro', 'illusions', 'trusted', 'html', 'tears', 'rebelling', 'nuking', 'leads', 'http', 'str', 'app', 'len', 'jailed', 'lotame', 'waits', 'fooled', 'moves', 'roofs', 'ignored', 'fishermen', 'deps', 'winds', 'cookie', 'minutes', 'eles', 'stories', 'src', 'runs', 'init', 'autocorrect', 'stats', 'autocapitalize', 'sponsored', 'tabindex', 'cdn', 'payloads', 'utils', 'nav', 'initialise', 'browsers', 'imposes', 'ol', 'gpt', 'documentaries', 'labels', 'hurricanes', 'params', 'beats', 'killed', 'configurable', 'dedicates', 'died', 'targets', 'bbcuser', 'pioneering', 'controls', 'async', 'avoided', 'pets', 'bbcdotcom', 'markets', 'pictures', 'arguments', 'adding', 'elements', 'sections', 'maxlength', 'tp', 'couples', 'fans', 'istats', 'max', 'img', 'hitting', 'href', 'ptrt', 'typeof', 'migrants', 'bundles', 'expires', 'hours', 'spellcheck', 'warns', 'evt', 'preferences', 'shocked', 'tides', 'haveyoursay', 'rockets', 'bbc', 'svg', 'bbccookies', 'objects', 'googletag', 'gs', 'oldonload', 'questions', 'rgba'}\n"
     ]
    }
   ],
   "source": [
    "def unknown(url):\n",
    "    text = get_content_without_html(url)\n",
    "    lowercased_substrings = re.findall(r'[\\s\\(\\[\\{]([a-z]+)', text)\n",
    "    words = nltk.corpus.words.words()\n",
    "    return set([word for word in lowercased_substrings if word not in words])\n",
    "\n",
    "print(unknown('http://news.bbc.co.uk/'))"
   ]
  },
  {
   "cell_type": "code",
   "execution_count": 72,
   "metadata": {},
   "outputs": [
    {
     "name": "stdout",
     "output_type": "stream",
     "text": [
      "{'seconds', 'died', 'passers', 'moves', 'roofs', 'targets', 'favelas', 'pioneering', 'controls', 'churches', 'avoided', 'fishermen', 'pets', 'markets', 'pictures', 'trees', 'sections', 'buildings', 'winds', 'minutes', 'couples', 'sites', 'warned', 'fans', 'responds', 'states', 'obstacles', 'hitting', 'kids', 'whales', 'runs', 'destroyed', 'migrants', 'deselection', 'reads', 'stabilise', 'others', 'brings', 'hours', 'rebels', 'medallist', 'warns', 'motorists', 'fires', 'metro', 'years', 'shocked', 'navigating', 'tides', 'illusions', 'haveyoursay', 'sentenced', 'rockets', 'tears', 'inbox', 'rebelling', 'nuking', 'confirms', 'imposes', 'students', 'lights', 'abused', 'scores', 'leads', 'app', 'documentaries', 'questions', 'jailed', 'hurricanes', 'fooled', 'beats', 'killed', 'dedicates'}\n"
     ]
    }
   ],
   "source": [
    "# improve the unknown\n",
    "def unknown(url):\n",
    "    raw = request.urlopen(url).read().decode('utf8')\n",
    "    soup = BeautifulSoup(raw, 'html.parser')\n",
    "    for script in soup([\"script\", \"style\"]):\n",
    "        script.decompose()\n",
    "    text = soup.get_text()\n",
    "    lowercased_substrings = re.findall(r'[\\s\\(\\[\\{]([a-z]+)', text)\n",
    "    words = nltk.corpus.words.words()\n",
    "    return set([word for word in lowercased_substrings if word not in words])\n",
    "\n",
    "print(unknown('http://news.bbc.co.uk/'))"
   ]
  },
  {
   "cell_type": "markdown",
   "metadata": {},
   "source": [
    "### exercise24"
   ]
  },
  {
   "cell_type": "code",
   "execution_count": 73,
   "metadata": {},
   "outputs": [
    {
     "name": "stdout",
     "output_type": "stream",
     "text": [
      "h3||0 w0r|d5w33t! 1 at3 a 5w33t y35t3rday!\n"
     ]
    }
   ],
   "source": [
    "def convert_text(text):\n",
    "    substitutions = [('e', '3'), ('i', '1'), ('o', '0'), ('l', '|'), ('s', '5'), ('\\.', '5w33t!'), ('ate', '8')]\n",
    "    text = text.lower()\n",
    "    for (origin, substitution) in substitutions:\n",
    "        text = re.sub(origin, substitution, text)\n",
    "        \n",
    "    return text\n",
    "\n",
    "print(convert_text('Hello World. I ate a sweet yesterday!'))"
   ]
  },
  {
   "cell_type": "code",
   "execution_count": 76,
   "metadata": {},
   "outputs": [
    {
     "name": "stdout",
     "output_type": "stream",
     "text": [
      "h3||0 w0r|daddy5w33t! 1 at3 a 5w33t y35t3rdaddyay!\n"
     ]
    }
   ],
   "source": [
    "def convert_text_with_my_substitutions(text):\n",
    "    substitutions = [('e', '3'), ('i', '1'), ('o', '0'), ('l', '|'), ('s', '5'), ('\\.', '5w33t!'), ('ate', '8'), ('d', 'daddy')]\n",
    "    text = text.lower()\n",
    "    for (origin, substitution) in substitutions:\n",
    "        text = re.sub(origin, substitution, text)\n",
    "        \n",
    "    return text\n",
    "\n",
    "print(convert_text_with_my_substitutions('Hello World. I ate a sweet yesterday!'))"
   ]
  },
  {
   "cell_type": "code",
   "execution_count": 77,
   "metadata": {},
   "outputs": [
    {
     "name": "stdout",
     "output_type": "stream",
     "text": [
      "h3||0 w0r|d5w33t! 1 at3 a $w33t y35t3rday!\n"
     ]
    }
   ],
   "source": [
    "def convert_text_with_s_substitution(text):\n",
    "    substitutions = [('e', '3'), ('i', '1'), ('o', '0'), ('l', '|'), ('^s|(?<=\\s)s', '$'), ('s', '5'), ('\\.', '5w33t!'), ('ate', '8')]\n",
    "    text = text.lower()\n",
    "    for (origin, substitution) in substitutions:\n",
    "        text = re.sub(origin, substitution, text)\n",
    "        \n",
    "    return text\n",
    "\n",
    "print(convert_text_with_s_substitution('Hello World. I ate a sweet yesterday!'))"
   ]
  },
  {
   "cell_type": "markdown",
   "metadata": {},
   "source": [
    "### exercise26"
   ]
  },
  {
   "cell_type": "code",
   "execution_count": null,
   "metadata": {},
   "outputs": [],
   "source": []
  }
 ],
 "metadata": {
  "kernelspec": {
   "display_name": "Python 3",
   "language": "python",
   "name": "python3"
  },
  "language_info": {
   "codemirror_mode": {
    "name": "ipython",
    "version": 3
   },
   "file_extension": ".py",
   "mimetype": "text/x-python",
   "name": "python",
   "nbconvert_exporter": "python",
   "pygments_lexer": "ipython3",
   "version": "3.6.9"
  }
 },
 "nbformat": 4,
 "nbformat_minor": 2
}
